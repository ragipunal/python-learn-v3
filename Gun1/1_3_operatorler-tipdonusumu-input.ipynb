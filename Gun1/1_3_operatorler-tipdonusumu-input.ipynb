{
 "cells": [
  {
   "cell_type": "markdown",
   "id": "fd62661d-328f-4eb2-bf12-ffc896ac79d7",
   "metadata": {},
   "source": [
    "## Operatörler\n",
    "\n",
    "![Op](Operatorler.png)"
   ]
  },
  {
   "cell_type": "markdown",
   "id": "7a08157a-f5b0-44ec-82ca-5d92e9d33394",
   "metadata": {},
   "source": [
    "### Aritmatik"
   ]
  },
  {
   "cell_type": "code",
   "execution_count": 1,
   "id": "0ab2bf48-da32-4856-b151-7b12f97517e5",
   "metadata": {},
   "outputs": [
    {
     "data": {
      "text/plain": [
       "6.0"
      ]
     },
     "execution_count": 1,
     "metadata": {},
     "output_type": "execute_result"
    }
   ],
   "source": [
    "4/2*3 # çarpma bölme arasında işlem önceliği yok, soldan sağa işlem yapar."
   ]
  },
  {
   "cell_type": "code",
   "execution_count": 2,
   "id": "22fc6f4c-932e-4577-a097-80af2e2e395a",
   "metadata": {},
   "outputs": [
    {
     "data": {
      "text/plain": [
       "0.6666666666666666"
      ]
     },
     "execution_count": 2,
     "metadata": {},
     "output_type": "execute_result"
    }
   ],
   "source": [
    "4/(2*3) # bu sebeple karışıklı olmasın diye işlem önceliği için parantez kullanabiliriz."
   ]
  },
  {
   "cell_type": "code",
   "execution_count": 3,
   "id": "9021d75a-a629-4096-b3a1-f7615f16bd89",
   "metadata": {},
   "outputs": [
    {
     "data": {
      "text/plain": [
       "15.0"
      ]
     },
     "execution_count": 3,
     "metadata": {},
     "output_type": "execute_result"
    }
   ],
   "source": [
    "8/2*(2+2)-1 # önce parantez içi hesaplandı. Sonra +,- sırası. soldan sağa işlem yapıldı."
   ]
  },
  {
   "cell_type": "code",
   "execution_count": 11,
   "id": "99542ead-ac59-44de-b60b-c4a9883112f9",
   "metadata": {},
   "outputs": [
    {
     "name": "stdout",
     "output_type": "stream",
     "text": [
      "hakedis : 3500.0\n"
     ]
    }
   ],
   "source": [
    "# soru:\n",
    "'''\n",
    "    Haftalık çalışma saati verilen bir kişinin hakedişini hesplayalım.\n",
    "    - min 40 saat çalıştığı varsayılsın\n",
    "    - 40 saat üzeri çalışırsa saatlik ücretin 1.5 katı ödensin.\n",
    "    - saatlik ücret değişebilir olsun\n",
    "'''\n",
    "\n",
    "toplam_calisma_saati = 60\n",
    "saatlik_ucret = 50\n",
    "\n",
    "hakedis = 40*saatlik_ucret + (toplam_calisma_saati-40)*(saatlik_ucret*1.5)\n",
    "# hakedis = saatlik_ucret*(40+1.5*(toplam_calisma_saati%40))\n",
    "#N=40 \n",
    "#hakedis = N*saatlik_ucret + (toplam_calisma_saati-N)*(saatlik_ucret*1.5)\n",
    "#if toplam_calisma_saati <= 40:\n",
    "#   hakedis = saatlik_ucret * toplam_calisma_saati\n",
    "#else:\n",
    "#   hakedis = saatlik_ucret*40  + (toplam_calisma_saati -40)*(saatlik_ucret*1.5)\n",
    "print(\"hakedis :\", hakedis)"
   ]
  },
  {
   "cell_type": "code",
   "execution_count": 15,
   "id": "f96a7470-3dbd-49ae-9a87-3371648c35a6",
   "metadata": {},
   "outputs": [
    {
     "name": "stdout",
     "output_type": "stream",
     "text": [
      "bebeğiniz doğalı 4 yıl ve 8 ay olmuştur.\n"
     ]
    }
   ],
   "source": [
    "# soru:\n",
    "'''\n",
    "    Ay olarak yaşı verilen bir bebeğin yıl ve ay olarak yaşını yazdıralım\n",
    "    56 aylık bir bebek doğalı 4 yıl 8 ay olmuştur.\n",
    "    \n",
    "    Bebeğiniz doğalu 4 yıl ve 8 ay olmuştur.\n",
    "'''\n",
    "\n",
    "kac_aylik = 56\n",
    "\n",
    "yil = kac_aylik // 12 # // ile tam kalanı alırız\n",
    "ay = kac_aylik % 12\n",
    "\n",
    "print(\"bebeğiniz doğalı\", yil, \"yıl ve\", ay,\"ay olmuştur.\")"
   ]
  },
  {
   "cell_type": "markdown",
   "id": "28582548-16b7-4d78-8930-94324e9ad02e",
   "metadata": {},
   "source": [
    "### Atama"
   ]
  },
  {
   "cell_type": "code",
   "execution_count": 16,
   "id": "5bc8f20c-0cc1-4228-906b-752980af2acc",
   "metadata": {},
   "outputs": [
    {
     "name": "stdout",
     "output_type": "stream",
     "text": [
      "1 2 3\n"
     ]
    }
   ],
   "source": [
    "# Klasik Atama\n",
    "x = 1\n",
    "\n",
    "# Zincir Atama\n",
    "x = y = 1\n",
    "\n",
    "# unpacking (deger ve degişken deseni aynı ise değerler değişkene atanır.)\n",
    "x,y,z = 1,2,3\n",
    "\n",
    "print(x,y,z)"
   ]
  },
  {
   "cell_type": "code",
   "execution_count": 17,
   "id": "1814921d-4cc9-41ab-9f26-84e06161a0e6",
   "metadata": {},
   "outputs": [
    {
     "data": {
      "text/plain": [
       "2"
      ]
     },
     "execution_count": 17,
     "metadata": {},
     "output_type": "execute_result"
    }
   ],
   "source": [
    "# cumulative işlemler\n",
    "\n",
    "x = 1\n",
    "# x = x + 1\n",
    "\n",
    "x += 1 # x'in önceki değerine aritmatik işlemler uygulayabiliriz.\n",
    "\n",
    "x"
   ]
  },
  {
   "cell_type": "markdown",
   "id": "de6b36c2-113c-4cbb-b06b-7c86894da03f",
   "metadata": {},
   "source": [
    "### Karşılaştırma\n",
    "\n",
    "- True / False döner"
   ]
  },
  {
   "cell_type": "code",
   "execution_count": 18,
   "id": "b6350e3b-631a-46b7-84ac-4502be5ef56d",
   "metadata": {},
   "outputs": [
    {
     "data": {
      "text/plain": [
       "False"
      ]
     },
     "execution_count": 18,
     "metadata": {},
     "output_type": "execute_result"
    }
   ],
   "source": [
    "# ör: x sayısı çift midir?\n",
    "\n",
    "x = 5\n",
    "\n",
    "x % 2 == 0 # == eşitmi diye sorduk"
   ]
  },
  {
   "cell_type": "markdown",
   "id": "15edee66-786d-4bbb-bf7c-9107e1f829a8",
   "metadata": {},
   "source": [
    "### Matıksal\n",
    "\n",
    "- `and` her iki yanındaki ifade True üretiyorsa sonuc True olur\n",
    "- `or` herhangi bir taraftaki ifade True üretiyorsa sonuc True olur\n",
    "- `not(sart)` şarttan dönen mantıksal sonucun tersini verir"
   ]
  },
  {
   "cell_type": "code",
   "execution_count": 20,
   "id": "fc1b3416-0e0d-4a02-881b-3290a8b1508b",
   "metadata": {},
   "outputs": [
    {
     "data": {
      "text/plain": [
       "False"
      ]
     },
     "execution_count": 20,
     "metadata": {},
     "output_type": "execute_result"
    }
   ],
   "source": [
    "#ör: girilen değer 2 ve 3 e tam bölünür mü?\n",
    "x = 9\n",
    "\n",
    "x%2 ==0 and x%3 ==0"
   ]
  },
  {
   "cell_type": "markdown",
   "id": "6503f433-fccf-4bef-b3d0-c4f4b310aa15",
   "metadata": {},
   "source": [
    "### Üyelik\n",
    "\n",
    "- `in` : bu nesne container içerisinde var mı?\n",
    "- `not in` yok mu?"
   ]
  },
  {
   "cell_type": "code",
   "execution_count": 21,
   "id": "127b95ba-69f3-420c-9264-27382f54cb5f",
   "metadata": {},
   "outputs": [
    {
     "data": {
      "text/plain": [
       "True"
      ]
     },
     "execution_count": 21,
     "metadata": {},
     "output_type": "execute_result"
    }
   ],
   "source": [
    "\"m\" in \"metin\" # m harfi metin ifadesinde var mı? str container tipidir.\n"
   ]
  },
  {
   "cell_type": "code",
   "execution_count": 22,
   "id": "d18b9b44-689a-4c16-9a8f-51722c4c0a85",
   "metadata": {},
   "outputs": [
    {
     "data": {
      "text/plain": [
       "False"
      ]
     },
     "execution_count": 22,
     "metadata": {},
     "output_type": "execute_result"
    }
   ],
   "source": [
    "100 in [1,2,3,4,5]"
   ]
  },
  {
   "cell_type": "code",
   "execution_count": 23,
   "id": "58672dad-f0ff-4380-aa18-26440db4e63d",
   "metadata": {},
   "outputs": [
    {
     "data": {
      "text/plain": [
       "True"
      ]
     },
     "execution_count": 23,
     "metadata": {},
     "output_type": "execute_result"
    }
   ],
   "source": [
    "100 not in [1,2,3,4,5]"
   ]
  },
  {
   "cell_type": "code",
   "execution_count": 25,
   "id": "47be2a80-03fa-431c-ae2e-b2cbc8d67e34",
   "metadata": {},
   "outputs": [
    {
     "data": {
      "text/plain": [
       "False"
      ]
     },
     "execution_count": 25,
     "metadata": {},
     "output_type": "execute_result"
    }
   ],
   "source": [
    "# soru:\n",
    "'''\n",
    "    sqrt fonksiyonu __builtins__ nesneler içerisinde yani gömülü nesneler içerisinde var mı?\n",
    "'''\n",
    "\n",
    "type(dir(__builtins__))\n",
    "\n",
    "\"sqrt\" in dir(__builtins__)"
   ]
  },
  {
   "cell_type": "code",
   "execution_count": 27,
   "id": "1ed05947-8243-409b-a4bb-8d4a9524c364",
   "metadata": {},
   "outputs": [
    {
     "data": {
      "text/plain": [
       "True"
      ]
     },
     "execution_count": 27,
     "metadata": {},
     "output_type": "execute_result"
    }
   ],
   "source": [
    "import math\n",
    "\"sqrt\" in dir(math) # math.sqrt vardır."
   ]
  },
  {
   "cell_type": "markdown",
   "id": "0c6ce129-c932-40cc-b027-e6ddeb529b84",
   "metadata": {},
   "source": [
    "### Tip Dönüşümü\n",
    "\n",
    "![Tip](TipDonusu.png)"
   ]
  },
  {
   "cell_type": "code",
   "execution_count": 28,
   "id": "69cc398d-85ed-4404-ab90-7e3ff39f920c",
   "metadata": {},
   "outputs": [
    {
     "data": {
      "text/plain": [
       "2.23"
      ]
     },
     "execution_count": 28,
     "metadata": {},
     "output_type": "execute_result"
    }
   ],
   "source": [
    "# implicit\n",
    "1+1.23 # int + float = float"
   ]
  },
  {
   "cell_type": "code",
   "execution_count": 30,
   "id": "3db61ecf-d8d9-46ae-a605-e907d5dfb036",
   "metadata": {},
   "outputs": [
    {
     "data": {
      "text/plain": [
       "'1 Kişi'"
      ]
     },
     "execution_count": 30,
     "metadata": {},
     "output_type": "execute_result"
    }
   ],
   "source": [
    "# explicit\n",
    "# 1 + \" Kişi\" ## Hata + operatörü ile int ve str için ne yapılacağını bilmiyor (desteklemiyor)\n",
    "\n",
    "str(1) + \" Kişi\" # str(1) ile tip dönüşümü yaptık, int -> str dönüşümü oldu"
   ]
  },
  {
   "cell_type": "code",
   "execution_count": 31,
   "id": "919c5d3c-3143-4e6a-bfcd-53e15a45c471",
   "metadata": {},
   "outputs": [
    {
     "data": {
      "text/plain": [
       "7"
      ]
     },
     "execution_count": 31,
     "metadata": {},
     "output_type": "execute_result"
    }
   ],
   "source": [
    "# Explicit dönüşüm mantıklı olmalı\n",
    "int(\"7\")"
   ]
  },
  {
   "cell_type": "code",
   "execution_count": 32,
   "id": "08b82938-9eb8-4d6f-8c51-23d9fc1cf355",
   "metadata": {},
   "outputs": [
    {
     "ename": "ValueError",
     "evalue": "invalid literal for int() with base 10: 'yedi'",
     "output_type": "error",
     "traceback": [
      "\u001b[1;31m---------------------------------------------------------------------------\u001b[0m",
      "\u001b[1;31mValueError\u001b[0m                                Traceback (most recent call last)",
      "Cell \u001b[1;32mIn [32], line 1\u001b[0m\n\u001b[1;32m----> 1\u001b[0m \u001b[38;5;28;43mint\u001b[39;49m\u001b[43m(\u001b[49m\u001b[38;5;124;43m\"\u001b[39;49m\u001b[38;5;124;43myedi\u001b[39;49m\u001b[38;5;124;43m\"\u001b[39;49m\u001b[43m)\u001b[49m\n",
      "\u001b[1;31mValueError\u001b[0m: invalid literal for int() with base 10: 'yedi'"
     ]
    }
   ],
   "source": [
    "int(\"yedi\")"
   ]
  },
  {
   "cell_type": "markdown",
   "id": "611a7064-133b-44dd-8836-dce833ac3aad",
   "metadata": {},
   "source": [
    "### tuple, list ve set dönüşümü\n",
    "\n",
    "- container elemanları diğer tipin elemanları haline gelebilir."
   ]
  },
  {
   "cell_type": "code",
   "execution_count": 33,
   "id": "cc19fdea-9c5d-4057-91b2-236f5f179b42",
   "metadata": {},
   "outputs": [
    {
     "data": {
      "text/plain": [
       "('m', 'e', 'r', 'h', 'a', 'b', 'a')"
      ]
     },
     "execution_count": 33,
     "metadata": {},
     "output_type": "execute_result"
    }
   ],
   "source": [
    "metin = \"merhaba\" # str container tipiydi\n",
    "\n",
    "tuple(metin)"
   ]
  },
  {
   "cell_type": "code",
   "execution_count": 34,
   "id": "01147f5f-bb30-410c-998d-caeeb472eac3",
   "metadata": {},
   "outputs": [
    {
     "data": {
      "text/plain": [
       "['m', 'e', 'r', 'h', 'a', 'b', 'a']"
      ]
     },
     "execution_count": 34,
     "metadata": {},
     "output_type": "execute_result"
    }
   ],
   "source": [
    "list(metin)"
   ]
  },
  {
   "cell_type": "code",
   "execution_count": 36,
   "id": "24c37bf0-a0db-4c64-9040-f356e9e63528",
   "metadata": {},
   "outputs": [
    {
     "data": {
      "text/plain": [
       "{'a', 'b', 'e', 'h', 'm', 'r'}"
      ]
     },
     "execution_count": 36,
     "metadata": {},
     "output_type": "execute_result"
    }
   ],
   "source": [
    "set(metin) # benzersiz tutar"
   ]
  },
  {
   "cell_type": "markdown",
   "id": "b730c860-7854-46f5-937f-aea8e664f8c7",
   "metadata": {},
   "source": [
    "### Kullanıcıdan değer almak için `input` kullanılır\n",
    "\n",
    "- kullanıcıdan gelen değer her zaman str dir.\n",
    "- bu değeri kullanmadan önce tip dönüşümü yapmak gerekir."
   ]
  },
  {
   "cell_type": "code",
   "execution_count": 38,
   "id": "49344229-93eb-4991-8ab7-1ad377551605",
   "metadata": {},
   "outputs": [
    {
     "name": "stdin",
     "output_type": "stream",
     "text": [
      "1. sayıyı giriniz:  12\n",
      "2. sayıyı giriniz:  34\n"
     ]
    },
    {
     "name": "stdout",
     "output_type": "stream",
     "text": [
      "1234\n",
      "46.0\n"
     ]
    }
   ],
   "source": [
    "s1 = input(\"1. sayıyı giriniz: \")\n",
    "s2 = input(\"2. sayıyı giriniz: \")\n",
    "\n",
    "print(s1 + s2)\n",
    "\n",
    "# tip dönüşümü yapalım\n",
    "s1 = float(s1)\n",
    "s2 = float(s2)\n",
    "\n",
    "print(s1+s2)"
   ]
  },
  {
   "cell_type": "code",
   "execution_count": null,
   "id": "a790c8c3-c6b3-4fbd-a2ce-44cfa74db882",
   "metadata": {},
   "outputs": [],
   "source": []
  }
 ],
 "metadata": {
  "kernelspec": {
   "display_name": "Python 3 (ipykernel)",
   "language": "python",
   "name": "python3"
  },
  "language_info": {
   "codemirror_mode": {
    "name": "ipython",
    "version": 3
   },
   "file_extension": ".py",
   "mimetype": "text/x-python",
   "name": "python",
   "nbconvert_exporter": "python",
   "pygments_lexer": "ipython3",
   "version": "3.9.5"
  }
 },
 "nbformat": 4,
 "nbformat_minor": 5
}
