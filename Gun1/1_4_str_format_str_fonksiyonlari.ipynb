{
 "cells": [
  {
   "cell_type": "markdown",
   "id": "b48ad45b-1fca-4103-9d33-4a816aa8f83e",
   "metadata": {},
   "source": [
    "### str tipi ve bazı str fonksiyonları"
   ]
  },
  {
   "cell_type": "code",
   "execution_count": 1,
   "id": "a5b28cab-0abe-4966-97ba-062238e9f128",
   "metadata": {},
   "outputs": [
    {
     "data": {
      "text/plain": [
       "['__add__',\n",
       " '__class__',\n",
       " '__contains__',\n",
       " '__delattr__',\n",
       " '__dir__',\n",
       " '__doc__',\n",
       " '__eq__',\n",
       " '__format__',\n",
       " '__ge__',\n",
       " '__getattribute__',\n",
       " '__getitem__',\n",
       " '__getnewargs__',\n",
       " '__gt__',\n",
       " '__hash__',\n",
       " '__init__',\n",
       " '__init_subclass__',\n",
       " '__iter__',\n",
       " '__le__',\n",
       " '__len__',\n",
       " '__lt__',\n",
       " '__mod__',\n",
       " '__mul__',\n",
       " '__ne__',\n",
       " '__new__',\n",
       " '__reduce__',\n",
       " '__reduce_ex__',\n",
       " '__repr__',\n",
       " '__rmod__',\n",
       " '__rmul__',\n",
       " '__setattr__',\n",
       " '__sizeof__',\n",
       " '__str__',\n",
       " '__subclasshook__',\n",
       " 'capitalize',\n",
       " 'casefold',\n",
       " 'center',\n",
       " 'count',\n",
       " 'encode',\n",
       " 'endswith',\n",
       " 'expandtabs',\n",
       " 'find',\n",
       " 'format',\n",
       " 'format_map',\n",
       " 'index',\n",
       " 'isalnum',\n",
       " 'isalpha',\n",
       " 'isascii',\n",
       " 'isdecimal',\n",
       " 'isdigit',\n",
       " 'isidentifier',\n",
       " 'islower',\n",
       " 'isnumeric',\n",
       " 'isprintable',\n",
       " 'isspace',\n",
       " 'istitle',\n",
       " 'isupper',\n",
       " 'join',\n",
       " 'ljust',\n",
       " 'lower',\n",
       " 'lstrip',\n",
       " 'maketrans',\n",
       " 'partition',\n",
       " 'removeprefix',\n",
       " 'removesuffix',\n",
       " 'replace',\n",
       " 'rfind',\n",
       " 'rindex',\n",
       " 'rjust',\n",
       " 'rpartition',\n",
       " 'rsplit',\n",
       " 'rstrip',\n",
       " 'split',\n",
       " 'splitlines',\n",
       " 'startswith',\n",
       " 'strip',\n",
       " 'swapcase',\n",
       " 'title',\n",
       " 'translate',\n",
       " 'upper',\n",
       " 'zfill']"
      ]
     },
     "execution_count": 1,
     "metadata": {},
     "output_type": "execute_result"
    }
   ],
   "source": [
    "dir(str)"
   ]
  },
  {
   "cell_type": "code",
   "execution_count": 2,
   "id": "2da32207-1db2-41ad-a855-253a27739ed4",
   "metadata": {},
   "outputs": [
    {
     "name": "stdout",
     "output_type": "stream",
     "text": [
      "Help on method_descriptor:\n",
      "\n",
      "upper(self, /)\n",
      "    Return a copy of the string converted to uppercase.\n",
      "\n"
     ]
    }
   ],
   "source": [
    "help(str.upper)"
   ]
  },
  {
   "cell_type": "code",
   "execution_count": 3,
   "id": "5aa02e7e-e1f4-4279-8f9c-7cb2fc3168e7",
   "metadata": {},
   "outputs": [
    {
     "data": {
      "text/plain": [
       "'Return a copy of the string converted to uppercase.'"
      ]
     },
     "execution_count": 3,
     "metadata": {},
     "output_type": "execute_result"
    }
   ],
   "source": [
    "str.upper.__doc__ # magic functionlar bazen çok kullanışlı olabiliyor. bazı özel işlevleri vardır."
   ]
  },
  {
   "cell_type": "code",
   "execution_count": 4,
   "id": "305b59c9-c522-4912-be65-22b19a970c96",
   "metadata": {},
   "outputs": [],
   "source": [
    "metin = \"MeRHaBA düNYAlI \" #sonunda boşluk var."
   ]
  },
  {
   "cell_type": "code",
   "execution_count": 5,
   "id": "35e1f5e2-d29a-4778-93f6-a9ce68c2c837",
   "metadata": {},
   "outputs": [
    {
     "data": {
      "text/plain": [
       "'Merhaba Dünyali '"
      ]
     },
     "execution_count": 5,
     "metadata": {},
     "output_type": "execute_result"
    }
   ],
   "source": [
    "# fonksyion kullanım şekilleri\n",
    "\n",
    "# 1.\n",
    "str.title(metin)"
   ]
  },
  {
   "cell_type": "code",
   "execution_count": 6,
   "id": "c523490c-afd9-4274-a293-820db1e774c8",
   "metadata": {},
   "outputs": [
    {
     "data": {
      "text/plain": [
       "'Merhaba Dünyali '"
      ]
     },
     "execution_count": 6,
     "metadata": {},
     "output_type": "execute_result"
    }
   ],
   "source": [
    "# 2.\n",
    "metin.title()"
   ]
  },
  {
   "cell_type": "code",
   "execution_count": 7,
   "id": "4fbb3521-c250-4152-8046-7a3f32f11c02",
   "metadata": {},
   "outputs": [
    {
     "data": {
      "text/plain": [
       "16"
      ]
     },
     "execution_count": 7,
     "metadata": {},
     "output_type": "execute_result"
    }
   ],
   "source": [
    "# 3.\n",
    "metin.__len__()"
   ]
  },
  {
   "cell_type": "code",
   "execution_count": 8,
   "id": "5b6b1497-ad13-4650-8c67-736be82d3ef7",
   "metadata": {},
   "outputs": [
    {
     "data": {
      "text/plain": [
       "16"
      ]
     },
     "execution_count": 8,
     "metadata": {},
     "output_type": "execute_result"
    }
   ],
   "source": [
    "len(metin) # containerlar çalışır"
   ]
  },
  {
   "cell_type": "code",
   "execution_count": 9,
   "id": "c7b8b80f-4352-4c93-9f9c-6a02f0dea3f3",
   "metadata": {},
   "outputs": [
    {
     "data": {
      "text/plain": [
       "'MeRHaBA düNYAlI'"
      ]
     },
     "execution_count": 9,
     "metadata": {},
     "output_type": "execute_result"
    }
   ],
   "source": [
    "# 4.\n",
    "metin.strip(\" \") # başta ve sondaki belirtilen karakteri temizler"
   ]
  },
  {
   "cell_type": "code",
   "execution_count": 10,
   "id": "eb091839-2346-49e7-8ba2-f7cf1dc908d1",
   "metadata": {},
   "outputs": [
    {
     "data": {
      "text/plain": [
       "'Merhaba Dünyali'"
      ]
     },
     "execution_count": 10,
     "metadata": {},
     "output_type": "execute_result"
    }
   ],
   "source": [
    "metin.strip(\" \").title()"
   ]
  },
  {
   "cell_type": "code",
   "execution_count": 11,
   "id": "1fc454f9-e450-4be9-8677-405cf26f071a",
   "metadata": {},
   "outputs": [
    {
     "data": {
      "text/plain": [
       "'Merhaba Dünyali'"
      ]
     },
     "execution_count": 11,
     "metadata": {},
     "output_type": "execute_result"
    }
   ],
   "source": [
    "# 5.\n",
    "str.title(metin.strip(\" \")) # iç içe kullanılabilir."
   ]
  },
  {
   "cell_type": "code",
   "execution_count": 12,
   "id": "ad0daaba-7cc5-496f-af68-df2537280cfd",
   "metadata": {},
   "outputs": [
    {
     "data": {
      "text/plain": [
       "2"
      ]
     },
     "execution_count": 12,
     "metadata": {},
     "output_type": "execute_result"
    }
   ],
   "source": [
    "# Bazı fonksiyonlar\n",
    "\n",
    "metin.count(\"A\") # büyük küçük harfe duyarlıdır"
   ]
  },
  {
   "cell_type": "code",
   "execution_count": 13,
   "id": "f9b22a1e-a894-4685-8432-aa120e840563",
   "metadata": {},
   "outputs": [
    {
     "data": {
      "text/plain": [
       "3"
      ]
     },
     "execution_count": 13,
     "metadata": {},
     "output_type": "execute_result"
    }
   ],
   "source": [
    "metin.lower().count(\"a\")"
   ]
  },
  {
   "cell_type": "code",
   "execution_count": 14,
   "id": "86e098cc-faeb-43ed-9e5d-308cdc9f2f26",
   "metadata": {},
   "outputs": [
    {
     "data": {
      "text/plain": [
       "'.......MeRHaBA düNYAlI .......'"
      ]
     },
     "execution_count": 14,
     "metadata": {},
     "output_type": "execute_result"
    }
   ],
   "source": [
    "metin.center(30,\".\") # 30 karakter içerisine ortala, ikinci parametredeki karakteri boşluklara yazdır."
   ]
  },
  {
   "cell_type": "code",
   "execution_count": 15,
   "id": "457c6762-ea76-40ff-bf4b-531432d6d0f8",
   "metadata": {},
   "outputs": [
    {
     "data": {
      "text/plain": [
       "6"
      ]
     },
     "execution_count": 15,
     "metadata": {},
     "output_type": "execute_result"
    }
   ],
   "source": [
    "metin.find(\"A\") # ilk indexini verir"
   ]
  },
  {
   "cell_type": "code",
   "execution_count": 16,
   "id": "2f2aee5f-64ad-4745-8ba3-c543dc40c71b",
   "metadata": {},
   "outputs": [
    {
     "data": {
      "text/plain": [
       "'A'"
      ]
     },
     "execution_count": 16,
     "metadata": {},
     "output_type": "execute_result"
    }
   ],
   "source": [
    "metin[6]"
   ]
  },
  {
   "cell_type": "code",
   "execution_count": 17,
   "id": "60fdb6f9-0e99-4ff4-9fc5-f51559c2a28e",
   "metadata": {},
   "outputs": [
    {
     "data": {
      "text/plain": [
       "'MeRhaba düNYAlI '"
      ]
     },
     "execution_count": 17,
     "metadata": {},
     "output_type": "execute_result"
    }
   ],
   "source": [
    "metin.replace(\"HaBA\",\"haba\") # birinci parametredeki ifadeyi ikinci parametre ile değiştir."
   ]
  },
  {
   "cell_type": "code",
   "execution_count": 18,
   "id": "4db2e747-8550-4be5-ae0b-5b0756bed53c",
   "metadata": {},
   "outputs": [
    {
     "data": {
      "text/plain": [
       "2"
      ]
     },
     "execution_count": 18,
     "metadata": {},
     "output_type": "execute_result"
    }
   ],
   "source": [
    "# soru\n",
    "# cümlede kaç kelime vardır\n",
    "\n",
    "metin.strip(\" \").count(\" \") + 1"
   ]
  },
  {
   "cell_type": "markdown",
   "id": "3519fb9f-d945-455a-ad8e-7f80c66c6ced",
   "metadata": {},
   "source": [
    "### split ve join"
   ]
  },
  {
   "cell_type": "code",
   "execution_count": 19,
   "id": "57360b62-e3f8-47cf-a8da-fa7444fcf66c",
   "metadata": {},
   "outputs": [
    {
     "data": {
      "text/plain": [
       "['MeRHaBA', 'düNYAlI']"
      ]
     },
     "execution_count": 19,
     "metadata": {},
     "output_type": "execute_result"
    }
   ],
   "source": [
    "metin.split() # belli bir ayaraca göre her parçayı liste elemanı olarak verir."
   ]
  },
  {
   "cell_type": "code",
   "execution_count": 20,
   "id": "1f58d6ab-7f81-46b2-b9fc-7d017cc20346",
   "metadata": {},
   "outputs": [
    {
     "data": {
      "text/plain": [
       "['MeRHaBA düNYAlI ']"
      ]
     },
     "execution_count": 20,
     "metadata": {},
     "output_type": "execute_result"
    }
   ],
   "source": [
    "metin.splitlines() # new line karakterine göre ayrım yapar. \\n \\r vs 13 tane var."
   ]
  },
  {
   "cell_type": "code",
   "execution_count": 21,
   "id": "ff9364c8-6f12-47e4-94a7-7b3def1f3a58",
   "metadata": {},
   "outputs": [
    {
     "data": {
      "text/plain": [
       "'MeRHaBA'"
      ]
     },
     "execution_count": 21,
     "metadata": {},
     "output_type": "execute_result"
    }
   ],
   "source": [
    "# ör:\n",
    "# metinin ilk kelimesini alalım\n",
    "metin.split()[0]"
   ]
  },
  {
   "cell_type": "code",
   "execution_count": 22,
   "id": "4cafa698-ad90-403c-aac4-916e43d960d6",
   "metadata": {},
   "outputs": [
    {
     "data": {
      "text/plain": [
       "'düNYAlI'"
      ]
     },
     "execution_count": 22,
     "metadata": {},
     "output_type": "execute_result"
    }
   ],
   "source": [
    "#ör:\n",
    "# son kelimeyi alalım\n",
    "son_kelime_indexi = len(metin.split()) - 1\n",
    "metin.split()[son_kelime_indexi]"
   ]
  },
  {
   "cell_type": "code",
   "execution_count": 23,
   "id": "25ec1f49-854f-4e45-a329-ab2312c7bbd7",
   "metadata": {},
   "outputs": [
    {
     "data": {
      "text/plain": [
       "'düNYAlI'"
      ]
     },
     "execution_count": 23,
     "metadata": {},
     "output_type": "execute_result"
    }
   ],
   "source": [
    "# kısa yolu\n",
    "metin.split()[-1] # sondan getir."
   ]
  },
  {
   "cell_type": "code",
   "execution_count": 24,
   "id": "fc53f213-6644-45df-9fbe-7fd7452a3122",
   "metadata": {},
   "outputs": [
    {
     "data": {
      "text/plain": [
       "'MeRHaBA;düNYAlI'"
      ]
     },
     "execution_count": 24,
     "metadata": {},
     "output_type": "execute_result"
    }
   ],
   "source": [
    "# join container elemanları ile belirtilen karakteri birleştirir geriye str döndürür. container elemanlarıda str olmalıdır\n",
    "\";\".join(metin.split())"
   ]
  },
  {
   "cell_type": "markdown",
   "id": "940ff582-c448-41b0-821f-347cf5d8159e",
   "metadata": {},
   "source": [
    "### is... fonksiyonlar"
   ]
  },
  {
   "cell_type": "code",
   "execution_count": 25,
   "id": "7369d738-f530-497c-9616-e4020ecfcca0",
   "metadata": {},
   "outputs": [
    {
     "data": {
      "text/plain": [
       "True"
      ]
     },
     "execution_count": 25,
     "metadata": {},
     "output_type": "execute_result"
    }
   ],
   "source": [
    "# ifadeyi komple kontrol edenler\n",
    "\n",
    "# pozitif tam sayı mı?\n",
    "\"2022\".isdigit()"
   ]
  },
  {
   "cell_type": "code",
   "execution_count": 26,
   "id": "30e5c33f-4b70-4e06-8d85-1c4e69db855e",
   "metadata": {},
   "outputs": [
    {
     "data": {
      "text/plain": [
       "False"
      ]
     },
     "execution_count": 26,
     "metadata": {},
     "output_type": "execute_result"
    }
   ],
   "source": [
    "\"-2022\".isdigit()"
   ]
  },
  {
   "cell_type": "code",
   "execution_count": 27,
   "id": "c01cde39-fa47-4d0b-8bea-f481c2875e82",
   "metadata": {},
   "outputs": [
    {
     "data": {
      "text/plain": [
       "True"
      ]
     },
     "execution_count": 27,
     "metadata": {},
     "output_type": "execute_result"
    }
   ],
   "source": [
    "\" \".isspace() # boşluk mu?"
   ]
  },
  {
   "cell_type": "code",
   "execution_count": 29,
   "id": "cb818d5c-60b6-4021-8bdc-5bebe7cb31b9",
   "metadata": {},
   "outputs": [
    {
     "data": {
      "text/plain": [
       "True"
      ]
     },
     "execution_count": 29,
     "metadata": {},
     "output_type": "execute_result"
    }
   ],
   "source": [
    "# karakter bazlı kontrol edenler\n",
    "\"2022\".isnumeric() # karakterler numaradan mı oluşur"
   ]
  },
  {
   "cell_type": "code",
   "execution_count": 30,
   "id": "038daf15-97b4-49b6-b459-18dcdf6d38e0",
   "metadata": {},
   "outputs": [
    {
     "data": {
      "text/plain": [
       "True"
      ]
     },
     "execution_count": 30,
     "metadata": {},
     "output_type": "execute_result"
    }
   ],
   "source": [
    "\"metin\".isalpha() # alfabedki karakterler mi?"
   ]
  },
  {
   "cell_type": "code",
   "execution_count": 31,
   "id": "8a279537-ed6d-4af0-9e2b-6b5f58f24bcc",
   "metadata": {},
   "outputs": [
    {
     "data": {
      "text/plain": [
       "True"
      ]
     },
     "execution_count": 31,
     "metadata": {},
     "output_type": "execute_result"
    }
   ],
   "source": [
    "\"one2\".isalnum() # karakter veya sayı mı?"
   ]
  },
  {
   "cell_type": "code",
   "execution_count": 32,
   "id": "dcca9fb0-6618-4bdf-b30d-d27c2de3c84e",
   "metadata": {},
   "outputs": [
    {
     "data": {
      "text/plain": [
       "False"
      ]
     },
     "execution_count": 32,
     "metadata": {},
     "output_type": "execute_result"
    }
   ],
   "source": [
    "\"pil@v\".isalnum() # @ işareti olduğu için False döner"
   ]
  },
  {
   "cell_type": "markdown",
   "id": "684d4b29-58fc-4dff-9280-c143175ae213",
   "metadata": {},
   "source": [
    "### Kaçış Katakteri ve Özel İfadeler"
   ]
  },
  {
   "cell_type": "code",
   "execution_count": 33,
   "id": "c0dc2a04-9970-4bf8-9784-d01747103c28",
   "metadata": {},
   "outputs": [
    {
     "name": "stdout",
     "output_type": "stream",
     "text": [
      "İstanbul'un taşı toprağı altındır.\n"
     ]
    }
   ],
   "source": [
    "# metin yazarken \" ve ' kullanımı makul şekilde olmalıdır.\n",
    "print(\"İstanbul'un taşı toprağı altındır.\")"
   ]
  },
  {
   "cell_type": "code",
   "execution_count": 35,
   "id": "71533118-76f4-4fa0-a8c5-08d275cacdd3",
   "metadata": {},
   "outputs": [
    {
     "ename": "SyntaxError",
     "evalue": "invalid syntax (3358561776.py, line 2)",
     "output_type": "error",
     "traceback": [
      "\u001b[1;36m  Cell \u001b[1;32mIn [35], line 2\u001b[1;36m\u001b[0m\n\u001b[1;33m    print(\"Bir şair: \"İstanbul'un taşı toprağı altındır.\" der.\")\u001b[0m\n\u001b[1;37m                      ^\u001b[0m\n\u001b[1;31mSyntaxError\u001b[0m\u001b[1;31m:\u001b[0m invalid syntax\n"
     ]
    }
   ],
   "source": [
    "# bazen tüm tırnak kombinasyonlarını kullanmamız gerekebilir\n",
    "print(\"Bir şair: \"İstanbul'un taşı toprağı altındır.\" der.\")"
   ]
  },
  {
   "cell_type": "code",
   "execution_count": 36,
   "id": "0622537f-c4bb-4dd4-a7b5-11e8fecd1591",
   "metadata": {},
   "outputs": [
    {
     "name": "stdout",
     "output_type": "stream",
     "text": [
      "Bir şair: \"İstanbul'un taşı toprağı altındır\" der.\n"
     ]
    }
   ],
   "source": [
    "# kaçış ifadeleri ile olduğu gibi yaz özel işlev yükleme diyebiliriz. kaçış ifadesi \\ dir.\n",
    "print(\"Bir şair: \\\"İstanbul'un taşı toprağı altındır\\\" der.\")"
   ]
  },
  {
   "cell_type": "code",
   "execution_count": 37,
   "id": "5c461090-9dfe-4c16-8fb4-c0d06dff943b",
   "metadata": {},
   "outputs": [
    {
     "name": "stdout",
     "output_type": "stream",
     "text": [
      "C:\n",
      "albur\n"
     ]
    }
   ],
   "source": [
    "# \\n \\r \\t ifadelerinin özel anlamları vardır.\n",
    "print(\"C:\\nalbur\") # \\n ile alt satıra geçilir."
   ]
  },
  {
   "cell_type": "code",
   "execution_count": 38,
   "id": "95cd4498-fc27-470a-8194-6dc9a195ca16",
   "metadata": {},
   "outputs": [
    {
     "name": "stdout",
     "output_type": "stream",
     "text": [
      "C:\\nalbur\n"
     ]
    }
   ],
   "source": [
    "# nasıl çözeriz\n",
    "print(\"C:\\\\nalbur\")"
   ]
  },
  {
   "cell_type": "code",
   "execution_count": 39,
   "id": "0b829670-bef5-401a-bb87-5296d75e61f0",
   "metadata": {},
   "outputs": [
    {
     "name": "stdout",
     "output_type": "stream",
     "text": [
      "C:\\nalbur\n"
     ]
    }
   ],
   "source": [
    "# raw string\n",
    "print(r\"C:\\nalbur\")"
   ]
  },
  {
   "cell_type": "code",
   "execution_count": 40,
   "id": "b88f479d-977c-4200-ad73-9353a4196ec7",
   "metadata": {},
   "outputs": [
    {
     "name": "stdout",
     "output_type": "stream",
     "text": [
      "'C:\\nalbur'\n"
     ]
    }
   ],
   "source": [
    "# repr da raw string üretir.\n",
    "yol = \"C:\\nalbur\"\n",
    "print(repr(yol))"
   ]
  },
  {
   "cell_type": "markdown",
   "id": "443f197e-ccdb-44fb-9159-0f4bc09c5b44",
   "metadata": {},
   "source": [
    "### ASCII, UNICODE"
   ]
  },
  {
   "cell_type": "code",
   "execution_count": 41,
   "id": "3485e649-a8ea-43c1-a5fc-47c0b9bdea62",
   "metadata": {},
   "outputs": [
    {
     "data": {
      "text/plain": [
       "65"
      ]
     },
     "execution_count": 41,
     "metadata": {},
     "output_type": "execute_result"
    }
   ],
   "source": [
    "ord(\"A\") # ASCII"
   ]
  },
  {
   "cell_type": "code",
   "execution_count": 42,
   "id": "3c67e740-2260-4d9c-9cbe-cd530d7643f2",
   "metadata": {},
   "outputs": [
    {
     "data": {
      "text/plain": [
       "32"
      ]
     },
     "execution_count": 42,
     "metadata": {},
     "output_type": "execute_result"
    }
   ],
   "source": [
    "ord(\" \")"
   ]
  },
  {
   "cell_type": "code",
   "execution_count": 43,
   "id": "30fb56f9-ee53-42d3-9b56-d2bc39c8db62",
   "metadata": {},
   "outputs": [
    {
     "data": {
      "text/plain": [
       "10"
      ]
     },
     "execution_count": 43,
     "metadata": {},
     "output_type": "execute_result"
    }
   ],
   "source": [
    "ord(\"\\n\")"
   ]
  },
  {
   "cell_type": "code",
   "execution_count": 44,
   "id": "b845f89b-6712-4869-8f60-5dce026f744b",
   "metadata": {},
   "outputs": [
    {
     "data": {
      "text/plain": [
       "9"
      ]
     },
     "execution_count": 44,
     "metadata": {},
     "output_type": "execute_result"
    }
   ],
   "source": [
    "ord(\"\\t\")"
   ]
  },
  {
   "cell_type": "code",
   "execution_count": 45,
   "id": "c710ae93-3c74-4fb2-9343-1e2ea0e40f02",
   "metadata": {},
   "outputs": [
    {
     "data": {
      "text/plain": [
       "13"
      ]
     },
     "execution_count": 45,
     "metadata": {},
     "output_type": "execute_result"
    }
   ],
   "source": [
    "ord(\"\\r\")"
   ]
  },
  {
   "cell_type": "code",
   "execution_count": 46,
   "id": "14f0187e-51a3-4fa7-b924-0b0d51ac9109",
   "metadata": {},
   "outputs": [
    {
     "data": {
      "text/plain": [
       "'A'"
      ]
     },
     "execution_count": 46,
     "metadata": {},
     "output_type": "execute_result"
    }
   ],
   "source": [
    "chr(65) # karakter"
   ]
  },
  {
   "cell_type": "code",
   "execution_count": 47,
   "id": "63454194-4b6e-43ae-9be7-21c0392154be",
   "metadata": {},
   "outputs": [
    {
     "data": {
      "text/plain": [
       "1601"
      ]
     },
     "execution_count": 47,
     "metadata": {},
     "output_type": "execute_result"
    }
   ],
   "source": [
    "# unicode\n",
    "ord(\"ف\")"
   ]
  },
  {
   "cell_type": "code",
   "execution_count": 48,
   "id": "590c2679-dee2-47c6-a9a2-b532c180a0d9",
   "metadata": {},
   "outputs": [
    {
     "data": {
      "text/plain": [
       "'ف'"
      ]
     },
     "execution_count": 48,
     "metadata": {},
     "output_type": "execute_result"
    }
   ],
   "source": [
    "chr(1601)"
   ]
  },
  {
   "cell_type": "code",
   "execution_count": 49,
   "id": "364a133b-52eb-49c7-86f1-ee9534c13ae5",
   "metadata": {},
   "outputs": [
    {
     "data": {
      "text/plain": [
       "'∞'"
      ]
     },
     "execution_count": 49,
     "metadata": {},
     "output_type": "execute_result"
    }
   ],
   "source": [
    "\"\\u221E\""
   ]
  },
  {
   "cell_type": "code",
   "execution_count": 50,
   "id": "f636f9d3-991b-4eb8-b247-89f2d105c683",
   "metadata": {},
   "outputs": [
    {
     "data": {
      "text/plain": [
       "'😊'"
      ]
     },
     "execution_count": 50,
     "metadata": {},
     "output_type": "execute_result"
    }
   ],
   "source": [
    "\"\\U0001F60A\""
   ]
  },
  {
   "cell_type": "markdown",
   "id": "af030d43-d656-482d-8957-a32d86058b24",
   "metadata": {},
   "source": [
    "### str Formatlama"
   ]
  },
  {
   "cell_type": "code",
   "execution_count": 51,
   "id": "6630598c-f8bb-4b47-83cc-7e95c12d5086",
   "metadata": {},
   "outputs": [],
   "source": [
    "ad = \"Ragıp\"\n",
    "maas = 64512.49"
   ]
  },
  {
   "cell_type": "code",
   "execution_count": 53,
   "id": "1edac7a0-1cda-492a-a061-91a6f8485620",
   "metadata": {},
   "outputs": [
    {
     "name": "stdout",
     "output_type": "stream",
     "text": [
      "Ad: Ragıp \n",
      "Maaş: 64512.49\n"
     ]
    }
   ],
   "source": [
    "# 1. str format\n",
    "'''\n",
    "    {} bir yer tutucudur. buraya deger gelecek\n",
    "    {indexveyaalias:formatString}\n",
    "    \n",
    "    formatString:\n",
    "    kalanBosluklaraNEYazılsın | hizalama (<^>) | KaçKarakterinİçindeGösterilsin | binlikAyrac | .basamakSayisi\n",
    "    \n",
    "    f: float\n",
    "    s: str\n",
    "'''\n",
    "\n",
    "fmt = \"Ad: {} \\nMaaş: {}\".format(ad, maas)\n",
    "print(fmt)"
   ]
  },
  {
   "cell_type": "code",
   "execution_count": 54,
   "id": "1d11c34e-2375-4a0f-8612-bd3725ae4b59",
   "metadata": {},
   "outputs": [
    {
     "name": "stdout",
     "output_type": "stream",
     "text": [
      "Ad: Rag \n",
      "Maaş: 64512.5\n"
     ]
    }
   ],
   "source": [
    "print(\"Ad: {:.3s} \\nMaaş: {:.1f}\".format(ad, maas))"
   ]
  },
  {
   "cell_type": "code",
   "execution_count": 55,
   "id": "cb0ef708-5de2-4b24-b45d-942cf2b3e03f",
   "metadata": {},
   "outputs": [
    {
     "name": "stdout",
     "output_type": "stream",
     "text": [
      "Ad: Rag \n",
      "Maaş: 64,512.5\n"
     ]
    }
   ],
   "source": [
    "print(\"Ad: {:.3s} \\nMaaş: {:,.1f}\".format(ad, maas))"
   ]
  },
  {
   "cell_type": "code",
   "execution_count": 56,
   "id": "64025a16-daba-4d01-8f88-e4778ae472a0",
   "metadata": {},
   "outputs": [
    {
     "name": "stdout",
     "output_type": "stream",
     "text": [
      "Ad: Rag \n",
      "Maaş:            64,512.5           \n"
     ]
    }
   ],
   "source": [
    "print(\"Ad: {:.3s} \\nMaaş: {:^30,.1f}\".format(ad, maas))"
   ]
  },
  {
   "cell_type": "code",
   "execution_count": 57,
   "id": "897bc38d-12bc-4d3b-925d-110596936219",
   "metadata": {},
   "outputs": [
    {
     "name": "stdout",
     "output_type": "stream",
     "text": [
      "Ad: Rag \n",
      "Maaş: -----------64,512.5-----------\n"
     ]
    }
   ],
   "source": [
    "print(\"Ad: {:.3s} \\nMaaş: {:-^30,.1f}\".format(ad, maas))"
   ]
  },
  {
   "cell_type": "code",
   "execution_count": 58,
   "id": "85fba911-b4d7-491e-a656-653f0d5a0bdb",
   "metadata": {},
   "outputs": [
    {
     "name": "stdout",
     "output_type": "stream",
     "text": [
      "Ad: Ragıp \n",
      "Maaş: 64512.49\n"
     ]
    }
   ],
   "source": [
    "print(\"Ad: {1} \\nMaaş: {0}\".format(maas, ad))"
   ]
  },
  {
   "cell_type": "code",
   "execution_count": 59,
   "id": "2ce0e490-bf19-4f3c-816e-9ceff74dbc11",
   "metadata": {},
   "outputs": [
    {
     "name": "stdout",
     "output_type": "stream",
     "text": [
      "Ad: Ragıp \n",
      "Maaş: 64512.49\n"
     ]
    }
   ],
   "source": [
    "print(\"Ad: {v_ad} \\nMaaş: {v_maas}\".format(v_ad=ad,v_maas = maas))"
   ]
  },
  {
   "cell_type": "code",
   "execution_count": 60,
   "id": "d35ac61f-6120-44f3-8d0f-95e1aebfe38b",
   "metadata": {},
   "outputs": [
    {
     "name": "stdout",
     "output_type": "stream",
     "text": [
      "Ad: Ragıp \n",
      "Maaş: 64512.49\n"
     ]
    }
   ],
   "source": [
    "# 2. f tipi kullanım\n",
    "\n",
    "print(f\"Ad: {ad} \\nMaaş: {maas}\")"
   ]
  },
  {
   "cell_type": "code",
   "execution_count": 61,
   "id": "ea8ac1c0-601c-467b-bb9b-eb1698132e0a",
   "metadata": {},
   "outputs": [
    {
     "name": "stdout",
     "output_type": "stream",
     "text": [
      "Ad: Rag \n",
      "Maaş: -----------64,512.5-----------\n"
     ]
    }
   ],
   "source": [
    "print(f\"Ad: {ad:.3s} \\nMaaş: {maas:-^30,.1f}\")"
   ]
  },
  {
   "cell_type": "code",
   "execution_count": 63,
   "id": "9734a21e-7f17-44a0-a456-da6778dcc1e4",
   "metadata": {},
   "outputs": [
    {
     "name": "stdout",
     "output_type": "stream",
     "text": [
      "Personel Adı: Ragıp \n",
      "Personel Yaşı: 99\n"
     ]
    }
   ],
   "source": [
    "# 3. format map dict tipinden değer ister metin içerisinde dict keyleri yerine valuelar yazar\n",
    "dict_personel = {\"Adı\": \"Ragıp\", \"Yaşı\": 99}\n",
    "\n",
    "fmt = \"Personel Adı: {Adı} \\nPersonel Yaşı: {Yaşı}\".format_map(dict_personel)\n",
    "print(fmt)"
   ]
  },
  {
   "cell_type": "code",
   "execution_count": 64,
   "id": "4c3c2756-81d4-473e-a72d-9ac9220c7893",
   "metadata": {},
   "outputs": [
    {
     "name": "stdin",
     "output_type": "stream",
     "text": [
      "metin yaz:  merhaba dünyalı\n"
     ]
    },
    {
     "name": "stdout",
     "output_type": "stream",
     "text": [
      "------------------------------\n",
      "-------merhaba dünyalı--------\n",
      "------------------------------\n"
     ]
    }
   ],
   "source": [
    "# soru:\n",
    "'''\n",
    "    - metin dışarıdan alınabilsin\n",
    "    - metin belirtilen karakter içerisine ortalayalım, Mesela 30 karalter\n",
    "    - kalan boşluklara da - basalım\n",
    "    \n",
    "------------------------------\n",
    "---------merhaba dünyalı------\n",
    "------------------------------\n",
    "'''\n",
    "metin = input(\"metin yaz: \")\n",
    "cizgi_sayisi = 30\n",
    "\n",
    "# 1. yöntem\n",
    "print(\"-\"*cizgi_sayisi)\n",
    "print(metin.center(cizgi_sayisi, \"-\"))\n",
    "print(\"-\"*cizgi_sayisi)"
   ]
  },
  {
   "cell_type": "code",
   "execution_count": 65,
   "id": "66a6de03-8037-4a90-9927-a522adc15294",
   "metadata": {},
   "outputs": [
    {
     "name": "stdin",
     "output_type": "stream",
     "text": [
      "metin yaz:  merhaba dünyalı\n"
     ]
    },
    {
     "name": "stdout",
     "output_type": "stream",
     "text": [
      "-------merhaba dünyalı--------\n"
     ]
    }
   ],
   "source": [
    "metin = input(\"metin yaz: \")\n",
    "cizgi_sayisi = 30\n",
    "\n",
    "# 2. yöntem\n",
    "fmt = f\"{metin:-^{cizgi_sayisi}}\"\n",
    "print(fmt)"
   ]
  },
  {
   "cell_type": "code",
   "execution_count": null,
   "id": "f14bec3c-1ede-4d87-96dd-6a0d71ff94d7",
   "metadata": {},
   "outputs": [],
   "source": []
  }
 ],
 "metadata": {
  "kernelspec": {
   "display_name": "Python 3 (ipykernel)",
   "language": "python",
   "name": "python3"
  },
  "language_info": {
   "codemirror_mode": {
    "name": "ipython",
    "version": 3
   },
   "file_extension": ".py",
   "mimetype": "text/x-python",
   "name": "python",
   "nbconvert_exporter": "python",
   "pygments_lexer": "ipython3",
   "version": "3.9.5"
  }
 },
 "nbformat": 4,
 "nbformat_minor": 5
}
