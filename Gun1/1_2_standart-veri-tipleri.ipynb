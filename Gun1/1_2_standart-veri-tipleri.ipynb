{
 "cells": [
  {
   "cell_type": "markdown",
   "id": "339f1c0a-787b-4dc9-91ad-d297dc3a3c0f",
   "metadata": {},
   "source": [
    "## Veri Tipleri\n",
    "![Veri Tİpleri](PythonVeriTipleri.png)"
   ]
  },
  {
   "cell_type": "markdown",
   "id": "c4a68d67-ad6f-4734-ba53-1fd20a88337a",
   "metadata": {},
   "source": [
    "### Bir nesnenin tip kontrolü"
   ]
  },
  {
   "cell_type": "code",
   "execution_count": 2,
   "id": "2b3a767c-87a8-4248-b77d-9929c879c226",
   "metadata": {},
   "outputs": [
    {
     "data": {
      "text/plain": [
       "NoneType"
      ]
     },
     "execution_count": 2,
     "metadata": {},
     "output_type": "execute_result"
    }
   ],
   "source": [
    "# type fonksiyonu nesnenin tipini belirtir.\n",
    "type(None) # None yokluğun karşılığıdır."
   ]
  },
  {
   "cell_type": "code",
   "execution_count": 3,
   "id": "a6e1692e-59c5-4d33-b267-a634dfc81b34",
   "metadata": {},
   "outputs": [
    {
     "name": "stdout",
     "output_type": "stream",
     "text": [
      "12\n"
     ]
    }
   ],
   "source": [
    "degisken = 12 # değişken tanımlayıp değer atadık. Dynamic Type özelliğine sahiptir.\n",
    "#yani değere göre memoryde otomatik yer ayırır\n",
    "\n",
    "print(degisken)"
   ]
  },
  {
   "cell_type": "code",
   "execution_count": 4,
   "id": "170687a3-082c-42fd-9243-c55c59cbf09a",
   "metadata": {},
   "outputs": [
    {
     "data": {
      "text/plain": [
       "int"
      ]
     },
     "execution_count": 4,
     "metadata": {},
     "output_type": "execute_result"
    }
   ],
   "source": [
    "type(degisken)"
   ]
  },
  {
   "cell_type": "code",
   "execution_count": 5,
   "id": "5cf4bb9e-279d-4e48-82a2-4292b9147cc1",
   "metadata": {},
   "outputs": [
    {
     "data": {
      "text/plain": [
       "True"
      ]
     },
     "execution_count": 5,
     "metadata": {},
     "output_type": "execute_result"
    }
   ],
   "source": [
    "isinstance(degisken, int) # tipi int midir?"
   ]
  },
  {
   "cell_type": "code",
   "execution_count": 6,
   "id": "ea3ad727-8cc0-41d1-8b9b-4ee1938cca22",
   "metadata": {},
   "outputs": [
    {
     "data": {
      "text/plain": [
       "False"
      ]
     },
     "execution_count": 6,
     "metadata": {},
     "output_type": "execute_result"
    }
   ],
   "source": [
    "isinstance(degisken, (float, complex)) # tuple ile birden fazla veri tipini kontrol edebiliriz. float veya complex midir?"
   ]
  },
  {
   "cell_type": "markdown",
   "id": "d109159e-dc13-4f31-8572-861614a50e68",
   "metadata": {},
   "source": [
    "### Numeric"
   ]
  },
  {
   "cell_type": "code",
   "execution_count": 7,
   "id": "d0c27a65-cfc6-4184-bca3-ef1d0160fd67",
   "metadata": {},
   "outputs": [
    {
     "name": "stdout",
     "output_type": "stream",
     "text": [
      "<class 'int'>\n",
      "<class 'float'>\n",
      "<class 'complex'>\n"
     ]
    }
   ],
   "source": [
    "i = 1 # int(1)\n",
    "f  = 1.23 # float(1.23)\n",
    "c = 12+3j # complex(12,3)\n",
    "\n",
    "print(type(i), type(f), type(c), sep=\"\\n\") # virgüllerle yazdıklarımızı alt alta yazsın \\n  ile"
   ]
  },
  {
   "cell_type": "markdown",
   "id": "4878a23c-a093-46a3-97a4-22139ed1741d",
   "metadata": {},
   "source": [
    "### Boolen"
   ]
  },
  {
   "cell_type": "code",
   "execution_count": 8,
   "id": "c9f363a5-1a59-4eb4-b9d1-d107d451127c",
   "metadata": {},
   "outputs": [
    {
     "data": {
      "text/plain": [
       "bool"
      ]
     },
     "execution_count": 8,
     "metadata": {},
     "output_type": "execute_result"
    }
   ],
   "source": [
    "# True veya False değer tutar\n",
    "y = True # bool(True)\n",
    "f = False # bool(False)\n",
    "\n",
    "type(y)"
   ]
  },
  {
   "cell_type": "markdown",
   "id": "9c67a0bc-9d38-433d-a7a9-93558d2ad611",
   "metadata": {},
   "source": [
    "### Bool tipine özel durumlar\n",
    "\n",
    "- 0, None veya yokluk bildiren ifadeler (boş list, tuple, str vs.) False olarak değerlendirlir\n",
    "- Diğerleri True olarak değerlendirilir."
   ]
  },
  {
   "cell_type": "code",
   "execution_count": 13,
   "id": "7be3b8d5-bf3c-4934-a8b7-6ea63d9d09d8",
   "metadata": {},
   "outputs": [
    {
     "data": {
      "text/plain": [
       "True"
      ]
     },
     "execution_count": 13,
     "metadata": {},
     "output_type": "execute_result"
    }
   ],
   "source": [
    "# True olanlar\n",
    "True\n",
    "bool(True)\n",
    "\n",
    "bool(1) # tip dönüşümü gerçekleşiryor\n",
    "bool(-1)\n",
    "bool(100000)"
   ]
  },
  {
   "cell_type": "code",
   "execution_count": 19,
   "id": "e43fef4a-1e08-445b-b8a2-8e0b29160c06",
   "metadata": {},
   "outputs": [
    {
     "data": {
      "text/plain": [
       "False"
      ]
     },
     "execution_count": 19,
     "metadata": {},
     "output_type": "execute_result"
    }
   ],
   "source": [
    "# False üretenler\n",
    "False\n",
    "bool(False)\n",
    "\n",
    "bool(0)\n",
    "bool(None)\n",
    "bool(\"\") # boş str\n",
    "bool([]) # boş liste"
   ]
  },
  {
   "cell_type": "markdown",
   "id": "86dc2eec-4a30-491f-a066-31259263bd3a",
   "metadata": {},
   "source": [
    "### Str"
   ]
  },
  {
   "cell_type": "code",
   "execution_count": 20,
   "id": "a564bb24-6209-416b-a84b-017a91b205aa",
   "metadata": {},
   "outputs": [
    {
     "name": "stdout",
     "output_type": "stream",
     "text": [
      "\n",
      "SELECT\n",
      "    Kolon1,\n",
      "    Kolon2\n",
      "FROM Tablo\n",
      "\n"
     ]
    }
   ],
   "source": [
    "# tek veya çift tırnak ile tek satırlık metinler tanımlanır\n",
    "# çok satırlı metinler için 3'er tırnak kullanırız.\n",
    "\n",
    "# tek satırlık\n",
    "mesaj = \"merhaba dünyalı\"\n",
    "soru = 'nasılsın?'\n",
    "\n",
    "# çok satırlı\n",
    "sorgu = \"\"\"\n",
    "SELECT\n",
    "    Kolon1,\n",
    "    Kolon2\n",
    "FROM Tablo\n",
    "\"\"\"\n",
    "print(sorgu)"
   ]
  },
  {
   "cell_type": "markdown",
   "id": "93f58928-a521-48f5-8faf-3af144bf07a3",
   "metadata": {},
   "source": [
    "### Tuple\n",
    "\n",
    "- **immutable** yani elemanları güncellenemez\n",
    "- farklı tipteki verileri tutabilir\n",
    "- virgülle ve/ya () ile tanımlanır"
   ]
  },
  {
   "cell_type": "code",
   "execution_count": 21,
   "id": "78bcd31a-1ce8-4359-bc70-9f576368b745",
   "metadata": {},
   "outputs": [
    {
     "name": "stdout",
     "output_type": "stream",
     "text": [
      "<class 'tuple'>\n",
      "(1, 2, 3, 'Metin', False, None)\n"
     ]
    }
   ],
   "source": [
    "t = (1,2,3, \"Metin\", False, None)\n",
    "t = 1,2,3, \"Metin\", False, None\n",
    "\n",
    "print(type(t))\n",
    "print(t)"
   ]
  },
  {
   "cell_type": "markdown",
   "id": "5a8cc56a-62ce-4f35-9f81-b4777f35213e",
   "metadata": {},
   "source": [
    "### List\n",
    "\n",
    "- **mutable** yani elemanları güncellenebilir\n",
    "- farklı tipten veriler tutabilir\n",
    "- [] ile tanımlanır"
   ]
  },
  {
   "cell_type": "code",
   "execution_count": 22,
   "id": "ce74af58-ba8e-4fa8-b488-2fa587c91fa3",
   "metadata": {},
   "outputs": [
    {
     "name": "stdout",
     "output_type": "stream",
     "text": [
      "<class 'list'>\n",
      "[1, 2, 3, 'Metin', False, None]\n"
     ]
    }
   ],
   "source": [
    "l = [1,2,3, \"Metin\", False, None]\n",
    "\n",
    "print(type(l))\n",
    "\n",
    "print(l)"
   ]
  },
  {
   "cell_type": "markdown",
   "id": "3aee9b39-698a-42f2-b701-afb4ee78cb32",
   "metadata": {},
   "source": [
    "### Sequence (str, tuple, list) elemanlarına erişebiliriz.\n",
    "\n",
    "- index yöntemi `nesne[index]` şeklinde elemanlarına ulaşabiliriz. indexler 0 dan başlar.\n",
    "- slice yöntemi `nesne[start:stop:step]` şeklinde aralık alınabilir\n",
    "  - start belirtilmezse en baştan\n",
    "  - stop berlirtilmezse en son\n",
    "  - step belirtilmezse 1'er getirir\n",
    "  - negatif sayılar kullanılabilir. tersten anlamına gelir."
   ]
  },
  {
   "cell_type": "code",
   "execution_count": 27,
   "id": "0b0638cb-68b4-41c5-89cd-708cb53c069c",
   "metadata": {},
   "outputs": [
    {
     "data": {
      "text/plain": [
       "'m'"
      ]
     },
     "execution_count": 27,
     "metadata": {},
     "output_type": "execute_result"
    }
   ],
   "source": [
    "metin = \"merhaba\" # str\n",
    "\n",
    "#index \n",
    "metin[0] # ilk karakteri verecek"
   ]
  },
  {
   "cell_type": "code",
   "execution_count": 24,
   "id": "ec53e70a-f8d4-4411-8b95-ba331ae8838c",
   "metadata": {},
   "outputs": [
    {
     "data": {
      "text/plain": [
       "'erh'"
      ]
     },
     "execution_count": 24,
     "metadata": {},
     "output_type": "execute_result"
    }
   ],
   "source": [
    "# slicer\n",
    "metin[1:4] # 1. ile 4. index arasını getir."
   ]
  },
  {
   "cell_type": "code",
   "execution_count": 25,
   "id": "809f4e8a-c392-415f-8c5b-76555a20bb80",
   "metadata": {},
   "outputs": [
    {
     "data": {
      "text/plain": [
       "'ehb'"
      ]
     },
     "execution_count": 25,
     "metadata": {},
     "output_type": "execute_result"
    }
   ],
   "source": [
    "metin[1:6:2] # 1-6 arası 2 şer atla"
   ]
  },
  {
   "cell_type": "code",
   "execution_count": 26,
   "id": "71833d0a-9252-4808-9f10-6156c5d4f4f3",
   "metadata": {},
   "outputs": [
    {
     "data": {
      "text/plain": [
       "'ea'"
      ]
     },
     "execution_count": 26,
     "metadata": {},
     "output_type": "execute_result"
    }
   ],
   "source": [
    "metin[1::3] # 1 den sona kadar 3 er atlayıp getir."
   ]
  },
  {
   "cell_type": "code",
   "execution_count": 28,
   "id": "97245b25-86e7-4a58-9b5e-44fb84ac7770",
   "metadata": {},
   "outputs": [
    {
     "data": {
      "text/plain": [
       "'merhaba'"
      ]
     },
     "execution_count": 28,
     "metadata": {},
     "output_type": "execute_result"
    }
   ],
   "source": [
    "metin[::] # en baştan en sona 1 er getir"
   ]
  },
  {
   "cell_type": "code",
   "execution_count": 29,
   "id": "3ac4bcdd-05d7-4da7-83a9-a21c6e793b63",
   "metadata": {},
   "outputs": [
    {
     "data": {
      "text/plain": [
       "'abahrem'"
      ]
     },
     "execution_count": 29,
     "metadata": {},
     "output_type": "execute_result"
    }
   ],
   "source": [
    "metin[::-1] #tersten getir."
   ]
  },
  {
   "cell_type": "markdown",
   "id": "5dfb302d-6170-445e-85a6-8d65c5680a92",
   "metadata": {},
   "source": [
    "### Set\n",
    "\n",
    "- Sıralı değildir. matematikteki kümelere benzer şekilde benzersiz eleman tutar\n",
    "- elemanlarının **immutable** olması gerekir\n",
    "- kendisi **mutable** tiptir\n",
    "- {} ile tanımlanır."
   ]
  },
  {
   "cell_type": "code",
   "execution_count": 30,
   "id": "6a97e84d-1a75-413c-98c9-66a1f7197c1d",
   "metadata": {},
   "outputs": [
    {
     "name": "stdout",
     "output_type": "stream",
     "text": [
      "{0, 1, 2, 3, 'Metin'}\n"
     ]
    }
   ],
   "source": [
    "s = {0,1,2,3,\"Metin\",False, True, \"Metin\", 0} #0, None ve yokluk False olarak değerlendirilir. Benzersiz eleman tutuyoruz.\n",
    "\n",
    "print(s)"
   ]
  },
  {
   "cell_type": "code",
   "execution_count": 31,
   "id": "a6748c33-8929-46ec-b129-c5c22fbffcf9",
   "metadata": {},
   "outputs": [
    {
     "name": "stdout",
     "output_type": "stream",
     "text": [
      "{'K', 'A', 'L', 'B', 'I'}\n"
     ]
    }
   ],
   "source": [
    "m = {\"K\",\"A\",\"L\",\"A\",\"B\",\"A\",\"L\",\"I\",\"K\"}\n",
    "\n",
    "print(m)"
   ]
  },
  {
   "cell_type": "markdown",
   "id": "d771f901-5744-4021-b6b7-ee1f5eef4c71",
   "metadata": {},
   "source": [
    "### Dict\n",
    "\n",
    "- Key:Value şeklinde tanımlanır\n",
    "- Elemanlarına key ile erişebiliriz.\n",
    "- Keyler **immutable**, kendisi **mutable** dır."
   ]
  },
  {
   "cell_type": "code",
   "execution_count": 33,
   "id": "71bd75b5-dc4f-4165-812f-af6775bafaee",
   "metadata": {},
   "outputs": [
    {
     "data": {
      "text/plain": [
       "{'Ad': 'Ragıp',\n",
       " 'Soyad': 'Ünal',\n",
       " 'Yas': 55,\n",
       " 'AktifMi': True,\n",
       " 2131231: 'SicilNo',\n",
       " 'Ehliyetler': ['A', 'B', 'F'],\n",
       " (2000, 'Maaş'): 45482.72}"
      ]
     },
     "execution_count": 33,
     "metadata": {},
     "output_type": "execute_result"
    }
   ],
   "source": [
    "dict_kv = {\n",
    "    \"Ad\":\"Ragıp\",\n",
    "    \"Soyad\": \"Ünal\",\n",
    "    \"Yas\": 55,\n",
    "    \"AktifMi\": True,\n",
    "    2131231: \"SicilNo\",\n",
    "    \"Ehliyetler\": [\"A\", \"B\", \"F\"],\n",
    "    #[2000,\"Maaş\"]:45482.72\n",
    "    (2000, \"Maaş\"): 45482.72\n",
    "}\n",
    "\n",
    "dict_kv"
   ]
  },
  {
   "cell_type": "markdown",
   "id": "355edfeb-b06e-4eb5-ab29-a2aaef61ffec",
   "metadata": {},
   "source": [
    "### Dict elemanlarına key ile erişebiliriz."
   ]
  },
  {
   "cell_type": "code",
   "execution_count": 34,
   "id": "164c440e-0c18-442e-bd3b-7a0df5f6b5a1",
   "metadata": {},
   "outputs": [
    {
     "data": {
      "text/plain": [
       "'Ünal'"
      ]
     },
     "execution_count": 34,
     "metadata": {},
     "output_type": "execute_result"
    }
   ],
   "source": [
    "dict_kv[\"Soyad\"]"
   ]
  },
  {
   "cell_type": "code",
   "execution_count": 35,
   "id": "9cbe097a-0868-4020-a39e-c68835c05075",
   "metadata": {},
   "outputs": [
    {
     "data": {
      "text/plain": [
       "['A', 'B', 'F']"
      ]
     },
     "execution_count": 35,
     "metadata": {},
     "output_type": "execute_result"
    }
   ],
   "source": [
    "dict_kv[\"Ehliyetler\"]"
   ]
  },
  {
   "cell_type": "code",
   "execution_count": 36,
   "id": "1593231b-2313-41df-a9df-fa27a6014ca5",
   "metadata": {},
   "outputs": [
    {
     "data": {
      "text/plain": [
       "'A'"
      ]
     },
     "execution_count": 36,
     "metadata": {},
     "output_type": "execute_result"
    }
   ],
   "source": [
    "dict_kv[\"Ehliyetler\"][0] # ilk ehliyet. dönen nesne liste idi listenin 0. elemanına ulaştık"
   ]
  },
  {
   "cell_type": "code",
   "execution_count": 37,
   "id": "24fff8b0-89a1-4a4b-a936-ff783c4d261f",
   "metadata": {},
   "outputs": [
    {
     "data": {
      "text/plain": [
       "45482.72"
      ]
     },
     "execution_count": 37,
     "metadata": {},
     "output_type": "execute_result"
    }
   ],
   "source": [
    "dict_kv[(2000, \"Maaş\")] # tuple key olarak kullanılabilir di"
   ]
  },
  {
   "cell_type": "code",
   "execution_count": 38,
   "id": "765055d1-bf6b-4ba9-9c5d-56ccbb0af7ac",
   "metadata": {},
   "outputs": [
    {
     "ename": "KeyError",
     "evalue": "'olmayanKey'",
     "output_type": "error",
     "traceback": [
      "\u001b[1;31m---------------------------------------------------------------------------\u001b[0m",
      "\u001b[1;31mKeyError\u001b[0m                                  Traceback (most recent call last)",
      "Cell \u001b[1;32mIn [38], line 1\u001b[0m\n\u001b[1;32m----> 1\u001b[0m \u001b[43mdict_kv\u001b[49m\u001b[43m[\u001b[49m\u001b[38;5;124;43m\"\u001b[39;49m\u001b[38;5;124;43molmayanKey\u001b[39;49m\u001b[38;5;124;43m\"\u001b[39;49m\u001b[43m]\u001b[49m\n",
      "\u001b[1;31mKeyError\u001b[0m: 'olmayanKey'"
     ]
    }
   ],
   "source": [
    "dict_kv[\"olmayanKey\"]"
   ]
  },
  {
   "cell_type": "code",
   "execution_count": 42,
   "id": "d068fc2e-8b42-4ed0-9f1d-99fb4c6284f7",
   "metadata": {},
   "outputs": [],
   "source": [
    "dict_kv.get(\"olmayanKey\") # Key yoksa None döner varsa değer döner"
   ]
  },
  {
   "cell_type": "code",
   "execution_count": 43,
   "id": "90a97c13-751e-4678-a99d-81124302cb90",
   "metadata": {},
   "outputs": [],
   "source": [
    "del dict_kv"
   ]
  },
  {
   "cell_type": "code",
   "execution_count": 44,
   "id": "4316f532-8db4-4740-b1d7-54b49f59efd0",
   "metadata": {},
   "outputs": [
    {
     "ename": "NameError",
     "evalue": "name 'dict_kv' is not defined",
     "output_type": "error",
     "traceback": [
      "\u001b[1;31m---------------------------------------------------------------------------\u001b[0m",
      "\u001b[1;31mNameError\u001b[0m                                 Traceback (most recent call last)",
      "Cell \u001b[1;32mIn [44], line 1\u001b[0m\n\u001b[1;32m----> 1\u001b[0m \u001b[43mdict_kv\u001b[49m \u001b[38;5;66;03m# nesne del ile silindiği için artık memoryde yok ulaşılamaz\u001b[39;00m\n",
      "\u001b[1;31mNameError\u001b[0m: name 'dict_kv' is not defined"
     ]
    }
   ],
   "source": [
    "dict_kv # nesne del ile silindiği için artık memoryde yok ulaşılamaz"
   ]
  },
  {
   "cell_type": "code",
   "execution_count": null,
   "id": "9ae1ea46-09f1-4b3d-bfba-2b79840d2ff8",
   "metadata": {},
   "outputs": [],
   "source": []
  }
 ],
 "metadata": {
  "kernelspec": {
   "display_name": "Python 3 (ipykernel)",
   "language": "python",
   "name": "python3"
  },
  "language_info": {
   "codemirror_mode": {
    "name": "ipython",
    "version": 3
   },
   "file_extension": ".py",
   "mimetype": "text/x-python",
   "name": "python",
   "nbconvert_exporter": "python",
   "pygments_lexer": "ipython3",
   "version": "3.9.5"
  }
 },
 "nbformat": 4,
 "nbformat_minor": 5
}
