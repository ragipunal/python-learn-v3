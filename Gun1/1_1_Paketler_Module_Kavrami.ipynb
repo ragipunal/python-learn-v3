{
 "cells": [
  {
   "cell_type": "markdown",
   "id": "b41d46b1-d3dd-42ff-923d-b62c920c0fee",
   "metadata": {},
   "source": [
    "# Python Dili Temelleri\n",
    "\n",
    "##  Package - Modüle Kavramları\n",
    "\n",
    "### Gömülü Nesneler"
   ]
  },
  {
   "cell_type": "code",
   "execution_count": 1,
   "id": "93d53432-da2b-4aeb-aa61-89711c6da628",
   "metadata": {},
   "outputs": [
    {
     "name": "stdout",
     "output_type": "stream",
     "text": [
      "merhaba\n"
     ]
    },
    {
     "data": {
      "text/plain": [
       "['ArithmeticError',\n",
       " 'AssertionError',\n",
       " 'AttributeError',\n",
       " 'BaseException',\n",
       " 'BlockingIOError',\n",
       " 'BrokenPipeError',\n",
       " 'BufferError',\n",
       " 'BytesWarning',\n",
       " 'ChildProcessError',\n",
       " 'ConnectionAbortedError',\n",
       " 'ConnectionError',\n",
       " 'ConnectionRefusedError',\n",
       " 'ConnectionResetError',\n",
       " 'DeprecationWarning',\n",
       " 'EOFError',\n",
       " 'Ellipsis',\n",
       " 'EnvironmentError',\n",
       " 'Exception',\n",
       " 'False',\n",
       " 'FileExistsError',\n",
       " 'FileNotFoundError',\n",
       " 'FloatingPointError',\n",
       " 'FutureWarning',\n",
       " 'GeneratorExit',\n",
       " 'IOError',\n",
       " 'ImportError',\n",
       " 'ImportWarning',\n",
       " 'IndentationError',\n",
       " 'IndexError',\n",
       " 'InterruptedError',\n",
       " 'IsADirectoryError',\n",
       " 'KeyError',\n",
       " 'KeyboardInterrupt',\n",
       " 'LookupError',\n",
       " 'MemoryError',\n",
       " 'ModuleNotFoundError',\n",
       " 'NameError',\n",
       " 'None',\n",
       " 'NotADirectoryError',\n",
       " 'NotImplemented',\n",
       " 'NotImplementedError',\n",
       " 'OSError',\n",
       " 'OverflowError',\n",
       " 'PendingDeprecationWarning',\n",
       " 'PermissionError',\n",
       " 'ProcessLookupError',\n",
       " 'RecursionError',\n",
       " 'ReferenceError',\n",
       " 'ResourceWarning',\n",
       " 'RuntimeError',\n",
       " 'RuntimeWarning',\n",
       " 'StopAsyncIteration',\n",
       " 'StopIteration',\n",
       " 'SyntaxError',\n",
       " 'SyntaxWarning',\n",
       " 'SystemError',\n",
       " 'SystemExit',\n",
       " 'TabError',\n",
       " 'TimeoutError',\n",
       " 'True',\n",
       " 'TypeError',\n",
       " 'UnboundLocalError',\n",
       " 'UnicodeDecodeError',\n",
       " 'UnicodeEncodeError',\n",
       " 'UnicodeError',\n",
       " 'UnicodeTranslateError',\n",
       " 'UnicodeWarning',\n",
       " 'UserWarning',\n",
       " 'ValueError',\n",
       " 'Warning',\n",
       " 'WindowsError',\n",
       " 'ZeroDivisionError',\n",
       " '__IPYTHON__',\n",
       " '__build_class__',\n",
       " '__debug__',\n",
       " '__doc__',\n",
       " '__import__',\n",
       " '__loader__',\n",
       " '__name__',\n",
       " '__package__',\n",
       " '__spec__',\n",
       " 'abs',\n",
       " 'all',\n",
       " 'any',\n",
       " 'ascii',\n",
       " 'bin',\n",
       " 'bool',\n",
       " 'breakpoint',\n",
       " 'bytearray',\n",
       " 'bytes',\n",
       " 'callable',\n",
       " 'chr',\n",
       " 'classmethod',\n",
       " 'compile',\n",
       " 'complex',\n",
       " 'copyright',\n",
       " 'credits',\n",
       " 'delattr',\n",
       " 'dict',\n",
       " 'dir',\n",
       " 'display',\n",
       " 'divmod',\n",
       " 'enumerate',\n",
       " 'eval',\n",
       " 'exec',\n",
       " 'execfile',\n",
       " 'filter',\n",
       " 'float',\n",
       " 'format',\n",
       " 'frozenset',\n",
       " 'get_ipython',\n",
       " 'getattr',\n",
       " 'globals',\n",
       " 'hasattr',\n",
       " 'hash',\n",
       " 'help',\n",
       " 'hex',\n",
       " 'id',\n",
       " 'input',\n",
       " 'int',\n",
       " 'isinstance',\n",
       " 'issubclass',\n",
       " 'iter',\n",
       " 'len',\n",
       " 'license',\n",
       " 'list',\n",
       " 'locals',\n",
       " 'map',\n",
       " 'max',\n",
       " 'memoryview',\n",
       " 'min',\n",
       " 'next',\n",
       " 'object',\n",
       " 'oct',\n",
       " 'open',\n",
       " 'ord',\n",
       " 'pow',\n",
       " 'print',\n",
       " 'property',\n",
       " 'range',\n",
       " 'repr',\n",
       " 'reversed',\n",
       " 'round',\n",
       " 'runfile',\n",
       " 'set',\n",
       " 'setattr',\n",
       " 'slice',\n",
       " 'sorted',\n",
       " 'staticmethod',\n",
       " 'str',\n",
       " 'sum',\n",
       " 'super',\n",
       " 'tuple',\n",
       " 'type',\n",
       " 'vars',\n",
       " 'zip']"
      ]
     },
     "execution_count": 1,
     "metadata": {},
     "output_type": "execute_result"
    }
   ],
   "source": [
    "print(\"merhaba\")\n",
    "\n",
    "# hiçbir paketi ortama almadan çalışmamızı sağlayan nesneler var.\n",
    "# bunlara gömülü nesneler denir. __builtins__ #çift alt çizgi var...\n",
    "\n",
    "# dir verdiğimiz nesnenin attributelerini görmemizi sağlar\n",
    "dir(__builtins__) # gömülü nesnelerin listesi\n",
    "# print, dir, exit, help, pow, int, float, open, input vs. paket yüklemeden doğrudan kullanabileceğimiz nesnelerdir."
   ]
  },
  {
   "cell_type": "code",
   "execution_count": 2,
   "id": "a1b8e6df-9075-490e-8f52-a74cab493e9e",
   "metadata": {},
   "outputs": [
    {
     "data": {
      "text/plain": [
       "9"
      ]
     },
     "execution_count": 2,
     "metadata": {},
     "output_type": "execute_result"
    }
   ],
   "source": [
    "pow(3,2) # 3 ün karesini veren gömülü nesne"
   ]
  },
  {
   "cell_type": "markdown",
   "id": "6d76b4b0-fca3-42cf-b5c9-cf38501ee28e",
   "metadata": {},
   "source": [
    "### Bilgisayarda yüklü olan paketi çalışma ortamına alalım"
   ]
  },
  {
   "cell_type": "code",
   "execution_count": 3,
   "id": "1b9f5376-3d1b-4176-b3bd-42623fe7ccd5",
   "metadata": {},
   "outputs": [
    {
     "name": "stdout",
     "output_type": "stream",
     "text": [
      "3.141592653589793\n"
     ]
    },
    {
     "data": {
      "text/plain": [
       "['__doc__',\n",
       " '__loader__',\n",
       " '__name__',\n",
       " '__package__',\n",
       " '__spec__',\n",
       " 'acos',\n",
       " 'acosh',\n",
       " 'asin',\n",
       " 'asinh',\n",
       " 'atan',\n",
       " 'atan2',\n",
       " 'atanh',\n",
       " 'ceil',\n",
       " 'comb',\n",
       " 'copysign',\n",
       " 'cos',\n",
       " 'cosh',\n",
       " 'degrees',\n",
       " 'dist',\n",
       " 'e',\n",
       " 'erf',\n",
       " 'erfc',\n",
       " 'exp',\n",
       " 'expm1',\n",
       " 'fabs',\n",
       " 'factorial',\n",
       " 'floor',\n",
       " 'fmod',\n",
       " 'frexp',\n",
       " 'fsum',\n",
       " 'gamma',\n",
       " 'gcd',\n",
       " 'hypot',\n",
       " 'inf',\n",
       " 'isclose',\n",
       " 'isfinite',\n",
       " 'isinf',\n",
       " 'isnan',\n",
       " 'isqrt',\n",
       " 'lcm',\n",
       " 'ldexp',\n",
       " 'lgamma',\n",
       " 'log',\n",
       " 'log10',\n",
       " 'log1p',\n",
       " 'log2',\n",
       " 'modf',\n",
       " 'nan',\n",
       " 'nextafter',\n",
       " 'perm',\n",
       " 'pi',\n",
       " 'pow',\n",
       " 'prod',\n",
       " 'radians',\n",
       " 'remainder',\n",
       " 'sin',\n",
       " 'sinh',\n",
       " 'sqrt',\n",
       " 'tan',\n",
       " 'tanh',\n",
       " 'tau',\n",
       " 'trunc',\n",
       " 'ulp']"
      ]
     },
     "execution_count": 3,
     "metadata": {},
     "output_type": "execute_result"
    }
   ],
   "source": [
    "import math # math paketini çalışma ortamına aldık\n",
    "\n",
    "print(math.pi) # ekrana pi sayısını yazdırsın\n",
    "\n",
    "dir(math)"
   ]
  },
  {
   "cell_type": "code",
   "execution_count": 4,
   "id": "6c7de433-2c51-4ae8-9539-97d940729771",
   "metadata": {},
   "outputs": [],
   "source": [
    "import os # işletim sistemi ile ilişkili işleri os paketi ile yapabiliriz.\n",
    "\n",
    "dir(os)\n",
    "\n",
    "os.mkdir(\"BuKlasoruGordugundeSil\") # klasör oluşturur"
   ]
  },
  {
   "cell_type": "code",
   "execution_count": 5,
   "id": "5d99a679-9a94-42e8-9185-854247749ae8",
   "metadata": {},
   "outputs": [
    {
     "data": {
      "text/plain": [
       "['DirEntry',\n",
       " 'F_OK',\n",
       " 'GenericAlias',\n",
       " 'Mapping',\n",
       " 'MutableMapping',\n",
       " 'O_APPEND',\n",
       " 'O_BINARY',\n",
       " 'O_CREAT',\n",
       " 'O_EXCL',\n",
       " 'O_NOINHERIT',\n",
       " 'O_RANDOM',\n",
       " 'O_RDONLY',\n",
       " 'O_RDWR',\n",
       " 'O_SEQUENTIAL',\n",
       " 'O_SHORT_LIVED',\n",
       " 'O_TEMPORARY',\n",
       " 'O_TEXT',\n",
       " 'O_TRUNC',\n",
       " 'O_WRONLY',\n",
       " 'P_DETACH',\n",
       " 'P_NOWAIT',\n",
       " 'P_NOWAITO',\n",
       " 'P_OVERLAY',\n",
       " 'P_WAIT',\n",
       " 'PathLike',\n",
       " 'R_OK',\n",
       " 'SEEK_CUR',\n",
       " 'SEEK_END',\n",
       " 'SEEK_SET',\n",
       " 'TMP_MAX',\n",
       " 'W_OK',\n",
       " 'X_OK',\n",
       " '_AddedDllDirectory',\n",
       " '_Environ',\n",
       " '__all__',\n",
       " '__builtins__',\n",
       " '__cached__',\n",
       " '__doc__',\n",
       " '__file__',\n",
       " '__loader__',\n",
       " '__name__',\n",
       " '__package__',\n",
       " '__spec__',\n",
       " '_check_methods',\n",
       " '_execvpe',\n",
       " '_exists',\n",
       " '_exit',\n",
       " '_fspath',\n",
       " '_get_exports_list',\n",
       " '_walk',\n",
       " '_wrap_close',\n",
       " 'abc',\n",
       " 'abort',\n",
       " 'access',\n",
       " 'add_dll_directory',\n",
       " 'altsep',\n",
       " 'chdir',\n",
       " 'chmod',\n",
       " 'close',\n",
       " 'closerange',\n",
       " 'cpu_count',\n",
       " 'curdir',\n",
       " 'defpath',\n",
       " 'device_encoding',\n",
       " 'devnull',\n",
       " 'dup',\n",
       " 'dup2',\n",
       " 'environ',\n",
       " 'error',\n",
       " 'execl',\n",
       " 'execle',\n",
       " 'execlp',\n",
       " 'execlpe',\n",
       " 'execv',\n",
       " 'execve',\n",
       " 'execvp',\n",
       " 'execvpe',\n",
       " 'extsep',\n",
       " 'fdopen',\n",
       " 'fsdecode',\n",
       " 'fsencode',\n",
       " 'fspath',\n",
       " 'fstat',\n",
       " 'fsync',\n",
       " 'ftruncate',\n",
       " 'get_exec_path',\n",
       " 'get_handle_inheritable',\n",
       " 'get_inheritable',\n",
       " 'get_terminal_size',\n",
       " 'getcwd',\n",
       " 'getcwdb',\n",
       " 'getenv',\n",
       " 'getlogin',\n",
       " 'getpid',\n",
       " 'getppid',\n",
       " 'isatty',\n",
       " 'kill',\n",
       " 'linesep',\n",
       " 'link',\n",
       " 'listdir',\n",
       " 'lseek',\n",
       " 'lstat',\n",
       " 'makedirs',\n",
       " 'mkdir',\n",
       " 'name',\n",
       " 'open',\n",
       " 'pardir',\n",
       " 'path',\n",
       " 'pathsep',\n",
       " 'pipe',\n",
       " 'popen',\n",
       " 'putenv',\n",
       " 'read',\n",
       " 'readlink',\n",
       " 'remove',\n",
       " 'removedirs',\n",
       " 'rename',\n",
       " 'renames',\n",
       " 'replace',\n",
       " 'rmdir',\n",
       " 'scandir',\n",
       " 'sep',\n",
       " 'set_handle_inheritable',\n",
       " 'set_inheritable',\n",
       " 'spawnl',\n",
       " 'spawnle',\n",
       " 'spawnv',\n",
       " 'spawnve',\n",
       " 'st',\n",
       " 'startfile',\n",
       " 'stat',\n",
       " 'stat_result',\n",
       " 'statvfs_result',\n",
       " 'strerror',\n",
       " 'supports_bytes_environ',\n",
       " 'supports_dir_fd',\n",
       " 'supports_effective_ids',\n",
       " 'supports_fd',\n",
       " 'supports_follow_symlinks',\n",
       " 'symlink',\n",
       " 'sys',\n",
       " 'system',\n",
       " 'terminal_size',\n",
       " 'times',\n",
       " 'times_result',\n",
       " 'truncate',\n",
       " 'umask',\n",
       " 'uname_result',\n",
       " 'unlink',\n",
       " 'unsetenv',\n",
       " 'urandom',\n",
       " 'utime',\n",
       " 'waitpid',\n",
       " 'waitstatus_to_exitcode',\n",
       " 'walk',\n",
       " 'write']"
      ]
     },
     "execution_count": 5,
     "metadata": {},
     "output_type": "execute_result"
    }
   ],
   "source": [
    "dir(os)"
   ]
  },
  {
   "cell_type": "code",
   "execution_count": 9,
   "id": "1f6e80e8-3586-40e5-906a-65786a8cb23f",
   "metadata": {},
   "outputs": [
    {
     "data": {
      "text/plain": [
       "'C:\\\\WorkData\\\\GitRespostory\\\\python-learn-v3\\\\Gun1'"
      ]
     },
     "execution_count": 9,
     "metadata": {},
     "output_type": "execute_result"
    }
   ],
   "source": [
    "os.getcwd() # çalışma yolunu verir"
   ]
  },
  {
   "cell_type": "markdown",
   "id": "bea7c6b0-cc83-4306-990d-1a24d65bd235",
   "metadata": {},
   "source": [
    "### Shell komutlarını ! ile notebook içinde çalıştırabilirsiniz."
   ]
  },
  {
   "cell_type": "code",
   "execution_count": 10,
   "id": "83d0f772-4422-4fd8-993e-5b2769cf6deb",
   "metadata": {},
   "outputs": [
    {
     "name": "stdout",
     "output_type": "stream",
     "text": [
      "C:\\WorkData\\GitRespostory\\python-learn-v3\\Gun1\n"
     ]
    }
   ],
   "source": [
    "!cd"
   ]
  },
  {
   "cell_type": "code",
   "execution_count": 11,
   "id": "c3100923-8c19-4eed-9f8a-ac27fb04fabb",
   "metadata": {},
   "outputs": [],
   "source": [
    "!mkdir gordugundesil2"
   ]
  },
  {
   "cell_type": "markdown",
   "id": "d9c5bce6-5663-4833-901a-a3403808214b",
   "metadata": {},
   "source": [
    "### Paket indirmek ve Ortama Almak\n",
    "\n",
    "- paket **indirmek** için `pip install paketAdi` (tek tırnak <kbd>AltGr</kbd> + <kbd>,</kbd> ile yaptık)\n",
    "- paket **silmek** için `pip uninstall paketAdi`\n",
    "- yüklü paketleri **listelemek** için `pip list`\n",
    "- bir paket hakkında **bilgi almak** için `pip show paketAdi`\n",
    "\n",
    "**Not:** ! ile shell komutlarını notebook içerisinde çalıştırabiliriz. fakat paket yüklemek istersek bunu kullanmayalım. terminali açıp doğrudan terminal üzerinden paketleri yükleyelim. paket yüklerken oluşan loglar çalışma alanını dolduracaktır."
   ]
  },
  {
   "cell_type": "code",
   "execution_count": 12,
   "id": "a32dc522-32d8-4065-ba5e-be86f69da418",
   "metadata": {},
   "outputs": [
    {
     "name": "stdout",
     "output_type": "stream",
     "text": [
      "Collecting emoji\n",
      "  Using cached emoji-2.2.0.tar.gz (240 kB)\n",
      "  Preparing metadata (setup.py): started\n",
      "  Preparing metadata (setup.py): finished with status 'done'\n",
      "Installing collected packages: emoji\n",
      "  Running setup.py install for emoji: started\n",
      "  Running setup.py install for emoji: finished with status 'done'\n",
      "Successfully installed emoji-2.2.0\n"
     ]
    },
    {
     "name": "stderr",
     "output_type": "stream",
     "text": [
      "  DEPRECATION: emoji is being installed using the legacy 'setup.py install' method, because it does not have a 'pyproject.toml' and the 'wheel' package is not installed. pip 23.1 will enforce this behaviour change. A possible replacement is to enable the '--use-pep517' option. Discussion can be found at https://github.com/pypa/pip/issues/8559\n"
     ]
    }
   ],
   "source": [
    "# bilgisayara indirelim\n",
    "!pip install emoji"
   ]
  },
  {
   "cell_type": "code",
   "execution_count": 13,
   "id": "abae459b-68a8-45ab-8bde-e08ecb082115",
   "metadata": {},
   "outputs": [
    {
     "data": {
      "text/plain": [
       "['EMOJI_DATA',\n",
       " 'LANGUAGES',\n",
       " 'STATUS',\n",
       " '__all__',\n",
       " '__author__',\n",
       " '__builtins__',\n",
       " '__cached__',\n",
       " '__doc__',\n",
       " '__email__',\n",
       " '__file__',\n",
       " '__license__',\n",
       " '__loader__',\n",
       " '__name__',\n",
       " '__package__',\n",
       " '__path__',\n",
       " '__source__',\n",
       " '__spec__',\n",
       " '__version__',\n",
       " 'core',\n",
       " 'demojize',\n",
       " 'distinct_emoji_list',\n",
       " 'emoji_count',\n",
       " 'emoji_list',\n",
       " 'emojize',\n",
       " 'get_aliases_unicode_dict',\n",
       " 'get_emoji_unicode_dict',\n",
       " 'is_emoji',\n",
       " 'replace_emoji',\n",
       " 'unicode_codes',\n",
       " 'version']"
      ]
     },
     "execution_count": 13,
     "metadata": {},
     "output_type": "execute_result"
    }
   ],
   "source": [
    "# çalışma ortamına alalım\n",
    "import emoji as em # as ile alias verdik\n",
    "\n",
    "dir(em)"
   ]
  },
  {
   "cell_type": "code",
   "execution_count": 14,
   "id": "1b9dd3cf-9e1d-4e1d-ad2c-56a80e62da82",
   "metadata": {},
   "outputs": [
    {
     "name": "stdout",
     "output_type": "stream",
     "text": [
      "Help on function emojize in module emoji.core:\n",
      "\n",
      "emojize(string, delimiters=(':', ':'), variant=None, language='en', version=None, handle_version=None)\n",
      "    Replace emoji names in a string with Unicode codes.\n",
      "        >>> import emoji\n",
      "        >>> print(emoji.emojize(\"Python is fun :thumbsup:\", language='alias'))\n",
      "        Python is fun 👍\n",
      "        >>> print(emoji.emojize(\"Python is fun :thumbs_up:\"))\n",
      "        Python is fun 👍\n",
      "        >>> print(emoji.emojize(\"Python is fun {thumbs_up}\", delimiters = (\"{\", \"}\")))\n",
      "        Python is fun 👍\n",
      "        >>> print(emoji.emojize(\"Python is fun :red_heart:\", variant=\"text_type\"))\n",
      "        Python is fun ❤\n",
      "        >>> print(emoji.emojize(\"Python is fun :red_heart:\", variant=\"emoji_type\"))\n",
      "        Python is fun ❤️ # red heart, not black heart\n",
      "    \n",
      "    :param string: String contains emoji names.\n",
      "    :param delimiters: (optional) Use delimiters other than _DEFAULT_DELIMITER. Each delimiter\n",
      "        should contain at least one character that is not part of a-zA-Z0-9 and ``_-&.()!?#*+,``.\n",
      "        See ``emoji.core._EMOJI_NAME_PATTERN`` for the regular expression of unsafe characters.\n",
      "    :param variant: (optional) Choose variation selector between \"base\"(None), VS-15 (\"text_type\") and VS-16 (\"emoji_type\")\n",
      "    :param language: Choose language of emoji name: language code 'es', 'de', etc. or 'alias'\n",
      "        to use English aliases\n",
      "    :param version: (optional) Max version. If set to an Emoji Version,\n",
      "        all emoji above this version will be ignored.\n",
      "    :param handle_version: (optional) Replace the emoji above ``version``\n",
      "        instead of ignoring it. handle_version can be either a string or a\n",
      "        callable; If it is a callable, it's passed the Unicode emoji and the\n",
      "        data dict from emoji.EMOJI_DATA and must return a replacement string\n",
      "        to be used::\n",
      "    \n",
      "            handle_version(u'\\U0001F6EB', {\n",
      "                'en' : ':airplane_departure:',\n",
      "                'status' : fully_qualified,\n",
      "                'E' : 1,\n",
      "                'alias' : [u':flight_departure:'],\n",
      "                'de': u':abflug:',\n",
      "                'es': u':avión_despegando:',\n",
      "                ...\n",
      "            })\n",
      "    \n",
      "    :raises ValueError: if ``variant`` is neither None, 'text_type' or 'emoji_type'\n",
      "\n"
     ]
    }
   ],
   "source": [
    "help(em.emojize)"
   ]
  },
  {
   "cell_type": "code",
   "execution_count": 15,
   "id": "6c729891-245c-4979-9d67-d9988cda7d6d",
   "metadata": {},
   "outputs": [
    {
     "name": "stdout",
     "output_type": "stream",
     "text": [
      "Python is fun ❤️\n"
     ]
    }
   ],
   "source": [
    "print(em.emojize(\"Python is fun :red_heart:\", variant=\"emoji_type\"))"
   ]
  },
  {
   "cell_type": "code",
   "execution_count": null,
   "id": "0bdd9ea0-6a29-4fa4-96c7-54ed6872c18f",
   "metadata": {},
   "outputs": [],
   "source": []
  }
 ],
 "metadata": {
  "kernelspec": {
   "display_name": "Python 3 (ipykernel)",
   "language": "python",
   "name": "python3"
  },
  "language_info": {
   "codemirror_mode": {
    "name": "ipython",
    "version": 3
   },
   "file_extension": ".py",
   "mimetype": "text/x-python",
   "name": "python",
   "nbconvert_exporter": "python",
   "pygments_lexer": "ipython3",
   "version": "3.9.5"
  }
 },
 "nbformat": 4,
 "nbformat_minor": 5
}
