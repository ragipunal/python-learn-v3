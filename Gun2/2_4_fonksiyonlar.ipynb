{
 "cells": [
  {
   "cell_type": "markdown",
   "id": "21503050-e6d9-4137-8470-2e772d3a8fc1",
   "metadata": {},
   "source": [
    "### Fonksiyonlar\n",
    "\n",
    "- Fonksiyonlar bir kod parçasına isi vermektir.\n",
    "- Birden fazla yerde aynı kod parçasını kullanacaksak fonksiyon haline getirmek daha modüler olur.\n",
    "- Fonksiyonlar dışardıdan değer alabilirler (Parametre) ve geriye değer döndürebilirler\n",
    "- def ile tanımlanırlar. return ile fonksiyondan çıkılabilir. çıkarken değer döndürebiliriz.\n",
    "- fonksiyonları çalıştırırken isimlerinin yanına () kullanmamız gerekir. diğer türlü nesne olarak ifade ediyoruz demektir."
   ]
  },
  {
   "cell_type": "code",
   "execution_count": 1,
   "id": "a879813e-747b-48e3-8fea-0fdf8ba96e5a",
   "metadata": {},
   "outputs": [],
   "source": [
    "# ör:\n",
    "# C cinsinden sıcaklığı F cinsine çeviren fonksiyon yazalım\n",
    "\n",
    "def c2f(c_sicaklik):\n",
    "    f_sicaklik = c_sicaklik*1.8 + 32\n",
    "    \n",
    "    return f\"{c_sicaklik} C = {f_sicaklik} F\""
   ]
  },
  {
   "cell_type": "code",
   "execution_count": 3,
   "id": "82f7e1bc-5d78-43d0-8c9d-dd449ef70a4c",
   "metadata": {},
   "outputs": [
    {
     "data": {
      "text/plain": [
       "<function __main__.c2f(c_sicaklik)>"
      ]
     },
     "execution_count": 3,
     "metadata": {},
     "output_type": "execute_result"
    }
   ],
   "source": [
    "c2f # nesne olarak fonksiyonu ifade ettik"
   ]
  },
  {
   "cell_type": "code",
   "execution_count": 4,
   "id": "bf8c50b9-34e7-4c32-a3a3-c1410172652a",
   "metadata": {},
   "outputs": [
    {
     "data": {
      "text/plain": [
       "'10 C = 50.0 F'"
      ]
     },
     "execution_count": 4,
     "metadata": {},
     "output_type": "execute_result"
    }
   ],
   "source": [
    "c2f(10)"
   ]
  },
  {
   "cell_type": "code",
   "execution_count": 5,
   "id": "e0a93957-fa0b-4e1c-83b3-85d43befaeb7",
   "metadata": {},
   "outputs": [
    {
     "data": {
      "text/plain": [
       "'10 C = 50.0 F'"
      ]
     },
     "execution_count": 5,
     "metadata": {},
     "output_type": "execute_result"
    }
   ],
   "source": [
    "c2f(c_sicaklik=10)"
   ]
  },
  {
   "cell_type": "code",
   "execution_count": 6,
   "id": "c799f3ba-4d2a-4136-8a87-394d0ff7b2ac",
   "metadata": {},
   "outputs": [],
   "source": [
    "# örn:\n",
    "# beden kitle indexi üzerinden obozite seviyesini belirleyen fonk. yazın.\n",
    "\n",
    "def obezite_seviyem(kilo,boy):\n",
    "    '''\n",
    "        Bu fonksiyon beden kitle indexi üzerinden obezite seviyesini hesaplar\n",
    "        \n",
    "        Parametreler:\n",
    "        ---------------------\n",
    "        kilo: kg cinsinden kilonuz\n",
    "        boy : m cinsinden boyunuz\n",
    "    '''\n",
    "    \n",
    "    bki = kilo/boy**2\n",
    "    \n",
    "    if bki >= 30:\n",
    "        return \"Obez\"\n",
    "    elif bki >= 25:\n",
    "        return \"Hafif Şişman\"\n",
    "    elif bki >= 18.5:\n",
    "        return \"Normal\"\n",
    "    elif bki >= 17:\n",
    "        return \"Hafif düzeyde zayıf\"\n",
    "    elif bki >= 16:\n",
    "        return \"Orta düzeyde zayıf\"\n",
    "    else:\n",
    "        return \"Ağır düzeyde zayıf\""
   ]
  },
  {
   "cell_type": "code",
   "execution_count": 7,
   "id": "ecc40caa-fc00-4646-8b72-ce68106c6d96",
   "metadata": {},
   "outputs": [
    {
     "name": "stdout",
     "output_type": "stream",
     "text": [
      "Help on function obezite_seviyem in module __main__:\n",
      "\n",
      "obezite_seviyem(kilo, boy)\n",
      "    Bu fonksiyon beden kitle indexi üzerinden obezite seviyesini hesaplar\n",
      "    \n",
      "    Parametreler:\n",
      "    ---------------------\n",
      "    kilo: kg cinsinden kilonuz\n",
      "    boy : m cinsinden boyunuz\n",
      "\n"
     ]
    }
   ],
   "source": [
    "help(obezite_seviyem)"
   ]
  },
  {
   "cell_type": "code",
   "execution_count": 8,
   "id": "3b81ab66-8dad-4acc-ac2d-7ea8275b95aa",
   "metadata": {},
   "outputs": [
    {
     "data": {
      "text/plain": [
       "'Hafif Şişman'"
      ]
     },
     "execution_count": 8,
     "metadata": {},
     "output_type": "execute_result"
    }
   ],
   "source": [
    "obezite_seviyem(90,1.75)"
   ]
  },
  {
   "cell_type": "code",
   "execution_count": 9,
   "id": "6217c087-77e9-45e4-9f73-27c6f34179bd",
   "metadata": {},
   "outputs": [],
   "source": [
    "# ör:\n",
    "# Bir textin float olup olmadığını True/False olarak veren bir fonksiyon yazalım\n",
    "\n",
    "def is_float(sayi):\n",
    "    try:\n",
    "        sayi = float(sayi)\n",
    "    except:\n",
    "        return False\n",
    "    else:\n",
    "        return True"
   ]
  },
  {
   "cell_type": "code",
   "execution_count": 10,
   "id": "862cba3d-45b9-4481-82b7-edb36ce18526",
   "metadata": {},
   "outputs": [
    {
     "data": {
      "text/plain": [
       "True"
      ]
     },
     "execution_count": 10,
     "metadata": {},
     "output_type": "execute_result"
    }
   ],
   "source": [
    "is_float(\"10.2\")"
   ]
  },
  {
   "cell_type": "code",
   "execution_count": 11,
   "id": "4d5360e7-5cb4-488b-af85-6ffbb69ef8d9",
   "metadata": {},
   "outputs": [
    {
     "data": {
      "text/plain": [
       "False"
      ]
     },
     "execution_count": 11,
     "metadata": {},
     "output_type": "execute_result"
    }
   ],
   "source": [
    "is_float(\"1.0.2\")"
   ]
  },
  {
   "cell_type": "markdown",
   "id": "cc5a2fef-f897-4c30-a4c8-ccf99d9554aa",
   "metadata": {},
   "source": [
    "### Fonksiyon Parametreleri ile iligli Durumlar\n",
    "* parametreler varsayılan değer alabilir\n",
    "* parametreler sınırsız değer alabilir\n",
    "  * `*parametreAdi` şeklinde tanımlandıysa sınırsız sayıda değer alabilir ve bunları tupleolarak tutar\n",
    "  * `**parametreAdi` şeklinde bir tanımlandıysa sınırsız sayıda key:value şeklinde değer alabilir. içeride dict tutar"
   ]
  },
  {
   "cell_type": "markdown",
   "id": "7de8f100-2e2a-4ff4-b87e-a9af79d6f3be",
   "metadata": {},
   "source": [
    "### varsayılan değer"
   ]
  },
  {
   "cell_type": "code",
   "execution_count": 12,
   "id": "4a655611-a31d-408f-9b1a-d36b096cd7bc",
   "metadata": {},
   "outputs": [],
   "source": [
    "def fnk_varsayilan_deger(p1, p2=\"varsayilan değer\"):\n",
    "    print(\"p1:\", p1)\n",
    "    print(\"p2:\", p2)"
   ]
  },
  {
   "cell_type": "code",
   "execution_count": 13,
   "id": "5d6d9a8b-ab44-4bdc-b51b-7ae5e3fd71ee",
   "metadata": {},
   "outputs": [
    {
     "name": "stdout",
     "output_type": "stream",
     "text": [
      "p1: Ali\n",
      "p2: Uçan\n"
     ]
    }
   ],
   "source": [
    "fnk_varsayilan_deger(\"Ali\",\"Uçan\")"
   ]
  },
  {
   "cell_type": "code",
   "execution_count": 14,
   "id": "9433a20a-0cca-46c9-9453-8ed605f42a25",
   "metadata": {},
   "outputs": [
    {
     "name": "stdout",
     "output_type": "stream",
     "text": [
      "p1: Ali\n",
      "p2: varsayilan değer\n"
     ]
    }
   ],
   "source": [
    "fnk_varsayilan_deger(\"Ali\")"
   ]
  },
  {
   "cell_type": "code",
   "execution_count": 15,
   "id": "b53ae62d-e05f-41f2-a9d9-bc01f63a628c",
   "metadata": {},
   "outputs": [
    {
     "name": "stdout",
     "output_type": "stream",
     "text": [
      "p1: Ali\n",
      "p2: varsayilan değer\n"
     ]
    }
   ],
   "source": [
    "fnk_varsayilan_deger(p1=\"Ali\")"
   ]
  },
  {
   "cell_type": "markdown",
   "id": "4ff97148-3197-40f9-a7c6-9614fcece973",
   "metadata": {},
   "source": [
    "### sınırsız değer"
   ]
  },
  {
   "cell_type": "code",
   "execution_count": 17,
   "id": "225e1e33-c3ca-4d2a-af02-6abb71e7fe75",
   "metadata": {},
   "outputs": [],
   "source": [
    "def fnk_sinirsiz_deger(*sinirsiz_value, **sinirsiz_key_value):\n",
    "    print(sinirsiz_value)\n",
    "    print(sinirsiz_key_value)"
   ]
  },
  {
   "cell_type": "code",
   "execution_count": 18,
   "id": "9ed93360-aaf4-42dd-9f98-5f9367204c0b",
   "metadata": {},
   "outputs": [
    {
     "name": "stdout",
     "output_type": "stream",
     "text": [
      "(1, 2, 3, 'Ali', 'Veli')\n",
      "{}\n"
     ]
    }
   ],
   "source": [
    "fnk_sinirsiz_deger(1,2,3,\"Ali\",\"Veli\")"
   ]
  },
  {
   "cell_type": "code",
   "execution_count": 19,
   "id": "9a6f07aa-c12a-4f87-b910-e0165b8b7264",
   "metadata": {},
   "outputs": [
    {
     "name": "stdout",
     "output_type": "stream",
     "text": [
      "(1, 2, 3)\n",
      "{'ad': 'Ali', 'soyad': 'Veli'}\n"
     ]
    }
   ],
   "source": [
    "fnk_sinirsiz_deger(1,2,3,ad=\"Ali\", soyad=\"Veli\")"
   ]
  },
  {
   "cell_type": "code",
   "execution_count": 21,
   "id": "4b1169b1-4112-4824-9f2f-02ab0be2523c",
   "metadata": {},
   "outputs": [
    {
     "data": {
      "text/plain": [
       "(2, 324, [12, 312])"
      ]
     },
     "execution_count": 21,
     "metadata": {},
     "output_type": "execute_result"
    }
   ],
   "source": [
    "# Soru\n",
    "# girilen sayılardan 4'e tam bölünenlerin adedini, toplamını ve kendilerini getirelim.\n",
    "'''\n",
    "lst = [1,2,3]\n",
    "lst.append(4) # listeye eleman eklemek için append kullanılır\n",
    "lst\n",
    "'''\n",
    "# container lar için bazır fonksiyonlar\n",
    "'''\n",
    "len(lst)\n",
    "sum(lst)\n",
    "min(lst)\n",
    "max(lst)\n",
    "'''\n",
    "\n",
    "def fnk_ozel_hesap_tuple(*sayilar):\n",
    "    lst = []\n",
    "    for s in set(sayilar): # set ile benzersiz sayılar üzerinden çalışırız\n",
    "        if s % 4 == 0:\n",
    "            lst.append(s)\n",
    "            \n",
    "    return len(lst), sum(lst), lst\n",
    "\n",
    "fnk_ozel_hesap_tuple(1,2,3,2,1,321,3,12,3,12,312)"
   ]
  },
  {
   "cell_type": "code",
   "execution_count": 22,
   "id": "4608ce8a-a8dd-44ae-8815-ddd815359dca",
   "metadata": {},
   "outputs": [
    {
     "data": {
      "text/plain": [
       "{'adet': 2, 'toplam': 324, 'list': [12, 312]}"
      ]
     },
     "execution_count": 22,
     "metadata": {},
     "output_type": "execute_result"
    }
   ],
   "source": [
    "def fnk_ozel_hesap_dict(*sayilar):\n",
    "    lst = []\n",
    "    for s in set(sayilar): # set ile benzersiz sayılar üzerinden çalışırız\n",
    "        if s % 4 == 0:\n",
    "            lst.append(s)\n",
    "            \n",
    "    return {\n",
    "            \"adet\": len(lst),\n",
    "            \"toplam\": sum(lst),\n",
    "            \"list\": lst\n",
    "           }\n",
    "\n",
    "fnk_ozel_hesap_dict(1,2,3,2,1,321,3,12,3,12,312)"
   ]
  },
  {
   "cell_type": "markdown",
   "id": "d8d3a9f8-e844-457f-ab03-fb3479c0067d",
   "metadata": {},
   "source": [
    "### Anonymous Functions (lambda)\n",
    "\n",
    "- tek satırda kolayca isimsiz ve gövdesiz fonksiyon yazmak için kullanılır"
   ]
  },
  {
   "cell_type": "code",
   "execution_count": 23,
   "id": "7037c4c7-1a99-4bd1-b3ec-2797220ba919",
   "metadata": {},
   "outputs": [
    {
     "data": {
      "text/plain": [
       "50.0"
      ]
     },
     "execution_count": 23,
     "metadata": {},
     "output_type": "execute_result"
    }
   ],
   "source": [
    "# klasik yöntem\n",
    "def c2f(c):\n",
    "    return 1.8*c+32\n",
    "\n",
    "# lambda\n",
    "'''\n",
    "    lambda -> zorunlu\n",
    "    parametreler : return edilecekler\n",
    "'''\n",
    "\n",
    "c2f = lambda c:1.8*c+32\n",
    "\n",
    "c2f(10)"
   ]
  },
  {
   "cell_type": "code",
   "execution_count": 24,
   "id": "f67aa25b-d8bf-4b52-847c-82f0ad8f8520",
   "metadata": {},
   "outputs": [
    {
     "data": {
      "text/plain": [
       "['Ali', 'Veli', 'Ayşe']"
      ]
     },
     "execution_count": 24,
     "metadata": {},
     "output_type": "execute_result"
    }
   ],
   "source": [
    "# örn:\n",
    "lst_personel = [\"ali\",\"veli\",\"ayşe\"]\n",
    "\n",
    "# bu isimlerin baş harfi büyük olacak şekilde yazalım\n",
    "\n",
    "lst_basharfi_buyuk = []\n",
    "for p in lst_personel:\n",
    "    lst_basharfi_buyuk.append(p.capitalize())\n",
    "    \n",
    "lst_basharfi_buyuk"
   ]
  },
  {
   "cell_type": "code",
   "execution_count": 25,
   "id": "3704c68b-28d3-4bb6-94c0-d7ae35c549d0",
   "metadata": {},
   "outputs": [
    {
     "data": {
      "text/plain": [
       "['Ali', 'Veli', 'Ayşe']"
      ]
     },
     "execution_count": 25,
     "metadata": {},
     "output_type": "execute_result"
    }
   ],
   "source": [
    "# map göümülü fonksiyonlardandır. bir container elemanlarına belirtilen fonk. uygular. broadcast özelliği kazandırır.\n",
    "# geri iterasyon yapılabilecek bir map nesnesi döndürür. list ve for ile açabiliriz.\n",
    "\n",
    "list(map(str.capitalize, lst_personel)) # her bir elemana str.capitalize fonksiyonu uygula demektir () kullanmadık"
   ]
  },
  {
   "cell_type": "code",
   "execution_count": 26,
   "id": "bcce3eb3-f441-4c63-b5b0-6e07bc830b6a",
   "metadata": {},
   "outputs": [
    {
     "data": {
      "text/plain": [
       "['ALI', 'VELI', 'AYŞE']"
      ]
     },
     "execution_count": 26,
     "metadata": {},
     "output_type": "execute_result"
    }
   ],
   "source": [
    "# özel işlev kazandırmak istediğimizde\n",
    "list(map(lambda p:p.upper(), lst_personel))"
   ]
  },
  {
   "cell_type": "code",
   "execution_count": 27,
   "id": "b517df67-5605-481c-a1e8-3c97ecf8ba02",
   "metadata": {},
   "outputs": [],
   "source": [
    "# map, zip, filter, enumarate, reduce fonk. araştırabilirsiniz."
   ]
  },
  {
   "cell_type": "markdown",
   "id": "b55d0d71-b227-4a4d-8cae-f568353fe149",
   "metadata": {},
   "source": [
    "### list, set, tuple içinde for ve if kullanımı (map alternatifi)"
   ]
  },
  {
   "cell_type": "code",
   "execution_count": 28,
   "id": "cd65229c-8de3-48ea-bc02-9c660acc9fbd",
   "metadata": {},
   "outputs": [
    {
     "data": {
      "text/plain": [
       "['Ali', 'Veli', 'Ayşe']"
      ]
     },
     "execution_count": 28,
     "metadata": {},
     "output_type": "execute_result"
    }
   ],
   "source": [
    "[p.capitalize() for p in lst_personel]"
   ]
  },
  {
   "cell_type": "code",
   "execution_count": 29,
   "id": "48cbefd3-5612-450d-8c03-eb574c65bcf6",
   "metadata": {},
   "outputs": [
    {
     "data": {
      "text/plain": [
       "{'Ali', 'Ayşe', 'Veli'}"
      ]
     },
     "execution_count": 29,
     "metadata": {},
     "output_type": "execute_result"
    }
   ],
   "source": [
    "{p.capitalize() for p in lst_personel}"
   ]
  },
  {
   "cell_type": "code",
   "execution_count": 30,
   "id": "52324233-17bd-44a3-af63-36d6660547ab",
   "metadata": {},
   "outputs": [
    {
     "data": {
      "text/plain": [
       "[3, 4, 4]"
      ]
     },
     "execution_count": 30,
     "metadata": {},
     "output_type": "execute_result"
    }
   ],
   "source": [
    "[len(p) for p in lst_personel] # her biri kaç karakter"
   ]
  },
  {
   "cell_type": "code",
   "execution_count": null,
   "id": "82626dd8-a436-4fb8-ae9c-eed1aaeeda4f",
   "metadata": {},
   "outputs": [],
   "source": []
  }
 ],
 "metadata": {
  "kernelspec": {
   "display_name": "Python 3 (ipykernel)",
   "language": "python",
   "name": "python3"
  },
  "language_info": {
   "codemirror_mode": {
    "name": "ipython",
    "version": 3
   },
   "file_extension": ".py",
   "mimetype": "text/x-python",
   "name": "python",
   "nbconvert_exporter": "python",
   "pygments_lexer": "ipython3",
   "version": "3.9.5"
  }
 },
 "nbformat": 4,
 "nbformat_minor": 5
}
