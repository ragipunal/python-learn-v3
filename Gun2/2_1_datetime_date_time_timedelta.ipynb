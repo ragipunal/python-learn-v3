{
 "cells": [
  {
   "cell_type": "markdown",
   "id": "42148b6f-2d45-48f1-a84a-2430a0815e75",
   "metadata": {},
   "source": [
    "### Zamansal Veri Tipleri\n",
    "\n",
    "**datetime** paketi ile aşağıdaki tipleri kullanabiliriz\n",
    "\n",
    "- **date**: sadece tarih\n",
    "- **datetime**: tarih ve zaman\n",
    "- **time**: zaman\n",
    "- **timedelta**: iki zaman arasındaki farkı temsil eder"
   ]
  },
  {
   "cell_type": "code",
   "execution_count": 1,
   "id": "410897d3-bfed-4784-8956-0dfa9fa5c915",
   "metadata": {},
   "outputs": [],
   "source": [
    "from datetime import date, datetime, time, timedelta"
   ]
  },
  {
   "cell_type": "markdown",
   "id": "87f82e19-312f-433e-a6b0-0d112d1cf551",
   "metadata": {},
   "source": [
    "### date"
   ]
  },
  {
   "cell_type": "code",
   "execution_count": 2,
   "id": "d98972ce-0133-4d1b-8739-0ffd13d522c2",
   "metadata": {},
   "outputs": [
    {
     "data": {
      "text/plain": [
       "['__add__',\n",
       " '__class__',\n",
       " '__delattr__',\n",
       " '__dir__',\n",
       " '__doc__',\n",
       " '__eq__',\n",
       " '__format__',\n",
       " '__ge__',\n",
       " '__getattribute__',\n",
       " '__gt__',\n",
       " '__hash__',\n",
       " '__init__',\n",
       " '__init_subclass__',\n",
       " '__le__',\n",
       " '__lt__',\n",
       " '__ne__',\n",
       " '__new__',\n",
       " '__radd__',\n",
       " '__reduce__',\n",
       " '__reduce_ex__',\n",
       " '__repr__',\n",
       " '__rsub__',\n",
       " '__setattr__',\n",
       " '__sizeof__',\n",
       " '__str__',\n",
       " '__sub__',\n",
       " '__subclasshook__',\n",
       " 'ctime',\n",
       " 'day',\n",
       " 'fromisocalendar',\n",
       " 'fromisoformat',\n",
       " 'fromordinal',\n",
       " 'fromtimestamp',\n",
       " 'isocalendar',\n",
       " 'isoformat',\n",
       " 'isoweekday',\n",
       " 'max',\n",
       " 'min',\n",
       " 'month',\n",
       " 'replace',\n",
       " 'resolution',\n",
       " 'strftime',\n",
       " 'timetuple',\n",
       " 'today',\n",
       " 'toordinal',\n",
       " 'weekday',\n",
       " 'year']"
      ]
     },
     "execution_count": 2,
     "metadata": {},
     "output_type": "execute_result"
    }
   ],
   "source": [
    "dir(date)"
   ]
  },
  {
   "cell_type": "markdown",
   "id": "e96d6c6d-9e57-4cd4-a269-f7211015974a",
   "metadata": {},
   "source": [
    "date.today()"
   ]
  },
  {
   "cell_type": "code",
   "execution_count": 4,
   "id": "39bdda71-6477-4751-ba6b-2b962723857e",
   "metadata": {},
   "outputs": [
    {
     "data": {
      "text/plain": [
       "23"
      ]
     },
     "execution_count": 4,
     "metadata": {},
     "output_type": "execute_result"
    }
   ],
   "source": [
    "date.today().day"
   ]
  },
  {
   "cell_type": "code",
   "execution_count": 5,
   "id": "506aa4b2-bacd-4b7e-be46-709c84181b5b",
   "metadata": {},
   "outputs": [
    {
     "data": {
      "text/plain": [
       "11"
      ]
     },
     "execution_count": 5,
     "metadata": {},
     "output_type": "execute_result"
    }
   ],
   "source": [
    "date.today().month"
   ]
  },
  {
   "cell_type": "code",
   "execution_count": 6,
   "id": "7d102ccb-8ec2-49de-ac1c-a26256af41cb",
   "metadata": {},
   "outputs": [
    {
     "data": {
      "text/plain": [
       "2022"
      ]
     },
     "execution_count": 6,
     "metadata": {},
     "output_type": "execute_result"
    }
   ],
   "source": [
    "date.today().year"
   ]
  },
  {
   "cell_type": "markdown",
   "id": "189e56c5-ee4b-4301-9e0e-4fb4a20d91cc",
   "metadata": {},
   "source": [
    "### datetime"
   ]
  },
  {
   "cell_type": "code",
   "execution_count": 7,
   "id": "255c84a6-ec82-4bd6-a41b-c2d695b27ddf",
   "metadata": {},
   "outputs": [
    {
     "data": {
      "text/plain": [
       "['__add__',\n",
       " '__class__',\n",
       " '__delattr__',\n",
       " '__dir__',\n",
       " '__doc__',\n",
       " '__eq__',\n",
       " '__format__',\n",
       " '__ge__',\n",
       " '__getattribute__',\n",
       " '__gt__',\n",
       " '__hash__',\n",
       " '__init__',\n",
       " '__init_subclass__',\n",
       " '__le__',\n",
       " '__lt__',\n",
       " '__ne__',\n",
       " '__new__',\n",
       " '__radd__',\n",
       " '__reduce__',\n",
       " '__reduce_ex__',\n",
       " '__repr__',\n",
       " '__rsub__',\n",
       " '__setattr__',\n",
       " '__sizeof__',\n",
       " '__str__',\n",
       " '__sub__',\n",
       " '__subclasshook__',\n",
       " 'astimezone',\n",
       " 'combine',\n",
       " 'ctime',\n",
       " 'date',\n",
       " 'day',\n",
       " 'dst',\n",
       " 'fold',\n",
       " 'fromisocalendar',\n",
       " 'fromisoformat',\n",
       " 'fromordinal',\n",
       " 'fromtimestamp',\n",
       " 'hour',\n",
       " 'isocalendar',\n",
       " 'isoformat',\n",
       " 'isoweekday',\n",
       " 'max',\n",
       " 'microsecond',\n",
       " 'min',\n",
       " 'minute',\n",
       " 'month',\n",
       " 'now',\n",
       " 'replace',\n",
       " 'resolution',\n",
       " 'second',\n",
       " 'strftime',\n",
       " 'strptime',\n",
       " 'time',\n",
       " 'timestamp',\n",
       " 'timetuple',\n",
       " 'timetz',\n",
       " 'today',\n",
       " 'toordinal',\n",
       " 'tzinfo',\n",
       " 'tzname',\n",
       " 'utcfromtimestamp',\n",
       " 'utcnow',\n",
       " 'utcoffset',\n",
       " 'utctimetuple',\n",
       " 'weekday',\n",
       " 'year']"
      ]
     },
     "execution_count": 7,
     "metadata": {},
     "output_type": "execute_result"
    }
   ],
   "source": [
    "dir(datetime)"
   ]
  },
  {
   "cell_type": "code",
   "execution_count": 8,
   "id": "f74b46d5-3516-43eb-b9fb-d1815e3d5bf9",
   "metadata": {},
   "outputs": [
    {
     "data": {
      "text/plain": [
       "datetime.datetime(2022, 11, 23, 16, 21, 38, 953338)"
      ]
     },
     "execution_count": 8,
     "metadata": {},
     "output_type": "execute_result"
    }
   ],
   "source": [
    "datetime.today()"
   ]
  },
  {
   "cell_type": "code",
   "execution_count": 9,
   "id": "440b7c3c-b192-43ea-9838-56c3bc7d69a6",
   "metadata": {},
   "outputs": [
    {
     "data": {
      "text/plain": [
       "datetime.datetime(2022, 11, 23, 16, 21, 50, 157150)"
      ]
     },
     "execution_count": 9,
     "metadata": {},
     "output_type": "execute_result"
    }
   ],
   "source": [
    "datetime.now()"
   ]
  },
  {
   "cell_type": "code",
   "execution_count": 10,
   "id": "d8ed8761-068d-4bd8-b955-9adc55734ef3",
   "metadata": {},
   "outputs": [
    {
     "data": {
      "text/plain": [
       "datetime.datetime(2022, 11, 23, 13, 22, 7, 25072)"
      ]
     },
     "execution_count": 10,
     "metadata": {},
     "output_type": "execute_result"
    }
   ],
   "source": [
    "datetime.utcnow()"
   ]
  },
  {
   "cell_type": "code",
   "execution_count": 11,
   "id": "f96c7c6c-9267-4719-99be-c079a44c96cb",
   "metadata": {},
   "outputs": [
    {
     "data": {
      "text/plain": [
       "2022"
      ]
     },
     "execution_count": 11,
     "metadata": {},
     "output_type": "execute_result"
    }
   ],
   "source": [
    "datetime.now().year"
   ]
  },
  {
   "cell_type": "code",
   "execution_count": 12,
   "id": "919cdac1-c933-4a2e-94f0-67ff824f67af",
   "metadata": {},
   "outputs": [
    {
     "data": {
      "text/plain": [
       "datetime.time(16, 22, 50, 106430)"
      ]
     },
     "execution_count": 12,
     "metadata": {},
     "output_type": "execute_result"
    }
   ],
   "source": [
    "datetime.now().time()"
   ]
  },
  {
   "cell_type": "code",
   "execution_count": 13,
   "id": "0f177e3d-9601-4a7b-9988-81e750240a5f",
   "metadata": {},
   "outputs": [
    {
     "data": {
      "text/plain": [
       "16"
      ]
     },
     "execution_count": 13,
     "metadata": {},
     "output_type": "execute_result"
    }
   ],
   "source": [
    "datetime.now().time().hour"
   ]
  },
  {
   "cell_type": "code",
   "execution_count": 14,
   "id": "2a965ba0-6960-4630-8db1-2a5f5890ad9c",
   "metadata": {},
   "outputs": [
    {
     "data": {
      "text/plain": [
       "23"
      ]
     },
     "execution_count": 14,
     "metadata": {},
     "output_type": "execute_result"
    }
   ],
   "source": [
    "datetime.now().time().minute"
   ]
  },
  {
   "cell_type": "code",
   "execution_count": 15,
   "id": "a74151ac-931b-4914-96cf-5ec2656297eb",
   "metadata": {},
   "outputs": [
    {
     "data": {
      "text/plain": [
       "30"
      ]
     },
     "execution_count": 15,
     "metadata": {},
     "output_type": "execute_result"
    }
   ],
   "source": [
    "datetime.now().time().second"
   ]
  },
  {
   "cell_type": "markdown",
   "id": "ff1de348-b743-4123-8c43-2e0384e390d2",
   "metadata": {},
   "source": [
    "### Tarih oluşturma"
   ]
  },
  {
   "cell_type": "code",
   "execution_count": 16,
   "id": "d67b8f3a-bcac-4d1b-8cdf-df1542055ead",
   "metadata": {},
   "outputs": [
    {
     "name": "stdout",
     "output_type": "stream",
     "text": [
      "<class 'datetime.date'>\n"
     ]
    }
   ],
   "source": [
    "tarih = date(year=2022, month=10, day=8)\n",
    "print(type(tarih))"
   ]
  },
  {
   "cell_type": "code",
   "execution_count": 17,
   "id": "dc72de03-277d-4d37-9133-8f163730e8d5",
   "metadata": {},
   "outputs": [],
   "source": [
    "# tarih güncelleme\n",
    "tarih = tarih.replace(month=11)"
   ]
  },
  {
   "cell_type": "code",
   "execution_count": 19,
   "id": "f211f593-6959-464d-9899-f80516824e05",
   "metadata": {},
   "outputs": [
    {
     "name": "stdout",
     "output_type": "stream",
     "text": [
      "2022-11-08\n"
     ]
    }
   ],
   "source": [
    "print(tarih) # iso"
   ]
  },
  {
   "cell_type": "markdown",
   "id": "8db6d3bd-5244-45c5-9dfd-c64885760971",
   "metadata": {},
   "source": [
    "### `strptime` ile giriş formatı belirtebiliriz\n",
    "\n",
    "- giriş formatı format codeları ile belirtilir. Mesela %Y, %m, %d şeklinde\n",
    "- format codeları notlarda mevcut\n",
    "\n",
    "![date](strftime_Format.png)"
   ]
  },
  {
   "cell_type": "code",
   "execution_count": 20,
   "id": "15403752-fae3-4614-b117-ef5076e5091d",
   "metadata": {},
   "outputs": [
    {
     "name": "stdout",
     "output_type": "stream",
     "text": [
      "<class 'datetime.datetime'>\n",
      "2022-11-08 00:00:00\n"
     ]
    }
   ],
   "source": [
    "# 2. yöntem\n",
    "str_tarih = '08/11/2022'\n",
    "tarih = datetime.strptime(str_tarih, \"%d/%m/%Y\")\n",
    "print(type(tarih))\n",
    "\n",
    "print(tarih) #iso formatın"
   ]
  },
  {
   "cell_type": "markdown",
   "id": "3fadc66f-b39c-470d-91fe-c9eeafbf90bb",
   "metadata": {},
   "source": [
    "`strftime` ile çıktı formatı belirtebiliriz"
   ]
  },
  {
   "cell_type": "code",
   "execution_count": 21,
   "id": "feadbed9-0330-450c-81b7-f12cb67c393f",
   "metadata": {},
   "outputs": [
    {
     "name": "stdout",
     "output_type": "stream",
     "text": [
      "2022-11-08 00:00:00\n",
      "Tuesday 08. November 2022\n",
      "08-11-2022\n"
     ]
    }
   ],
   "source": [
    "print(tarih)\n",
    "\n",
    "print(tarih.strftime(\"%A %d. %B %Y\"))\n",
    "print(tarih.strftime(\"%d-%m-%Y\"))"
   ]
  },
  {
   "cell_type": "markdown",
   "id": "38baafe7-c699-4fff-947a-0f188f477439",
   "metadata": {},
   "source": [
    "### timedelta"
   ]
  },
  {
   "cell_type": "code",
   "execution_count": 22,
   "id": "e94f9bf7-6440-40c9-9e9a-a1fa5dfedcbd",
   "metadata": {},
   "outputs": [
    {
     "data": {
      "text/plain": [
       "['__abs__',\n",
       " '__add__',\n",
       " '__bool__',\n",
       " '__class__',\n",
       " '__delattr__',\n",
       " '__dir__',\n",
       " '__divmod__',\n",
       " '__doc__',\n",
       " '__eq__',\n",
       " '__floordiv__',\n",
       " '__format__',\n",
       " '__ge__',\n",
       " '__getattribute__',\n",
       " '__gt__',\n",
       " '__hash__',\n",
       " '__init__',\n",
       " '__init_subclass__',\n",
       " '__le__',\n",
       " '__lt__',\n",
       " '__mod__',\n",
       " '__mul__',\n",
       " '__ne__',\n",
       " '__neg__',\n",
       " '__new__',\n",
       " '__pos__',\n",
       " '__radd__',\n",
       " '__rdivmod__',\n",
       " '__reduce__',\n",
       " '__reduce_ex__',\n",
       " '__repr__',\n",
       " '__rfloordiv__',\n",
       " '__rmod__',\n",
       " '__rmul__',\n",
       " '__rsub__',\n",
       " '__rtruediv__',\n",
       " '__setattr__',\n",
       " '__sizeof__',\n",
       " '__str__',\n",
       " '__sub__',\n",
       " '__subclasshook__',\n",
       " '__truediv__',\n",
       " 'days',\n",
       " 'max',\n",
       " 'microseconds',\n",
       " 'min',\n",
       " 'resolution',\n",
       " 'seconds',\n",
       " 'total_seconds']"
      ]
     },
     "execution_count": 22,
     "metadata": {},
     "output_type": "execute_result"
    }
   ],
   "source": [
    "dir(timedelta)"
   ]
  },
  {
   "cell_type": "code",
   "execution_count": 24,
   "id": "38f6de88-39b7-4f4a-bdb0-794bc1c4f3d0",
   "metadata": {},
   "outputs": [
    {
     "name": "stdout",
     "output_type": "stream",
     "text": [
      "<class 'datetime.timedelta'>\n",
      "38 days, 0:00:00\n",
      "38\n",
      "0\n",
      "3283200.0\n"
     ]
    }
   ],
   "source": [
    "tarih_farki = date(2022,12,31) - date.today()\n",
    "\n",
    "print(type(tarih_farki))\n",
    "print(tarih_farki)\n",
    "\n",
    "print(tarih_farki.days)\n",
    "print(tarih_farki.seconds)\n",
    "\n",
    "print(tarih_farki.total_seconds())"
   ]
  },
  {
   "cell_type": "code",
   "execution_count": 25,
   "id": "3ca6fb4e-f5cb-48c4-9019-8b23b444d5dd",
   "metadata": {},
   "outputs": [
    {
     "data": {
      "text/plain": [
       "datetime.date(2022, 12, 14)"
      ]
     },
     "execution_count": 25,
     "metadata": {},
     "output_type": "execute_result"
    }
   ],
   "source": [
    "# tarihte ileri geri gitmek için zaman farkı oluşturabiliriz\n",
    "\n",
    "yedi_gun = timedelta(days=7) # 7 günlük farkı\n",
    "\n",
    "date.today() + yedi_gun*3 # 3 hafta sonra hangi tarih"
   ]
  },
  {
   "cell_type": "code",
   "execution_count": 28,
   "id": "4770e4dc-0c2e-4c9b-a2b2-57b078a3898d",
   "metadata": {},
   "outputs": [
    {
     "name": "stdout",
     "output_type": "stream",
     "text": [
      "Siz doğalı 26,624 gün, 60,220 saniye oldu\n",
      "Siz doğalı toplamda 2,300,373,821 saniye oldu.\n"
     ]
    }
   ],
   "source": [
    "# soru:\n",
    "# doğalı kaç gün kaç saniye olmuş\n",
    "# toplamda kaç saniye geçmiş\n",
    "\n",
    "str_tarih = \"01/01/1950\"\n",
    "dogum_tarih = datetime.strptime(str_tarih, \"%d/%m/%Y\")\n",
    "\n",
    "gecen_sure = datetime.today() - dogum_tarih\n",
    "\n",
    "print(\"Siz doğalı {:,} gün, {:,} saniye oldu\".format(gecen_sure.days, gecen_sure.seconds))\n",
    "print(f\"Siz doğalı toplamda {gecen_sure.total_seconds():,.0f} saniye oldu.\")"
   ]
  },
  {
   "cell_type": "code",
   "execution_count": null,
   "id": "32145593-0f8c-4cfa-99a3-607d7c2cc4d9",
   "metadata": {},
   "outputs": [],
   "source": []
  }
 ],
 "metadata": {
  "kernelspec": {
   "display_name": "Python 3 (ipykernel)",
   "language": "python",
   "name": "python3"
  },
  "language_info": {
   "codemirror_mode": {
    "name": "ipython",
    "version": 3
   },
   "file_extension": ".py",
   "mimetype": "text/x-python",
   "name": "python",
   "nbconvert_exporter": "python",
   "pygments_lexer": "ipython3",
   "version": "3.9.5"
  }
 },
 "nbformat": 4,
 "nbformat_minor": 5
}
