{
 "cells": [
  {
   "cell_type": "markdown",
   "id": "0d731e8c-8ec0-4638-a743-710c51e1aae9",
   "metadata": {},
   "source": [
    "## Dosyalarla Çalışmak\n",
    "- öncelikle `open` ile dosyaları açmak gerekir. Sonra `close` ile kapatmak gerekir.\n",
    "- dosya veya veritabanı okurken imlec (cursor) nesnesi oluşur."
   ]
  },
  {
   "cell_type": "code",
   "execution_count": 1,
   "id": "63e3397e-36aa-4f26-82ce-b5ddc101472b",
   "metadata": {},
   "outputs": [],
   "source": [
    "### Dosya ve Klasörler ilgili bazı notlar"
   ]
  },
  {
   "cell_type": "code",
   "execution_count": 2,
   "id": "96f94eb9-edfb-4877-a162-6dee6d230966",
   "metadata": {},
   "outputs": [
    {
     "data": {
      "text/plain": [
       "['DirEntry',\n",
       " 'F_OK',\n",
       " 'GenericAlias',\n",
       " 'Mapping',\n",
       " 'MutableMapping',\n",
       " 'O_APPEND',\n",
       " 'O_BINARY',\n",
       " 'O_CREAT',\n",
       " 'O_EXCL',\n",
       " 'O_NOINHERIT',\n",
       " 'O_RANDOM',\n",
       " 'O_RDONLY',\n",
       " 'O_RDWR',\n",
       " 'O_SEQUENTIAL',\n",
       " 'O_SHORT_LIVED',\n",
       " 'O_TEMPORARY',\n",
       " 'O_TEXT',\n",
       " 'O_TRUNC',\n",
       " 'O_WRONLY',\n",
       " 'P_DETACH',\n",
       " 'P_NOWAIT',\n",
       " 'P_NOWAITO',\n",
       " 'P_OVERLAY',\n",
       " 'P_WAIT',\n",
       " 'PathLike',\n",
       " 'R_OK',\n",
       " 'SEEK_CUR',\n",
       " 'SEEK_END',\n",
       " 'SEEK_SET',\n",
       " 'TMP_MAX',\n",
       " 'W_OK',\n",
       " 'X_OK',\n",
       " '_AddedDllDirectory',\n",
       " '_Environ',\n",
       " '__all__',\n",
       " '__builtins__',\n",
       " '__cached__',\n",
       " '__doc__',\n",
       " '__file__',\n",
       " '__loader__',\n",
       " '__name__',\n",
       " '__package__',\n",
       " '__spec__',\n",
       " '_check_methods',\n",
       " '_execvpe',\n",
       " '_exists',\n",
       " '_exit',\n",
       " '_fspath',\n",
       " '_get_exports_list',\n",
       " '_walk',\n",
       " '_wrap_close',\n",
       " 'abc',\n",
       " 'abort',\n",
       " 'access',\n",
       " 'add_dll_directory',\n",
       " 'altsep',\n",
       " 'chdir',\n",
       " 'chmod',\n",
       " 'close',\n",
       " 'closerange',\n",
       " 'cpu_count',\n",
       " 'curdir',\n",
       " 'defpath',\n",
       " 'device_encoding',\n",
       " 'devnull',\n",
       " 'dup',\n",
       " 'dup2',\n",
       " 'environ',\n",
       " 'error',\n",
       " 'execl',\n",
       " 'execle',\n",
       " 'execlp',\n",
       " 'execlpe',\n",
       " 'execv',\n",
       " 'execve',\n",
       " 'execvp',\n",
       " 'execvpe',\n",
       " 'extsep',\n",
       " 'fdopen',\n",
       " 'fsdecode',\n",
       " 'fsencode',\n",
       " 'fspath',\n",
       " 'fstat',\n",
       " 'fsync',\n",
       " 'ftruncate',\n",
       " 'get_exec_path',\n",
       " 'get_handle_inheritable',\n",
       " 'get_inheritable',\n",
       " 'get_terminal_size',\n",
       " 'getcwd',\n",
       " 'getcwdb',\n",
       " 'getenv',\n",
       " 'getlogin',\n",
       " 'getpid',\n",
       " 'getppid',\n",
       " 'isatty',\n",
       " 'kill',\n",
       " 'linesep',\n",
       " 'link',\n",
       " 'listdir',\n",
       " 'lseek',\n",
       " 'lstat',\n",
       " 'makedirs',\n",
       " 'mkdir',\n",
       " 'name',\n",
       " 'open',\n",
       " 'pardir',\n",
       " 'path',\n",
       " 'pathsep',\n",
       " 'pipe',\n",
       " 'popen',\n",
       " 'putenv',\n",
       " 'read',\n",
       " 'readlink',\n",
       " 'remove',\n",
       " 'removedirs',\n",
       " 'rename',\n",
       " 'renames',\n",
       " 'replace',\n",
       " 'rmdir',\n",
       " 'scandir',\n",
       " 'sep',\n",
       " 'set_handle_inheritable',\n",
       " 'set_inheritable',\n",
       " 'spawnl',\n",
       " 'spawnle',\n",
       " 'spawnv',\n",
       " 'spawnve',\n",
       " 'st',\n",
       " 'startfile',\n",
       " 'stat',\n",
       " 'stat_result',\n",
       " 'statvfs_result',\n",
       " 'strerror',\n",
       " 'supports_bytes_environ',\n",
       " 'supports_dir_fd',\n",
       " 'supports_effective_ids',\n",
       " 'supports_fd',\n",
       " 'supports_follow_symlinks',\n",
       " 'symlink',\n",
       " 'sys',\n",
       " 'system',\n",
       " 'terminal_size',\n",
       " 'times',\n",
       " 'times_result',\n",
       " 'truncate',\n",
       " 'umask',\n",
       " 'uname_result',\n",
       " 'unlink',\n",
       " 'unsetenv',\n",
       " 'urandom',\n",
       " 'utime',\n",
       " 'waitpid',\n",
       " 'waitstatus_to_exitcode',\n",
       " 'walk',\n",
       " 'write']"
      ]
     },
     "execution_count": 2,
     "metadata": {},
     "output_type": "execute_result"
    }
   ],
   "source": [
    "import os\n",
    "dir(os)"
   ]
  },
  {
   "cell_type": "code",
   "execution_count": 3,
   "id": "0c8ad59c-6e40-4df2-b3ec-c7acd303d77d",
   "metadata": {},
   "outputs": [
    {
     "data": {
      "text/plain": [
       "'C:\\\\WorkData\\\\GitRespostory\\\\python-learn-v3\\\\Gun2'"
      ]
     },
     "execution_count": 3,
     "metadata": {},
     "output_type": "execute_result"
    }
   ],
   "source": [
    "os.getcwd() # aktif çalışma yolunu verir"
   ]
  },
  {
   "cell_type": "code",
   "execution_count": 4,
   "id": "25c66029-4583-40b2-ac25-1e69819cd129",
   "metadata": {},
   "outputs": [
    {
     "name": "stdout",
     "output_type": "stream",
     "text": [
      "C:\\WorkData\\GitRespostory\\python-learn-v3\\Gun2\n"
     ]
    }
   ],
   "source": [
    "!cd"
   ]
  },
  {
   "cell_type": "markdown",
   "id": "1a5fef82-3f51-4067-87b1-68150ab76b6d",
   "metadata": {},
   "source": [
    "### Dosya yolu verme hakkında bilgiler\n",
    "\n",
    "* Yollar\n",
    "  * linux -> `/`\n",
    "  * windows -> `\\\\` veya `/` kullanabiliriz\n",
    "    * raw string üretmemiz gerekebilir r\"C:\\nalbur\" veya repr(\"C:\\nalbur\")\n",
    "* apsolute path: `C:\\\\kalsör\\\\dosya.uzn` şeklinde kök dizinden itibaren açık adres verilir\n",
    "* relative path: `./klasör/dosya.uzn` şeklide çalışma yolu baz alınarak adres verilebilir\n",
    "  * `.` mevcut çalışma yolunu ifade eder.\n",
    "  * `..` bir üst klasörü temsil eder."
   ]
  },
  {
   "cell_type": "code",
   "execution_count": 5,
   "id": "9ac50978-e575-4340-a20c-736c6372162e",
   "metadata": {},
   "outputs": [
    {
     "data": {
      "text/plain": [
       "False"
      ]
     },
     "execution_count": 5,
     "metadata": {},
     "output_type": "execute_result"
    }
   ],
   "source": [
    "# yol var mı?\n",
    "os.path.exists(\"./databases\") # çalışma yolunda databases klasörü var mı?"
   ]
  },
  {
   "cell_type": "code",
   "execution_count": 6,
   "id": "9e393c08-8ef1-411f-b75c-80184629d986",
   "metadata": {},
   "outputs": [],
   "source": [
    "os.makedirs(\"./databases\", exist_ok=True) # kalsör varsa hata vermez"
   ]
  },
  {
   "cell_type": "code",
   "execution_count": 7,
   "id": "444630a5-6ad9-4a1b-aafb-56ae1ad1baa1",
   "metadata": {},
   "outputs": [],
   "source": [
    "# !mkdir databases"
   ]
  },
  {
   "cell_type": "code",
   "execution_count": 8,
   "id": "ff44b93c-d836-4ff6-92d3-af8a25a089b7",
   "metadata": {},
   "outputs": [
    {
     "data": {
      "text/plain": [
       "['.ipynb_checkpoints',\n",
       " '2_1_datetime_date_time_timedelta.html',\n",
       " '2_1_datetime_date_time_timedelta.ipynb',\n",
       " '2_2_if_elif_else_for_while_else.html',\n",
       " '2_2_if_elif_else_for_while_else.ipynb',\n",
       " '2_3_try_except_else_finally.html',\n",
       " '2_3_try_except_else_finally.ipynb',\n",
       " '2_4_fonksiyonlar.html',\n",
       " '2_4_fonksiyonlar.ipynb',\n",
       " '2_5_dosyalarla-calismak-open.ipynb',\n",
       " 'databases',\n",
       " 'HamdosyalarlaCalismak.png',\n",
       " 'HataYonetimiveHataTurleri.png',\n",
       " 'MSSQLveOracleBaglanti.png',\n",
       " 'PandasDF.png',\n",
       " 'strftime_Format.png',\n",
       " 'VeritabaniBaglanti.png',\n",
       " 'İmleciHareketEttirmek.png']"
      ]
     },
     "execution_count": 8,
     "metadata": {},
     "output_type": "execute_result"
    }
   ],
   "source": [
    "os.listdir()"
   ]
  },
  {
   "cell_type": "code",
   "execution_count": 10,
   "id": "f0cfac07-8075-4005-a6d8-ad0105735240",
   "metadata": {},
   "outputs": [
    {
     "data": {
      "text/plain": [
       "True"
      ]
     },
     "execution_count": 10,
     "metadata": {},
     "output_type": "execute_result"
    }
   ],
   "source": [
    "\"databases\" in os.listdir() # klasör var mı?"
   ]
  },
  {
   "cell_type": "code",
   "execution_count": 12,
   "id": "6c81d23d-6586-49b6-b8e7-65f00565c06b",
   "metadata": {},
   "outputs": [
    {
     "data": {
      "text/plain": [
       "True"
      ]
     },
     "execution_count": 12,
     "metadata": {},
     "output_type": "execute_result"
    }
   ],
   "source": [
    "# dosya mı klasör mü\n",
    "os.path.isdir(\"./databases\") # klasör mü"
   ]
  },
  {
   "cell_type": "code",
   "execution_count": 13,
   "id": "0ebb2ae5-95c1-4396-86a5-c9a85662b0c1",
   "metadata": {},
   "outputs": [
    {
     "data": {
      "text/plain": [
       "False"
      ]
     },
     "execution_count": 13,
     "metadata": {},
     "output_type": "execute_result"
    }
   ],
   "source": [
    "os.path.isfile(\"./databases\") # dosya mı"
   ]
  },
  {
   "cell_type": "markdown",
   "id": "0c25b903-84a9-4956-8408-da6ee8e1b068",
   "metadata": {},
   "source": [
    "![Ham](HamdosyalarlaCalismak.png)"
   ]
  },
  {
   "cell_type": "code",
   "execution_count": 15,
   "id": "f3eb30b7-a649-4a38-a67c-c503c9102722",
   "metadata": {},
   "outputs": [],
   "source": [
    "### Dosyaya Yazmak\n",
    "fhw = open(file=\"./databases/notlarim.txt\", mode=\"w\", encoding=\"UTF-8\") # yazmak için açtık w"
   ]
  },
  {
   "cell_type": "code",
   "execution_count": 16,
   "id": "832fa4e2-0aa6-465b-862e-ef1eb895d356",
   "metadata": {},
   "outputs": [
    {
     "data": {
      "text/plain": [
       "7"
      ]
     },
     "execution_count": 16,
     "metadata": {},
     "output_type": "execute_result"
    }
   ],
   "source": [
    "fhw.write(\"Merhaba\") # yazar ve geriye kaç karakter yazdığını döner"
   ]
  },
  {
   "cell_type": "code",
   "execution_count": 17,
   "id": "05adf117-5c5a-4ad4-a395-592a13cd5b79",
   "metadata": {},
   "outputs": [],
   "source": [
    "fhw.writelines(\"\\nDünyalı nasılsın?\") # sadece yazar"
   ]
  },
  {
   "cell_type": "code",
   "execution_count": 18,
   "id": "279df084-6bc7-45d3-acb3-101973568051",
   "metadata": {},
   "outputs": [],
   "source": [
    "fhw.close() # yazdıklarımız buffer dan dosyaya geçecek."
   ]
  },
  {
   "cell_type": "markdown",
   "id": "62baf4ce-76bb-4f91-9fcd-d6f4eafefa34",
   "metadata": {},
   "source": [
    "### Dosyadan Okumak"
   ]
  },
  {
   "cell_type": "code",
   "execution_count": 31,
   "id": "2a8cc077-d86d-4616-afe5-19450f43baa7",
   "metadata": {},
   "outputs": [],
   "source": [
    "fhr = open(file=\"./databases/notlarim.txt\", mode=\"r\", encoding=\"UTF-8\") # okumak için açtık r\n",
    "# imleç oluşur, satırlar bu imlecin içerisindedir."
   ]
  },
  {
   "cell_type": "code",
   "execution_count": 20,
   "id": "39c5e821-bee9-4612-9d2c-8d8a1edc105a",
   "metadata": {},
   "outputs": [
    {
     "data": {
      "text/plain": [
       "['Merhaba\\n', 'Dünyalı nasılsın?']"
      ]
     },
     "execution_count": 20,
     "metadata": {},
     "output_type": "execute_result"
    }
   ],
   "source": [
    "list(fhr)"
   ]
  },
  {
   "cell_type": "code",
   "execution_count": 24,
   "id": "19e91a15-5b2e-44a5-8bc6-50b2f4bdd0c2",
   "metadata": {},
   "outputs": [
    {
     "name": "stdout",
     "output_type": "stream",
     "text": [
      "Merhaba\n",
      "\n",
      "Dünyalı nasılsın?\n"
     ]
    }
   ],
   "source": [
    "for r in fhr:\n",
    "    print(r)"
   ]
  },
  {
   "cell_type": "code",
   "execution_count": 32,
   "id": "367f2444-79f4-49f4-ba34-c97270b83f08",
   "metadata": {},
   "outputs": [
    {
     "data": {
      "text/plain": [
       "['Merhaba\\n', 'Dünyalı nasılsın?']"
      ]
     },
     "execution_count": 32,
     "metadata": {},
     "output_type": "execute_result"
    }
   ],
   "source": [
    "fhr.readlines() # tüm satırları liste olarak verir."
   ]
  },
  {
   "cell_type": "markdown",
   "id": "2c46ff3a-4411-4ede-892e-81d63ca69447",
   "metadata": {},
   "source": [
    "![Imlec](İmleciHareketEttirmek.png)"
   ]
  },
  {
   "cell_type": "code",
   "execution_count": 33,
   "id": "bf2804c5-5aee-4889-a91b-9ff0051239a2",
   "metadata": {},
   "outputs": [
    {
     "data": {
      "text/plain": [
       "30"
      ]
     },
     "execution_count": 33,
     "metadata": {},
     "output_type": "execute_result"
    }
   ],
   "source": [
    "fhr.tell()"
   ]
  },
  {
   "cell_type": "code",
   "execution_count": 34,
   "id": "72ffb2fa-067d-4ce4-90bc-7fe2625b9ed5",
   "metadata": {},
   "outputs": [
    {
     "data": {
      "text/plain": [
       "0"
      ]
     },
     "execution_count": 34,
     "metadata": {},
     "output_type": "execute_result"
    }
   ],
   "source": [
    "fhr.seek(0) # 0. karaktere geri sar."
   ]
  },
  {
   "cell_type": "code",
   "execution_count": 35,
   "id": "5874a517-d897-440f-88b3-66388a84009a",
   "metadata": {},
   "outputs": [
    {
     "data": {
      "text/plain": [
       "'Merh'"
      ]
     },
     "execution_count": 35,
     "metadata": {},
     "output_type": "execute_result"
    }
   ],
   "source": [
    "fhr.read(4) # 4 karakter oku"
   ]
  },
  {
   "cell_type": "code",
   "execution_count": 36,
   "id": "3e32317d-b6b8-49d9-8da1-9a51d515094a",
   "metadata": {},
   "outputs": [
    {
     "data": {
      "text/plain": [
       "4"
      ]
     },
     "execution_count": 36,
     "metadata": {},
     "output_type": "execute_result"
    }
   ],
   "source": [
    "fhr.tell()"
   ]
  },
  {
   "cell_type": "code",
   "execution_count": 37,
   "id": "137e4e8b-ec10-4bb3-934d-4bf882d5eaa3",
   "metadata": {},
   "outputs": [
    {
     "data": {
      "text/plain": [
       "'aba'"
      ]
     },
     "execution_count": 37,
     "metadata": {},
     "output_type": "execute_result"
    }
   ],
   "source": [
    "fhr.read(3)"
   ]
  },
  {
   "cell_type": "code",
   "execution_count": 38,
   "id": "1404a84a-26da-4b12-8cdd-e5443ebf4177",
   "metadata": {},
   "outputs": [
    {
     "data": {
      "text/plain": [
       "'\\nDünyalı nasılsın?'"
      ]
     },
     "execution_count": 38,
     "metadata": {},
     "output_type": "execute_result"
    }
   ],
   "source": [
    "fhr.read() # sonuna kadar oku. metin olarak verir."
   ]
  },
  {
   "cell_type": "code",
   "execution_count": 39,
   "id": "147f15ad-7fc6-4f2f-8db0-59e219b67b76",
   "metadata": {},
   "outputs": [
    {
     "data": {
      "text/plain": [
       "3"
      ]
     },
     "execution_count": 39,
     "metadata": {},
     "output_type": "execute_result"
    }
   ],
   "source": [
    "fhr.seek(3) # 3. karaktere geri sar."
   ]
  },
  {
   "cell_type": "code",
   "execution_count": 40,
   "id": "812ff929-3d00-4190-bb81-f8fd1bd9adf5",
   "metadata": {},
   "outputs": [
    {
     "data": {
      "text/plain": [
       "['haba\\n', 'Dünyalı nasılsın?']"
      ]
     },
     "execution_count": 40,
     "metadata": {},
     "output_type": "execute_result"
    }
   ],
   "source": [
    "fhr.readlines()"
   ]
  },
  {
   "cell_type": "markdown",
   "id": "45dc9c73-52fa-437d-8924-a1b79eff2b93",
   "metadata": {},
   "source": [
    "### with ile çalışmak"
   ]
  },
  {
   "cell_type": "code",
   "execution_count": 46,
   "id": "17eb9b6f-0615-4f1d-a7b1-e68b684eaf68",
   "metadata": {},
   "outputs": [],
   "source": [
    "# 1. yöntem\n",
    "fw = open(\"./databases/loglar.txt\",\"a\",encoding=\"utf-8\") # append modda açtık a\n",
    "\n",
    "try:\n",
    "    fw.write(\"text mesajı .....\\n\")\n",
    "finally:\n",
    "    fw.close()"
   ]
  },
  {
   "cell_type": "code",
   "execution_count": 48,
   "id": "8a407b6b-764f-4af4-be60-d1b1e3a9f966",
   "metadata": {},
   "outputs": [],
   "source": [
    "# 2. yöntem\n",
    "with open(\"./databases/loglar.txt\",\"a\",encoding=\"utf-8\") as fw:\n",
    "    fw.write(\"Text mesajı with ile ...\\n\")"
   ]
  },
  {
   "cell_type": "code",
   "execution_count": 53,
   "id": "9673b40e-7076-43ea-92e8-914ef49fe8db",
   "metadata": {},
   "outputs": [],
   "source": [
    "# örn: COMPUTERNAME, USERNAME, TARİH şeklinde bir loglama yapalım\n",
    "from datetime import datetime\n",
    "import os\n",
    "\n",
    "log_text = \"{}, {}, {}\".format(os.getenv(\"COMPUTERNAME\"), os.getenv(\"USERNAME\"),\n",
    "                              datetime.now().strftime(\"%Y%m%d_%H%M.%S\"))\n",
    "\n",
    "with open(\"./databases/myerrorlog.txt\", mode=\"a\", encoding=\"utf-8\") as fw:\n",
    "    fw.write(log_text + \"\\n\")"
   ]
  },
  {
   "cell_type": "code",
   "execution_count": 56,
   "id": "c6a21897-b4c0-490e-8d18-d659c74ac391",
   "metadata": {},
   "outputs": [],
   "source": [
    "with open(\"./databases/myerrorlog.txt\", mode=\"r\", encoding=\"utf-8\") as fs, \\\n",
    "     open(\"./databases/mySUMMARYErrorLog.txt\", mode=\"w\", encoding=\"utf-8\") as fd:\n",
    "    for r in fs.readlines()[::3]: # slicer ile 3 satırda 1 getirecek\n",
    "        c = r.rstrip(\"\\n\").split(\",\")\n",
    "        fd.write(f\"{c[1]} ---> {c[2]}\\n\")"
   ]
  },
  {
   "cell_type": "code",
   "execution_count": null,
   "id": "1b116c19-1c48-4f77-b21b-87e8f5d3faee",
   "metadata": {},
   "outputs": [],
   "source": []
  }
 ],
 "metadata": {
  "kernelspec": {
   "display_name": "Python 3 (ipykernel)",
   "language": "python",
   "name": "python3"
  },
  "language_info": {
   "codemirror_mode": {
    "name": "ipython",
    "version": 3
   },
   "file_extension": ".py",
   "mimetype": "text/x-python",
   "name": "python",
   "nbconvert_exporter": "python",
   "pygments_lexer": "ipython3",
   "version": "3.9.5"
  }
 },
 "nbformat": 4,
 "nbformat_minor": 5
}
