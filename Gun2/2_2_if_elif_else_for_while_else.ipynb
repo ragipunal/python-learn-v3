{
 "cells": [
  {
   "cell_type": "markdown",
   "id": "7f6594c9-c262-4bab-aea5-0dfa0438a47e",
   "metadata": {},
   "source": [
    "## Karar Yapıları\n",
    "\n",
    "- if\n",
    "- if - else\n",
    "- if - elif - elif .... - else\n",
    "- ternary (tek satırda if yazmak için kullanılır)\n",
    "\n",
    "```python\n",
    "if şart:\n",
    "    # şart True dönerse if blogunundaki kodlar çalışır.\n",
    "    # if gövdesi tab ile belirtilir\n",
    "    pass # kodlar için yer tutucudur. hata verme kodları daha sonra yazacağız demiş oluruz\n",
    "```"
   ]
  },
  {
   "cell_type": "markdown",
   "id": "7735d1ee-a18c-43d2-9c18-990200062301",
   "metadata": {},
   "source": [
    "### if-elif-elif-else"
   ]
  },
  {
   "cell_type": "code",
   "execution_count": 3,
   "id": "a03afc12-180c-4851-9de8-edc11a2b717f",
   "metadata": {},
   "outputs": [
    {
     "name": "stdout",
     "output_type": "stream",
     "text": [
      "iki şarta da uymuyor\n"
     ]
    }
   ],
   "source": [
    "x = 3\n",
    "\n",
    "if x % 2 == 0 and x % 3 == 0:\n",
    "    # pass # hata verme kodlarını sonra yazacağız.\n",
    "    print(\"Kalansız bölünüyor.\")\n",
    "else:\n",
    "    print(\"iki şarta da uymuyor\")"
   ]
  },
  {
   "cell_type": "code",
   "execution_count": 4,
   "id": "930a48ce-f153-43c0-9ca9-d68a1b76b27e",
   "metadata": {},
   "outputs": [
    {
     "name": "stdout",
     "output_type": "stream",
     "text": [
      "--> 1. if çalıştı\n",
      "sayı 2 ye kalansız bölünür.\n",
      "--> 2. if çalıştır\n",
      "sayı 3 e tam bölünür\n",
      "Programın sonu\n"
     ]
    }
   ],
   "source": [
    "# if blokları bağımsızdır. arka arkaya yazıldığında tüm şartlar kontrol edilir.\n",
    "\n",
    "x = 12\n",
    "\n",
    "if x % 2 == 0:\n",
    "    #if içidir\n",
    "    print(\"--> 1. if çalıştı\")\n",
    "    print(\"sayı 2 ye kalansız bölünür.\")\n",
    "\n",
    "if x % 3 == 0:\n",
    "    print(\"--> 2. if çalıştır\")\n",
    "    print(\"sayı 3 e tam bölünür\")\n",
    "    \n",
    "print(\"Programın sonu\")"
   ]
  },
  {
   "cell_type": "code",
   "execution_count": 9,
   "id": "d3fe0f4b-7bed-44dd-8e26-0a96650210ba",
   "metadata": {},
   "outputs": [
    {
     "name": "stdin",
     "output_type": "stream",
     "text": [
      "Notunuzu Giriniz:  46\n"
     ]
    },
    {
     "name": "stdout",
     "output_type": "stream",
     "text": [
      "Notunuz: D\n",
      "Programın sonuna gelindi.\n"
     ]
    }
   ],
   "source": [
    "# ör:\n",
    "# dışarıdan bir not isteyelim bu notun harf karşılığını yazdıralım.\n",
    "\n",
    "sinav_notu = input(\"Notunuzu Giriniz: \")\n",
    "sinav_notu = int(sinav_notu)\n",
    "\n",
    "harf_notu = \"\"\n",
    "\n",
    "if sinav_notu >= 0 and sinav_notu <= 100:\n",
    "    # pass\n",
    "    if sinav_notu >= 85:\n",
    "        harf_notu =\"A\"\n",
    "    elif sinav_notu >= 70:\n",
    "        harf_notu = \"B\"\n",
    "    elif sinav_notu >= 55:\n",
    "        harf_notu = \"C\"\n",
    "    elif sinav_notu >= 45:\n",
    "        harf_notu = \"D\"\n",
    "    else:\n",
    "        harf_notu = \"F\"\n",
    "        \n",
    "    print(f\"Notunuz: {harf_notu}\")\n",
    "else:\n",
    "    print(\"Notunuz 0 ile 100 arasında olmalıdır.\")\n",
    "    \n",
    "print(\"Programın sonuna gelindi.\")"
   ]
  },
  {
   "cell_type": "markdown",
   "id": "b51c6e80-3866-43c7-aa3f-1996a8d54ada",
   "metadata": {},
   "source": [
    "### ternary yöntemi"
   ]
  },
  {
   "cell_type": "code",
   "execution_count": 11,
   "id": "3683fda4-82e2-402b-aa0e-f4a77d6070fe",
   "metadata": {},
   "outputs": [
    {
     "data": {
      "text/plain": [
       "'Çift Sayıdır'"
      ]
     },
     "execution_count": 11,
     "metadata": {},
     "output_type": "execute_result"
    }
   ],
   "source": [
    "# \"True Ise Butaraf\" if şart else \"False ise Butaraf\"\n",
    "\n",
    "x = 12\n",
    "\n",
    "\"Çift Sayıdır\" if x % 2 == 0 else \"Tek Sayıdır\""
   ]
  },
  {
   "cell_type": "markdown",
   "id": "94f0dd67-cab0-433d-b123-e5f7136406bd",
   "metadata": {},
   "source": [
    "### Döngüler\n",
    "\n",
    "- for\n",
    "- while-else\n",
    "\n",
    "**not**: tüm döngülerde `break` ile döngüden çıkılır, `continue` ile o noktadan itibaren devam etmez sonraki iterasyona atlanır."
   ]
  },
  {
   "cell_type": "markdown",
   "id": "bc579d4b-5a70-453f-a94e-7d08208d964f",
   "metadata": {},
   "source": [
    "### for\n",
    "\n",
    "- iterasyon yapılabilecek nesnelerin (str, lit, tuple, range vs.) elemanlarına tek tek ulaşmamız gerekiyor."
   ]
  },
  {
   "cell_type": "code",
   "execution_count": 12,
   "id": "adb665e4-e28e-41c8-8ad9-c74164a66c20",
   "metadata": {},
   "outputs": [
    {
     "name": "stdout",
     "output_type": "stream",
     "text": [
      "M\n",
      "E\n",
      "R\n",
      "H\n",
      "A\n",
      "B\n",
      "A\n"
     ]
    }
   ],
   "source": [
    "cumle = \"merhaba\" # str container tipidir\n",
    "\n",
    "for h in cumle:\n",
    "    print(h.upper())"
   ]
  },
  {
   "cell_type": "code",
   "execution_count": 13,
   "id": "272968dc-4cbd-44ba-9380-66c20ff9fa21",
   "metadata": {},
   "outputs": [
    {
     "data": {
      "text/plain": [
       "range(0, 10)"
      ]
     },
     "execution_count": 13,
     "metadata": {},
     "output_type": "execute_result"
    }
   ],
   "source": [
    "# ör: 0-50 arasındaki çift sayıların adedini bulalım\n",
    "# sayilar = [0,1,2,3,4,5 .... ]\n",
    "# range(start, stop, step)\n",
    "range(10)"
   ]
  },
  {
   "cell_type": "code",
   "execution_count": 14,
   "id": "fe6677c8-5732-44ab-af3e-71fb8622fdda",
   "metadata": {},
   "outputs": [
    {
     "data": {
      "text/plain": [
       "[0, 1, 2, 3, 4, 5, 6, 7, 8, 9]"
      ]
     },
     "execution_count": 14,
     "metadata": {},
     "output_type": "execute_result"
    }
   ],
   "source": [
    "list(range(10))"
   ]
  },
  {
   "cell_type": "code",
   "execution_count": 15,
   "id": "75da00a7-bca0-4ce9-a5d4-8d9c78254cf5",
   "metadata": {},
   "outputs": [
    {
     "name": "stdout",
     "output_type": "stream",
     "text": [
      "Çift sayı adedi: 25\n"
     ]
    }
   ],
   "source": [
    "sayac = 0\n",
    "for s in range(50):\n",
    "    if s % 2 == 0:\n",
    "        sayac += 1 # çift sayı olduğunda sayacı 1 arttır.\n",
    "\n",
    "print(f\"Çift sayı adedi: {sayac}\")"
   ]
  },
  {
   "cell_type": "code",
   "execution_count": 17,
   "id": "7689cf7e-22c6-4302-842f-f3a14fcd1346",
   "metadata": {},
   "outputs": [
    {
     "name": "stdout",
     "output_type": "stream",
     "text": [
      "6 X 1 = 6\n",
      "6 X 2 = 12\n",
      "6 X 3 = 18\n",
      "6 X 4 = 24\n",
      "6 X 5 = 30\n",
      "6 X 6 = 36\n",
      "6 X 7 = 42\n",
      "6 X 8 = 48\n",
      "6 X 9 = 54\n",
      "6 X 10 = 60\n"
     ]
    }
   ],
   "source": [
    "# ör: çarpım tablosu\n",
    "\n",
    "kaclar = 6\n",
    "for x in range(1,11):\n",
    "    if x == kaclar:\n",
    "        for y in range(1,11):\n",
    "            print(f\"{x} X {y} = {x*y}\")"
   ]
  },
  {
   "cell_type": "code",
   "execution_count": 18,
   "id": "1929bcb1-203e-4c58-8a9b-0ae2fa3272c1",
   "metadata": {},
   "outputs": [
    {
     "name": "stdout",
     "output_type": "stream",
     "text": [
      "30 karesi 900\n",
      "33 karesi 1089\n",
      "36 karesi 1296\n",
      "39 karesi 1521\n"
     ]
    }
   ],
   "source": [
    "# soru\n",
    "# 30 ile 40 arasında 3'er atlayıp her sayıyı ve karesini ekrana yazdıralım\n",
    "# \"30 karesi 900\" şeklinde yazdıralım\n",
    "# range(start, stop, step)\n",
    "for s in range(30,40,3):\n",
    "    print(f\"{s} karesi {s**2}\")"
   ]
  },
  {
   "cell_type": "markdown",
   "id": "8b0ed605-14e3-4dfa-bc75-0cb343ad05d5",
   "metadata": {},
   "source": [
    "### while-else\n",
    "\n",
    "While şart True olduğu sürece çalışır. ŞArta uymayan durumla karşılaşıldığında else blogu çalışır."
   ]
  },
  {
   "cell_type": "code",
   "execution_count": 21,
   "id": "a6eafb69-b410-48bd-a5b7-ed9428e250f6",
   "metadata": {},
   "outputs": [
    {
     "name": "stdout",
     "output_type": "stream",
     "text": [
      "1\n",
      "2\n",
      "4\n"
     ]
    }
   ],
   "source": [
    "# ör:\n",
    "sayac = 0\n",
    "while sayac < 10: # 10'dan küçük olduğu sürece çalışsın\n",
    "    sayac += 1\n",
    "    \n",
    "    if sayac == 3:\n",
    "        continue # daga fazla ilerleme sonraki iterasyona geç\n",
    "        \n",
    "    if sayac == 5:\n",
    "        break # döngüden tamamen çık, else çalışmaz\n",
    "    \n",
    "    print(sayac)\n",
    "else:\n",
    "    print(f\"Şarta uymayan durumla karşılaşıldı. Sayac: {sayac}\")"
   ]
  },
  {
   "cell_type": "code",
   "execution_count": 25,
   "id": "2fae2161-c888-425f-b9ce-10c935131a56",
   "metadata": {},
   "outputs": [
    {
     "name": "stdout",
     "output_type": "stream",
     "text": [
      "Merhaba Dün\n",
      "4\n"
     ]
    }
   ],
   "source": [
    "# soru\n",
    "'''\n",
    "    Verilen cümledeki harf olmayanları temizleyelim\n",
    "    kaç adet numeric karakter temizledik yazdıralım\n",
    "    0 sayısını saymasın\n",
    "    ----\n",
    "    @ işaretine kadar olan kısmı dikkate al\n",
    "'''\n",
    "cumle = \"m0e!r01h-a32b_a dü3n@y31a-!lı\"\n",
    "\n",
    "temiz_cumle = \"\"\n",
    "num_sayac = 0\n",
    "\n",
    "for karakter in cumle:\n",
    "    if karakter == \"@\":\n",
    "        break\n",
    "    \n",
    "    if karakter.isnumeric():\n",
    "        if karakter == \"0\":\n",
    "            continue\n",
    "        num_sayac += 1\n",
    "    elif karakter.isalpha() or karakter.isspace():\n",
    "        temiz_cumle += karakter\n",
    "        \n",
    "print(temiz_cumle.title())\n",
    "print(num_sayac)"
   ]
  },
  {
   "cell_type": "code",
   "execution_count": 40,
   "id": "e85bc483-cdfe-4c11-a7ae-a0df3568e89a",
   "metadata": {},
   "outputs": [
    {
     "data": {
      "text/plain": [
       "['Veli']"
      ]
     },
     "execution_count": 40,
     "metadata": {},
     "output_type": "execute_result"
    }
   ],
   "source": [
    "import random\n",
    "\n",
    "random.randint(1,10) # 1-10 arasında rastgele tam sayı\n",
    "random.random() # 0-1 arasındak rastgele bir sayıs üretmiş olacaktı\n",
    "random.choices([\"Ali\",\"Veli\",\"Ayşe\"]) # rasgele seçsin"
   ]
  },
  {
   "cell_type": "code",
   "execution_count": null,
   "id": "3d0b7eec-8529-4b21-be0a-90b3a11554ec",
   "metadata": {},
   "outputs": [],
   "source": []
  }
 ],
 "metadata": {
  "kernelspec": {
   "display_name": "Python 3 (ipykernel)",
   "language": "python",
   "name": "python3"
  },
  "language_info": {
   "codemirror_mode": {
    "name": "ipython",
    "version": 3
   },
   "file_extension": ".py",
   "mimetype": "text/x-python",
   "name": "python",
   "nbconvert_exporter": "python",
   "pygments_lexer": "ipython3",
   "version": "3.9.5"
  }
 },
 "nbformat": 4,
 "nbformat_minor": 5
}
