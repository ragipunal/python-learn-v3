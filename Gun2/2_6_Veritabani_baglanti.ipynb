{
 "cells": [
  {
   "cell_type": "markdown",
   "id": "90b5d216-1dc3-43ba-b2f1-6313031be7f7",
   "metadata": {},
   "source": [
    "![DBAPI](VeritabaniBaglanti.png)"
   ]
  },
  {
   "cell_type": "markdown",
   "id": "5a56c730-1e0b-4c2d-834e-f63866fadae0",
   "metadata": {},
   "source": [
    "- https://peps.python.org/pep-0249/\n",
    "- https://www.sqlite.org/download.html\n",
    "- https://sqlitestudio.pl/\n",
    "- https://www.connectionstrings.com/"
   ]
  },
  {
   "cell_type": "code",
   "execution_count": 1,
   "id": "13ebc29f-4165-4d4c-8487-70e7802e5b97",
   "metadata": {},
   "outputs": [],
   "source": [
    "# sqlite a bağlanmak için gerekli kütüphane\n",
    "import sqlite3"
   ]
  },
  {
   "cell_type": "code",
   "execution_count": 3,
   "id": "6ed73da9-04b3-4ec2-8794-25cfee12ffc9",
   "metadata": {},
   "outputs": [
    {
     "data": {
      "text/plain": [
       "['DataError',\n",
       " 'DatabaseError',\n",
       " 'Error',\n",
       " 'IntegrityError',\n",
       " 'InterfaceError',\n",
       " 'InternalError',\n",
       " 'NotSupportedError',\n",
       " 'OperationalError',\n",
       " 'ProgrammingError',\n",
       " 'Warning',\n",
       " '__call__',\n",
       " '__class__',\n",
       " '__delattr__',\n",
       " '__dir__',\n",
       " '__doc__',\n",
       " '__enter__',\n",
       " '__eq__',\n",
       " '__exit__',\n",
       " '__format__',\n",
       " '__ge__',\n",
       " '__getattribute__',\n",
       " '__gt__',\n",
       " '__hash__',\n",
       " '__init__',\n",
       " '__init_subclass__',\n",
       " '__le__',\n",
       " '__lt__',\n",
       " '__ne__',\n",
       " '__new__',\n",
       " '__reduce__',\n",
       " '__reduce_ex__',\n",
       " '__repr__',\n",
       " '__setattr__',\n",
       " '__sizeof__',\n",
       " '__str__',\n",
       " '__subclasshook__',\n",
       " 'backup',\n",
       " 'close',\n",
       " 'commit',\n",
       " 'create_aggregate',\n",
       " 'create_collation',\n",
       " 'create_function',\n",
       " 'cursor',\n",
       " 'enable_load_extension',\n",
       " 'execute',\n",
       " 'executemany',\n",
       " 'executescript',\n",
       " 'in_transaction',\n",
       " 'interrupt',\n",
       " 'isolation_level',\n",
       " 'iterdump',\n",
       " 'load_extension',\n",
       " 'rollback',\n",
       " 'row_factory',\n",
       " 'set_authorizer',\n",
       " 'set_progress_handler',\n",
       " 'set_trace_callback',\n",
       " 'text_factory',\n",
       " 'total_changes']"
      ]
     },
     "execution_count": 3,
     "metadata": {},
     "output_type": "execute_result"
    }
   ],
   "source": [
    "# bağlantı cümlesi ile bağlantı oluşturun\n",
    "con = sqlite3.connect(\"./databases/mesajDB.db\") # dosyayı veritabanı olarak kullanacağız\n",
    "dir(con)"
   ]
  },
  {
   "cell_type": "code",
   "execution_count": 7,
   "id": "f0dc2d1b-89d6-428e-b264-981a0697f02e",
   "metadata": {},
   "outputs": [
    {
     "data": {
      "text/plain": [
       "<sqlite3.Cursor at 0x242c96d71f0>"
      ]
     },
     "execution_count": 7,
     "metadata": {},
     "output_type": "execute_result"
    }
   ],
   "source": [
    "# tablo oluşturma\n",
    "con.execute(\"\"\"\n",
    "CREATE TABLE mesaj\n",
    "(\n",
    "    Id int,\n",
    "    Metin nvarchar(100)\n",
    ")\n",
    "\"\"\")"
   ]
  },
  {
   "cell_type": "code",
   "execution_count": 8,
   "id": "8b65f0c1-d314-4ee1-8c50-abc50b85ebe8",
   "metadata": {},
   "outputs": [],
   "source": [
    "# tabloyu silmek için\n",
    "# con.execute(\"DROP TABLE mesaj\")"
   ]
  },
  {
   "cell_type": "code",
   "execution_count": 9,
   "id": "6138c130-f951-43bb-95c6-1ee8a356c017",
   "metadata": {},
   "outputs": [],
   "source": [
    "# kayıt girelim\n",
    "con.execute(\"INSERT INTO mesaj VALUES(1,'1. Kayıt')\")\n",
    "con.execute(\"INSERT INTO mesaj VALUES(2,'2. Kayıt')\")\n",
    "con.execute(\"INSERT INTO mesaj VALUES(3,'3. Kayıt')\")\n",
    "con.execute(\"INSERT INTO mesaj VALUES(4,'4. Kayıt')\")\n",
    "con.execute(\"INSERT INTO mesaj VALUES(5,'5. Kayıt')\")\n",
    "\n",
    "con.commit() # yapılan değişikliklerin onaylanması gerekir.\n",
    "\n",
    "# con.rollback() # bilinçli olarak yapılanları geri almak."
   ]
  },
  {
   "cell_type": "code",
   "execution_count": 10,
   "id": "9d45e1d5-6f0a-4f8a-8920-6b6c113f6ec1",
   "metadata": {},
   "outputs": [],
   "source": [
    "imlec = con.execute(\"SELECT * FROM mesaj LIMIT 2\")"
   ]
  },
  {
   "cell_type": "code",
   "execution_count": 11,
   "id": "317e48c3-2650-4956-b591-07afe7c137b8",
   "metadata": {},
   "outputs": [
    {
     "data": {
      "text/plain": [
       "(('Id', None, None, None, None, None, None),\n",
       " ('Metin', None, None, None, None, None, None))"
      ]
     },
     "execution_count": 11,
     "metadata": {},
     "output_type": "execute_result"
    }
   ],
   "source": [
    "imlec.description"
   ]
  },
  {
   "cell_type": "code",
   "execution_count": 12,
   "id": "d175e667-9079-481c-930f-59a7e5794a19",
   "metadata": {},
   "outputs": [
    {
     "data": {
      "text/plain": [
       "[(1, '1. Kayıt'), (2, '2. Kayıt')]"
      ]
     },
     "execution_count": 12,
     "metadata": {},
     "output_type": "execute_result"
    }
   ],
   "source": [
    "imlec.fetchall() # tüm satır ve kolonları getirir, satırlar liste içerisinde geldi , kolonlar tuple olarak gelir."
   ]
  },
  {
   "cell_type": "code",
   "execution_count": 13,
   "id": "1d1feeff-2c12-4f79-ad23-b8d3653f145c",
   "metadata": {},
   "outputs": [],
   "source": [
    "con.close()"
   ]
  },
  {
   "cell_type": "markdown",
   "id": "118892fa-6512-4182-be44-5122aebbaa55",
   "metadata": {},
   "source": [
    "### Pandas ile okuma"
   ]
  },
  {
   "cell_type": "markdown",
   "id": "19b87b6c-237d-42e1-bd18-2cff1323f63a",
   "metadata": {},
   "source": [
    "![Pandas](PandasDF.png)"
   ]
  },
  {
   "cell_type": "code",
   "execution_count": 15,
   "id": "7e4304e4-c714-4ec9-a9ad-65ab37cd9afc",
   "metadata": {},
   "outputs": [
    {
     "name": "stdout",
     "output_type": "stream",
     "text": [
      "Collecting pandas\n",
      "  Downloading pandas-1.5.2-cp39-cp39-win_amd64.whl (10.9 MB)\n",
      "     --------------------------------------- 10.9/10.9 MB 10.5 MB/s eta 0:00:00\n",
      "Collecting numpy>=1.20.3\n",
      "  Using cached numpy-1.23.5-cp39-cp39-win_amd64.whl (14.7 MB)\n",
      "Requirement already satisfied: pytz>=2020.1 in c:\\workdata\\gitrespostory\\python-learn-v3\\venv\\lib\\site-packages (from pandas) (2022.6)\n",
      "Requirement already satisfied: python-dateutil>=2.8.1 in c:\\workdata\\gitrespostory\\python-learn-v3\\venv\\lib\\site-packages (from pandas) (2.8.2)\n",
      "Requirement already satisfied: six>=1.5 in c:\\workdata\\gitrespostory\\python-learn-v3\\venv\\lib\\site-packages (from python-dateutil>=2.8.1->pandas) (1.16.0)\n",
      "Installing collected packages: numpy, pandas\n",
      "Successfully installed numpy-1.23.5 pandas-1.5.2\n"
     ]
    }
   ],
   "source": [
    "!pip install pandas"
   ]
  },
  {
   "cell_type": "code",
   "execution_count": 16,
   "id": "797d244e-dc64-4ea4-ab71-b942f9e65190",
   "metadata": {},
   "outputs": [],
   "source": [
    "import pandas as pd"
   ]
  },
  {
   "cell_type": "code",
   "execution_count": 17,
   "id": "112098b0-bb6d-47ef-93fc-4399416c2842",
   "metadata": {},
   "outputs": [],
   "source": [
    "import sqlite3"
   ]
  },
  {
   "cell_type": "code",
   "execution_count": 18,
   "id": "63481dd8-801c-4308-aeaa-ce5c80b07b44",
   "metadata": {},
   "outputs": [],
   "source": [
    "con = sqlite3.connect(\"./databases/mesajDB.db\")\n",
    "\n",
    "df = pd.read_sql(\"SELECT * FROM mesaj\", con) # dataframe\n",
    "con.close()"
   ]
  },
  {
   "cell_type": "code",
   "execution_count": 19,
   "id": "d004d960-5eb6-40ee-b55a-7b290e8c23cc",
   "metadata": {},
   "outputs": [
    {
     "data": {
      "text/plain": [
       "pandas.core.frame.DataFrame"
      ]
     },
     "execution_count": 19,
     "metadata": {},
     "output_type": "execute_result"
    }
   ],
   "source": [
    "type(df)"
   ]
  },
  {
   "cell_type": "code",
   "execution_count": 20,
   "id": "0e41f86f-7745-43ee-8d0f-185640ab3894",
   "metadata": {},
   "outputs": [
    {
     "data": {
      "text/html": [
       "<div>\n",
       "<style scoped>\n",
       "    .dataframe tbody tr th:only-of-type {\n",
       "        vertical-align: middle;\n",
       "    }\n",
       "\n",
       "    .dataframe tbody tr th {\n",
       "        vertical-align: top;\n",
       "    }\n",
       "\n",
       "    .dataframe thead th {\n",
       "        text-align: right;\n",
       "    }\n",
       "</style>\n",
       "<table border=\"1\" class=\"dataframe\">\n",
       "  <thead>\n",
       "    <tr style=\"text-align: right;\">\n",
       "      <th></th>\n",
       "      <th>Id</th>\n",
       "      <th>Metin</th>\n",
       "    </tr>\n",
       "  </thead>\n",
       "  <tbody>\n",
       "    <tr>\n",
       "      <th>0</th>\n",
       "      <td>1</td>\n",
       "      <td>1. Kayıt</td>\n",
       "    </tr>\n",
       "    <tr>\n",
       "      <th>1</th>\n",
       "      <td>2</td>\n",
       "      <td>2. Kayıt</td>\n",
       "    </tr>\n",
       "    <tr>\n",
       "      <th>2</th>\n",
       "      <td>3</td>\n",
       "      <td>3. Kayıt</td>\n",
       "    </tr>\n",
       "  </tbody>\n",
       "</table>\n",
       "</div>"
      ],
      "text/plain": [
       "   Id     Metin\n",
       "0   1  1. Kayıt\n",
       "1   2  2. Kayıt\n",
       "2   3  3. Kayıt"
      ]
     },
     "execution_count": 20,
     "metadata": {},
     "output_type": "execute_result"
    }
   ],
   "source": [
    "df.head(3) # ilk üç satır gelsin."
   ]
  },
  {
   "cell_type": "code",
   "execution_count": 21,
   "id": "dadb0ca8-c505-4a5a-832b-68f2e1b3139e",
   "metadata": {},
   "outputs": [
    {
     "data": {
      "text/html": [
       "<div>\n",
       "<style scoped>\n",
       "    .dataframe tbody tr th:only-of-type {\n",
       "        vertical-align: middle;\n",
       "    }\n",
       "\n",
       "    .dataframe tbody tr th {\n",
       "        vertical-align: top;\n",
       "    }\n",
       "\n",
       "    .dataframe thead th {\n",
       "        text-align: right;\n",
       "    }\n",
       "</style>\n",
       "<table border=\"1\" class=\"dataframe\">\n",
       "  <thead>\n",
       "    <tr style=\"text-align: right;\">\n",
       "      <th></th>\n",
       "      <th>Id</th>\n",
       "      <th>Metin</th>\n",
       "    </tr>\n",
       "  </thead>\n",
       "  <tbody>\n",
       "    <tr>\n",
       "      <th>3</th>\n",
       "      <td>4</td>\n",
       "      <td>4. Kayıt</td>\n",
       "    </tr>\n",
       "    <tr>\n",
       "      <th>4</th>\n",
       "      <td>5</td>\n",
       "      <td>5. Kayıt</td>\n",
       "    </tr>\n",
       "  </tbody>\n",
       "</table>\n",
       "</div>"
      ],
      "text/plain": [
       "   Id     Metin\n",
       "3   4  4. Kayıt\n",
       "4   5  5. Kayıt"
      ]
     },
     "execution_count": 21,
     "metadata": {},
     "output_type": "execute_result"
    }
   ],
   "source": [
    "df.tail(2) # alttan 2 satır gelsin."
   ]
  },
  {
   "cell_type": "code",
   "execution_count": 22,
   "id": "8401bea3-d5ff-4e2c-866a-d3644f22ee4d",
   "metadata": {},
   "outputs": [
    {
     "data": {
      "text/html": [
       "<div>\n",
       "<style scoped>\n",
       "    .dataframe tbody tr th:only-of-type {\n",
       "        vertical-align: middle;\n",
       "    }\n",
       "\n",
       "    .dataframe tbody tr th {\n",
       "        vertical-align: top;\n",
       "    }\n",
       "\n",
       "    .dataframe thead th {\n",
       "        text-align: right;\n",
       "    }\n",
       "</style>\n",
       "<table border=\"1\" class=\"dataframe\">\n",
       "  <thead>\n",
       "    <tr style=\"text-align: right;\">\n",
       "      <th></th>\n",
       "      <th>Id</th>\n",
       "      <th>Metin</th>\n",
       "    </tr>\n",
       "  </thead>\n",
       "  <tbody>\n",
       "    <tr>\n",
       "      <th>2</th>\n",
       "      <td>3</td>\n",
       "      <td>3. Kayıt</td>\n",
       "    </tr>\n",
       "    <tr>\n",
       "      <th>1</th>\n",
       "      <td>2</td>\n",
       "      <td>2. Kayıt</td>\n",
       "    </tr>\n",
       "    <tr>\n",
       "      <th>3</th>\n",
       "      <td>4</td>\n",
       "      <td>4. Kayıt</td>\n",
       "    </tr>\n",
       "    <tr>\n",
       "      <th>0</th>\n",
       "      <td>1</td>\n",
       "      <td>1. Kayıt</td>\n",
       "    </tr>\n",
       "  </tbody>\n",
       "</table>\n",
       "</div>"
      ],
      "text/plain": [
       "   Id     Metin\n",
       "2   3  3. Kayıt\n",
       "1   2  2. Kayıt\n",
       "3   4  4. Kayıt\n",
       "0   1  1. Kayıt"
      ]
     },
     "execution_count": 22,
     "metadata": {},
     "output_type": "execute_result"
    }
   ],
   "source": [
    "df.sample(4) # rastgele 4 örnek veri getir."
   ]
  },
  {
   "cell_type": "code",
   "execution_count": 23,
   "id": "a69fc3c3-58b9-4283-9ac2-1429ffb6343d",
   "metadata": {},
   "outputs": [
    {
     "data": {
      "text/html": [
       "<div>\n",
       "<style scoped>\n",
       "    .dataframe tbody tr th:only-of-type {\n",
       "        vertical-align: middle;\n",
       "    }\n",
       "\n",
       "    .dataframe tbody tr th {\n",
       "        vertical-align: top;\n",
       "    }\n",
       "\n",
       "    .dataframe thead th {\n",
       "        text-align: right;\n",
       "    }\n",
       "</style>\n",
       "<table border=\"1\" class=\"dataframe\">\n",
       "  <thead>\n",
       "    <tr style=\"text-align: right;\">\n",
       "      <th></th>\n",
       "      <th>Id</th>\n",
       "      <th>Metin</th>\n",
       "    </tr>\n",
       "  </thead>\n",
       "  <tbody>\n",
       "    <tr>\n",
       "      <th>3</th>\n",
       "      <td>4</td>\n",
       "      <td>4. Kayıt</td>\n",
       "    </tr>\n",
       "  </tbody>\n",
       "</table>\n",
       "</div>"
      ],
      "text/plain": [
       "   Id     Metin\n",
       "3   4  4. Kayıt"
      ]
     },
     "execution_count": 23,
     "metadata": {},
     "output_type": "execute_result"
    }
   ],
   "source": [
    "df.query(\"Id == 4\") # ID si 4 olan satırı getir. pandas ın query fonk. ile çalıştırıyorum."
   ]
  },
  {
   "cell_type": "code",
   "execution_count": 25,
   "id": "99ba2a96-ef99-42d3-99d0-27c7b0201e2f",
   "metadata": {},
   "outputs": [
    {
     "data": {
      "text/plain": [
       "0    1. Kayıt\n",
       "1    2. Kayıt\n",
       "2    3. Kayıt\n",
       "3    4. Kayıt\n",
       "4    5. Kayıt\n",
       "Name: Metin, dtype: object"
      ]
     },
     "execution_count": 25,
     "metadata": {},
     "output_type": "execute_result"
    }
   ],
   "source": [
    "df.Metin # sadece Metin kononu değerleri"
   ]
  },
  {
   "cell_type": "code",
   "execution_count": 26,
   "id": "474406b0-2cb1-475d-95cf-9d946dd808ca",
   "metadata": {},
   "outputs": [
    {
     "data": {
      "text/plain": [
       "Id              3\n",
       "Metin    3. Kayıt\n",
       "Name: 2, dtype: object"
      ]
     },
     "execution_count": 26,
     "metadata": {},
     "output_type": "execute_result"
    }
   ],
   "source": [
    "# iloc ile satır ve sutun sıra numaralarını kullanarak istediğim bölümü getirebilirim\n",
    "# 2. satır, 0. ve 1. kolon gelsin.\n",
    "df.iloc[2,[0,1]]"
   ]
  },
  {
   "cell_type": "code",
   "execution_count": 27,
   "id": "d0927a8c-56b4-46c0-8356-561e7465d147",
   "metadata": {},
   "outputs": [
    {
     "data": {
      "text/html": [
       "<div>\n",
       "<style scoped>\n",
       "    .dataframe tbody tr th:only-of-type {\n",
       "        vertical-align: middle;\n",
       "    }\n",
       "\n",
       "    .dataframe tbody tr th {\n",
       "        vertical-align: top;\n",
       "    }\n",
       "\n",
       "    .dataframe thead th {\n",
       "        text-align: right;\n",
       "    }\n",
       "</style>\n",
       "<table border=\"1\" class=\"dataframe\">\n",
       "  <thead>\n",
       "    <tr style=\"text-align: right;\">\n",
       "      <th></th>\n",
       "      <th>Id</th>\n",
       "      <th>Metin</th>\n",
       "    </tr>\n",
       "  </thead>\n",
       "  <tbody>\n",
       "    <tr>\n",
       "      <th>0</th>\n",
       "      <td>1</td>\n",
       "      <td>1. Kayıt</td>\n",
       "    </tr>\n",
       "    <tr>\n",
       "      <th>2</th>\n",
       "      <td>3</td>\n",
       "      <td>3. Kayıt</td>\n",
       "    </tr>\n",
       "    <tr>\n",
       "      <th>4</th>\n",
       "      <td>5</td>\n",
       "      <td>5. Kayıt</td>\n",
       "    </tr>\n",
       "  </tbody>\n",
       "</table>\n",
       "</div>"
      ],
      "text/plain": [
       "   Id     Metin\n",
       "0   1  1. Kayıt\n",
       "2   3  3. Kayıt\n",
       "4   5  5. Kayıt"
      ]
     },
     "execution_count": 27,
     "metadata": {},
     "output_type": "execute_result"
    }
   ],
   "source": [
    "df.loc[0:5:2, [\"Id\", \"Metin\"]] # 0 ile 5. satırları 2 şet atlayarak getir. IS ve MEtin kolonları gelsin."
   ]
  },
  {
   "cell_type": "markdown",
   "id": "065cb644-d345-459f-8b80-2d6c7df3a42c",
   "metadata": {},
   "source": [
    "# Veri Görselleştirme\n",
    "- matplotlib kütüphanesi bu konuda en temel kütüphanelerdendir."
   ]
  },
  {
   "cell_type": "code",
   "execution_count": 29,
   "id": "28e62fc2-55ce-4710-944c-ea0766ccac43",
   "metadata": {},
   "outputs": [
    {
     "name": "stdout",
     "output_type": "stream",
     "text": [
      "Collecting matplotlib\n",
      "  Using cached matplotlib-3.6.2-cp39-cp39-win_amd64.whl (7.2 MB)\n",
      "Collecting cycler>=0.10\n",
      "  Using cached cycler-0.11.0-py3-none-any.whl (6.4 kB)\n",
      "Collecting pillow>=6.2.0\n",
      "  Using cached Pillow-9.3.0-cp39-cp39-win_amd64.whl (2.5 MB)\n",
      "Collecting contourpy>=1.0.1\n",
      "  Using cached contourpy-1.0.6-cp39-cp39-win_amd64.whl (161 kB)\n",
      "Requirement already satisfied: python-dateutil>=2.7 in c:\\workdata\\gitrespostory\\python-learn-v3\\venv\\lib\\site-packages (from matplotlib) (2.8.2)\n",
      "Requirement already satisfied: numpy>=1.19 in c:\\workdata\\gitrespostory\\python-learn-v3\\venv\\lib\\site-packages (from matplotlib) (1.23.5)\n",
      "Requirement already satisfied: packaging>=20.0 in c:\\workdata\\gitrespostory\\python-learn-v3\\venv\\lib\\site-packages (from matplotlib) (21.3)\n",
      "Requirement already satisfied: pyparsing>=2.2.1 in c:\\workdata\\gitrespostory\\python-learn-v3\\venv\\lib\\site-packages (from matplotlib) (3.0.9)\n",
      "Collecting fonttools>=4.22.0\n",
      "  Using cached fonttools-4.38.0-py3-none-any.whl (965 kB)\n",
      "Collecting kiwisolver>=1.0.1\n",
      "  Using cached kiwisolver-1.4.4-cp39-cp39-win_amd64.whl (55 kB)\n",
      "Requirement already satisfied: six>=1.5 in c:\\workdata\\gitrespostory\\python-learn-v3\\venv\\lib\\site-packages (from python-dateutil>=2.7->matplotlib) (1.16.0)\n",
      "Installing collected packages: pillow, kiwisolver, fonttools, cycler, contourpy, matplotlib\n",
      "Successfully installed contourpy-1.0.6 cycler-0.11.0 fonttools-4.38.0 kiwisolver-1.4.4 matplotlib-3.6.2 pillow-9.3.0\n"
     ]
    }
   ],
   "source": [
    "!pip install matplotlib"
   ]
  },
  {
   "cell_type": "code",
   "execution_count": 30,
   "id": "14ad3d05-5bc3-417a-ae69-82e8cc23fd37",
   "metadata": {},
   "outputs": [],
   "source": [
    "from matplotlib import pyplot as plt"
   ]
  },
  {
   "cell_type": "code",
   "execution_count": 31,
   "id": "6d079dda-679d-4528-9912-90757998ae9e",
   "metadata": {},
   "outputs": [],
   "source": [
    "x = [1,2,3,4,5,6,7,8,9,10]"
   ]
  },
  {
   "cell_type": "code",
   "execution_count": 32,
   "id": "1cd7f2fb-64d1-467b-8471-5bd22350df82",
   "metadata": {},
   "outputs": [],
   "source": [
    "import numpy as np"
   ]
  },
  {
   "cell_type": "code",
   "execution_count": 33,
   "id": "1d325f76-3a9e-46ad-91e0-6e5e4054e0f0",
   "metadata": {},
   "outputs": [],
   "source": [
    "x_array = np.array(x)"
   ]
  },
  {
   "cell_type": "code",
   "execution_count": 34,
   "id": "3b6e0c1f-f99a-4ccf-b674-9eb63ea77fdc",
   "metadata": {},
   "outputs": [],
   "source": [
    "y_array2 = x_array ** 2\n",
    "y_array3 = x_array ** 3"
   ]
  },
  {
   "cell_type": "code",
   "execution_count": 35,
   "id": "c729cae7-62f2-4d77-8c90-236d497d3cf5",
   "metadata": {},
   "outputs": [
    {
     "data": {
      "image/png": "[encoded data removed]",
      "text/plain": [
       "<Figure size 640x480 with 1 Axes>"
      ]
     },
     "metadata": {},
     "output_type": "display_data"
    }
   ],
   "source": [
    "plt.plot(x, y_array2)\n",
    "plt.plot(x, y_array3, color=\"red\")\n",
    "\n",
    "plt.show()"
   ]
  },
  {
   "cell_type": "markdown",
   "id": "0a9eb013-d927-4f7c-a11b-bcf78fc7b37c",
   "metadata": {},
   "source": [
    "![Baglanti](MSSQLveOracleBaglanti.png)"
   ]
  },
  {
   "cell_type": "code",
   "execution_count": 36,
   "id": "74f8174c-b3a7-4e05-936e-88a46ea73039",
   "metadata": {},
   "outputs": [
    {
     "name": "stdout",
     "output_type": "stream",
     "text": [
      "Collecting pyodbc\n",
      "  Using cached pyodbc-4.0.35-cp39-cp39-win_amd64.whl (66 kB)\n",
      "Installing collected packages: pyodbc\n",
      "Successfully installed pyodbc-4.0.35\n"
     ]
    }
   ],
   "source": [
    "!pip install pyodbc"
   ]
  },
  {
   "cell_type": "code",
   "execution_count": 37,
   "id": "d608b638-d2eb-44f5-97ac-87318fd5fd13",
   "metadata": {},
   "outputs": [],
   "source": [
    "import pyodbc"
   ]
  },
  {
   "cell_type": "code",
   "execution_count": 38,
   "id": "73691882-ee49-41fa-aa33-cc88cec84e70",
   "metadata": {},
   "outputs": [
    {
     "data": {
      "text/plain": [
       "['SQL Server',\n",
       " 'SQL Server Native Client 11.0',\n",
       " 'ODBC Driver 13 for SQL Server',\n",
       " 'SQL Server Native Client RDA 11.0',\n",
       " 'ODBC Driver 17 for SQL Server']"
      ]
     },
     "execution_count": 38,
     "metadata": {},
     "output_type": "execute_result"
    }
   ],
   "source": [
    "pyodbc.drivers()"
   ]
  },
  {
   "cell_type": "code",
   "execution_count": 39,
   "id": "eb089abc-84d7-4442-8105-d6d8be51b425",
   "metadata": {},
   "outputs": [],
   "source": [
    "con_str = \"Driver={ODBC Driver 17 for SQL Server};Server=localhost;Database=AdventureWorks2012;Trusted_Connection=yes;\"\n",
    "con = pyodbc.connect(con_str) # cx_Oracle.connect(...)"
   ]
  },
  {
   "cell_type": "code",
   "execution_count": 40,
   "id": "84e3f045-ea39-4389-8285-a44171736d44",
   "metadata": {},
   "outputs": [],
   "source": [
    "imlec = con.execute(\"SELECT @@version\")"
   ]
  },
  {
   "cell_type": "code",
   "execution_count": 41,
   "id": "2fed51e9-fb45-44bf-a802-2328b51b0847",
   "metadata": {},
   "outputs": [
    {
     "data": {
      "text/plain": [
       "('Microsoft SQL Server 2016 (RTM-GDR) (KB4019088) - 13.0.1742.0 (X64) \\n\\tJul  5 2017 23:41:17 \\n\\tCopyright (c) Microsoft Corporation\\n\\tEnterprise Edition (64-bit) on Windows 10 Education 6.3 <X64> (Build 19045: ) (Hypervisor)\\n', )"
      ]
     },
     "execution_count": 41,
     "metadata": {},
     "output_type": "execute_result"
    }
   ],
   "source": [
    "imlec.fetchone()"
   ]
  },
  {
   "cell_type": "code",
   "execution_count": 42,
   "id": "e589757a-24b1-4589-b0fb-0e9f6f4835c7",
   "metadata": {},
   "outputs": [],
   "source": [
    "imlec = con.execute(\"SELECT Name, ListPrice, Color FROM Production.Product\")"
   ]
  },
  {
   "cell_type": "code",
   "execution_count": 43,
   "id": "3a7e90ff-e1c2-4754-bc12-afdcb3265dfe",
   "metadata": {},
   "outputs": [
    {
     "data": {
      "text/plain": [
       "[('Adjustable Race', Decimal('0.0000'), None),\n",
       " ('Bearing Ball', Decimal('0.0000'), None),\n",
       " ('BB Ball Bearing', Decimal('0.0000'), None),\n",
       " ('Headset Ball Bearings', Decimal('0.0000'), None),\n",
       " ('Blade', Decimal('0.0000'), None),\n",
       " ('LL Crankarm', Decimal('0.0000'), 'Black'),\n",
       " ('ML Crankarm', Decimal('0.0000'), 'Black'),\n",
       " ('HL Crankarm', Decimal('0.0000'), 'Black'),\n",
       " ('Chainring Bolts', Decimal('0.0000'), 'Silver'),\n",
       " ('Chainring Nut', Decimal('0.0000'), 'Silver'),\n",
       " ('Chainring', Decimal('0.0000'), 'Black'),\n",
       " ('Crown Race', Decimal('0.0000'), None),\n",
       " ('Chain Stays', Decimal('0.0000'), None),\n",
       " ('Decal 1', Decimal('0.0000'), None),\n",
       " ('Decal 2', Decimal('0.0000'), None),\n",
       " ('Down Tube', Decimal('0.0000'), None),\n",
       " ('Mountain End Caps', Decimal('0.0000'), None),\n",
       " ('Road End Caps', Decimal('0.0000'), None),\n",
       " ('Touring End Caps', Decimal('0.0000'), None),\n",
       " ('Fork End', Decimal('0.0000'), None),\n",
       " ('Freewheel', Decimal('0.0000'), 'Silver'),\n",
       " ('Flat Washer 1', Decimal('0.0000'), None),\n",
       " ('Flat Washer 6', Decimal('0.0000'), None),\n",
       " ('Flat Washer 2', Decimal('0.0000'), None),\n",
       " ('Flat Washer 9', Decimal('0.0000'), None),\n",
       " ('Flat Washer 4', Decimal('0.0000'), None),\n",
       " ('Flat Washer 3', Decimal('0.0000'), None),\n",
       " ('Flat Washer 8', Decimal('0.0000'), None),\n",
       " ('Flat Washer 5', Decimal('0.0000'), None),\n",
       " ('Flat Washer 7', Decimal('0.0000'), None),\n",
       " ('Fork Crown', Decimal('0.0000'), None),\n",
       " ('Front Derailleur Cage', Decimal('0.0000'), 'Silver'),\n",
       " ('Front Derailleur Linkage', Decimal('0.0000'), 'Silver'),\n",
       " ('Guide Pulley', Decimal('0.0000'), None),\n",
       " ('LL Grip Tape', Decimal('0.0000'), None),\n",
       " ('ML Grip Tape', Decimal('0.0000'), None),\n",
       " ('HL Grip Tape', Decimal('0.0000'), None),\n",
       " ('Thin-Jam Hex Nut 9', Decimal('0.0000'), None),\n",
       " ('Thin-Jam Hex Nut 10', Decimal('0.0000'), None),\n",
       " ('Thin-Jam Hex Nut 1', Decimal('0.0000'), None),\n",
       " ('Thin-Jam Hex Nut 2', Decimal('0.0000'), None),\n",
       " ('Thin-Jam Hex Nut 15', Decimal('0.0000'), None),\n",
       " ('Thin-Jam Hex Nut 16', Decimal('0.0000'), None),\n",
       " ('Thin-Jam Hex Nut 5', Decimal('0.0000'), None),\n",
       " ('Thin-Jam Hex Nut 6', Decimal('0.0000'), None),\n",
       " ('Thin-Jam Hex Nut 3', Decimal('0.0000'), None),\n",
       " ('Thin-Jam Hex Nut 4', Decimal('0.0000'), None),\n",
       " ('Thin-Jam Hex Nut 13', Decimal('0.0000'), None),\n",
       " ('Thin-Jam Hex Nut 14', Decimal('0.0000'), None),\n",
       " ('Thin-Jam Hex Nut 7', Decimal('0.0000'), None),\n",
       " ('Thin-Jam Hex Nut 8', Decimal('0.0000'), None),\n",
       " ('Thin-Jam Hex Nut 12', Decimal('0.0000'), None),\n",
       " ('Thin-Jam Hex Nut 11', Decimal('0.0000'), None),\n",
       " ('Hex Nut 5', Decimal('0.0000'), None),\n",
       " ('Hex Nut 6', Decimal('0.0000'), None),\n",
       " ('Hex Nut 16', Decimal('0.0000'), None),\n",
       " ('Hex Nut 17', Decimal('0.0000'), None),\n",
       " ('Hex Nut 7', Decimal('0.0000'), None),\n",
       " ('Hex Nut 8', Decimal('0.0000'), None),\n",
       " ('Hex Nut 9', Decimal('0.0000'), None),\n",
       " ('Hex Nut 22', Decimal('0.0000'), None),\n",
       " ('Hex Nut 23', Decimal('0.0000'), None),\n",
       " ('Hex Nut 12', Decimal('0.0000'), None),\n",
       " ('Hex Nut 13', Decimal('0.0000'), None),\n",
       " ('Hex Nut 1', Decimal('0.0000'), None),\n",
       " ('Hex Nut 10', Decimal('0.0000'), None),\n",
       " ('Hex Nut 11', Decimal('0.0000'), None),\n",
       " ('Hex Nut 2', Decimal('0.0000'), None),\n",
       " ('Hex Nut 20', Decimal('0.0000'), None),\n",
       " ('Hex Nut 21', Decimal('0.0000'), None),\n",
       " ('Hex Nut 3', Decimal('0.0000'), None),\n",
       " ('Hex Nut 14', Decimal('0.0000'), None),\n",
       " ('Hex Nut 15', Decimal('0.0000'), None),\n",
       " ('Hex Nut 4', Decimal('0.0000'), None),\n",
       " ('Hex Nut 18', Decimal('0.0000'), None),\n",
       " ('Hex Nut 19', Decimal('0.0000'), None),\n",
       " ('Handlebar Tube', Decimal('0.0000'), None),\n",
       " ('Head Tube', Decimal('0.0000'), None),\n",
       " ('LL Hub', Decimal('0.0000'), None),\n",
       " ('HL Hub', Decimal('0.0000'), None),\n",
       " ('Keyed Washer', Decimal('0.0000'), None),\n",
       " ('External Lock Washer 3', Decimal('0.0000'), None),\n",
       " ('External Lock Washer 4', Decimal('0.0000'), None),\n",
       " ('External Lock Washer 9', Decimal('0.0000'), None),\n",
       " ('External Lock Washer 5', Decimal('0.0000'), None),\n",
       " ('External Lock Washer 7', Decimal('0.0000'), None),\n",
       " ('External Lock Washer 6', Decimal('0.0000'), None),\n",
       " ('External Lock Washer 1', Decimal('0.0000'), None),\n",
       " ('External Lock Washer 8', Decimal('0.0000'), None),\n",
       " ('External Lock Washer 2', Decimal('0.0000'), None),\n",
       " ('Internal Lock Washer 3', Decimal('0.0000'), None),\n",
       " ('Internal Lock Washer 4', Decimal('0.0000'), None),\n",
       " ('Internal Lock Washer 9', Decimal('0.0000'), None),\n",
       " ('Internal Lock Washer 5', Decimal('0.0000'), None),\n",
       " ('Internal Lock Washer 7', Decimal('0.0000'), None),\n",
       " ('Internal Lock Washer 6', Decimal('0.0000'), None),\n",
       " ('Internal Lock Washer 10', Decimal('0.0000'), None),\n",
       " ('Internal Lock Washer 1', Decimal('0.0000'), None),\n",
       " ('Internal Lock Washer 8', Decimal('0.0000'), None),\n",
       " ('Internal Lock Washer 2', Decimal('0.0000'), None),\n",
       " ('Thin-Jam Lock Nut 9', Decimal('0.0000'), None),\n",
       " ('Thin-Jam Lock Nut 10', Decimal('0.0000'), None),\n",
       " ('Thin-Jam Lock Nut 1', Decimal('0.0000'), None),\n",
       " ('Thin-Jam Lock Nut 2', Decimal('0.0000'), None),\n",
       " ('Thin-Jam Lock Nut 15', Decimal('0.0000'), None),\n",
       " ('Thin-Jam Lock Nut 16', Decimal('0.0000'), None),\n",
       " ('Thin-Jam Lock Nut 5', Decimal('0.0000'), None),\n",
       " ('Thin-Jam Lock Nut 6', Decimal('0.0000'), None),\n",
       " ('Thin-Jam Lock Nut 3', Decimal('0.0000'), None),\n",
       " ('Thin-Jam Lock Nut 4', Decimal('0.0000'), None),\n",
       " ('Thin-Jam Lock Nut 13', Decimal('0.0000'), None),\n",
       " ('Thin-Jam Lock Nut 14', Decimal('0.0000'), None),\n",
       " ('Thin-Jam Lock Nut 7', Decimal('0.0000'), None),\n",
       " ('Thin-Jam Lock Nut 8', Decimal('0.0000'), None),\n",
       " ('Thin-Jam Lock Nut 12', Decimal('0.0000'), None),\n",
       " ('Thin-Jam Lock Nut 11', Decimal('0.0000'), None),\n",
       " ('Lock Nut 5', Decimal('0.0000'), None),\n",
       " ('Lock Nut 6', Decimal('0.0000'), None),\n",
       " ('Lock Nut 16', Decimal('0.0000'), None),\n",
       " ('Lock Nut 17', Decimal('0.0000'), None),\n",
       " ('Lock Nut 7', Decimal('0.0000'), None),\n",
       " ('Lock Nut 8', Decimal('0.0000'), None),\n",
       " ('Lock Nut 9', Decimal('0.0000'), None),\n",
       " ('Lock Nut 22', Decimal('0.0000'), None),\n",
       " ('Lock Nut 23', Decimal('0.0000'), None),\n",
       " ('Lock Nut 12', Decimal('0.0000'), None),\n",
       " ('Lock Nut 13', Decimal('0.0000'), None),\n",
       " ('Lock Nut 1', Decimal('0.0000'), None),\n",
       " ('Lock Nut 10', Decimal('0.0000'), None),\n",
       " ('Lock Nut 11', Decimal('0.0000'), None),\n",
       " ('Lock Nut 2', Decimal('0.0000'), None),\n",
       " ('Lock Nut 20', Decimal('0.0000'), None),\n",
       " ('Lock Nut 21', Decimal('0.0000'), None),\n",
       " ('Lock Nut 3', Decimal('0.0000'), None),\n",
       " ('Lock Nut 14', Decimal('0.0000'), None),\n",
       " ('Lock Nut 15', Decimal('0.0000'), None),\n",
       " ('Lock Nut 4', Decimal('0.0000'), None),\n",
       " ('Lock Nut 19', Decimal('0.0000'), None),\n",
       " ('Lock Nut 18', Decimal('0.0000'), None),\n",
       " ('Lock Ring', Decimal('0.0000'), 'Silver'),\n",
       " ('Lower Head Race', Decimal('0.0000'), None),\n",
       " ('Lock Washer 4', Decimal('0.0000'), None),\n",
       " ('Lock Washer 5', Decimal('0.0000'), None),\n",
       " ('Lock Washer 10', Decimal('0.0000'), None),\n",
       " ('Lock Washer 6', Decimal('0.0000'), None),\n",
       " ('Lock Washer 13', Decimal('0.0000'), None),\n",
       " ('Lock Washer 8', Decimal('0.0000'), None),\n",
       " ('Lock Washer 1', Decimal('0.0000'), None),\n",
       " ('Lock Washer 7', Decimal('0.0000'), None),\n",
       " ('Lock Washer 12', Decimal('0.0000'), None),\n",
       " ('Lock Washer 2', Decimal('0.0000'), None),\n",
       " ('Lock Washer 9', Decimal('0.0000'), None),\n",
       " ('Lock Washer 3', Decimal('0.0000'), None),\n",
       " ('Lock Washer 11', Decimal('0.0000'), None),\n",
       " ('Metal Angle', Decimal('0.0000'), None),\n",
       " ('Metal Bar 1', Decimal('0.0000'), None),\n",
       " ('Metal Bar 2', Decimal('0.0000'), None),\n",
       " ('Metal Plate 2', Decimal('0.0000'), None),\n",
       " ('Metal Plate 1', Decimal('0.0000'), None),\n",
       " ('Metal Plate 3', Decimal('0.0000'), None),\n",
       " ('Metal Sheet 2', Decimal('0.0000'), None),\n",
       " ('Metal Sheet 3', Decimal('0.0000'), None),\n",
       " ('Metal Sheet 7', Decimal('0.0000'), None),\n",
       " ('Metal Sheet 4', Decimal('0.0000'), None),\n",
       " ('Metal Sheet 5', Decimal('0.0000'), None),\n",
       " ('Metal Sheet 6', Decimal('0.0000'), None),\n",
       " ('Metal Sheet 1', Decimal('0.0000'), None),\n",
       " ('Metal Tread Plate', Decimal('0.0000'), None),\n",
       " ('LL Nipple', Decimal('0.0000'), None),\n",
       " ('HL Nipple', Decimal('0.0000'), None),\n",
       " ('Paint - Black', Decimal('0.0000'), None),\n",
       " ('Paint - Red', Decimal('0.0000'), None),\n",
       " ('Paint - Silver', Decimal('0.0000'), None),\n",
       " ('Paint - Blue', Decimal('0.0000'), None),\n",
       " ('Paint - Yellow', Decimal('0.0000'), None),\n",
       " ('Pinch Bolt', Decimal('0.0000'), None),\n",
       " ('Cup-Shaped Race', Decimal('0.0000'), None),\n",
       " ('Cone-Shaped Race', Decimal('0.0000'), None),\n",
       " ('Reflector', Decimal('0.0000'), None),\n",
       " ('LL Mountain Rim', Decimal('0.0000'), None),\n",
       " ('ML Mountain Rim', Decimal('0.0000'), None),\n",
       " ('HL Mountain Rim', Decimal('0.0000'), None),\n",
       " ('LL Road Rim', Decimal('0.0000'), None),\n",
       " ('ML Road Rim', Decimal('0.0000'), None),\n",
       " ('HL Road Rim', Decimal('0.0000'), None),\n",
       " ('Touring Rim', Decimal('0.0000'), None),\n",
       " ('LL Mountain Seat Assembly', Decimal('133.3400'), None),\n",
       " ('ML Mountain Seat Assembly', Decimal('147.1400'), None),\n",
       " ('HL Mountain Seat Assembly', Decimal('196.9200'), None),\n",
       " ('LL Road Seat Assembly', Decimal('133.3400'), None),\n",
       " ('ML Road Seat Assembly', Decimal('147.1400'), None),\n",
       " ('HL Road Seat Assembly', Decimal('196.9200'), None),\n",
       " ('LL Touring Seat Assembly', Decimal('133.3400'), None),\n",
       " ('ML Touring Seat Assembly', Decimal('147.1400'), None),\n",
       " ('HL Touring Seat Assembly', Decimal('196.9200'), None),\n",
       " ('LL Spindle/Axle', Decimal('0.0000'), None),\n",
       " ('HL Spindle/Axle', Decimal('0.0000'), None),\n",
       " ('LL Shell', Decimal('0.0000'), None),\n",
       " ('HL Shell', Decimal('0.0000'), None),\n",
       " ('Spokes', Decimal('0.0000'), None),\n",
       " ('Seat Lug', Decimal('0.0000'), None),\n",
       " ('Stem', Decimal('0.0000'), None),\n",
       " ('Seat Post', Decimal('0.0000'), None),\n",
       " ('Steerer', Decimal('0.0000'), None),\n",
       " ('Seat Stays', Decimal('0.0000'), None),\n",
       " ('Seat Tube', Decimal('0.0000'), None),\n",
       " ('Top Tube', Decimal('0.0000'), None),\n",
       " ('Tension Pulley', Decimal('0.0000'), None),\n",
       " ('Rear Derailleur Cage', Decimal('0.0000'), 'Silver'),\n",
       " ('HL Road Frame - Black, 58', Decimal('1431.5000'), 'Black'),\n",
       " ('HL Road Frame - Red, 58', Decimal('1431.5000'), 'Red'),\n",
       " ('Sport-100 Helmet, Red', Decimal('34.9900'), 'Red'),\n",
       " ('Sport-100 Helmet, Black', Decimal('34.9900'), 'Black'),\n",
       " ('Mountain Bike Socks, M', Decimal('9.5000'), 'White'),\n",
       " ('Mountain Bike Socks, L', Decimal('9.5000'), 'White'),\n",
       " ('Sport-100 Helmet, Blue', Decimal('34.9900'), 'Blue'),\n",
       " ('AWC Logo Cap', Decimal('8.9900'), 'Multi'),\n",
       " ('Long-Sleeve Logo Jersey, S', Decimal('49.9900'), 'Multi'),\n",
       " ('Long-Sleeve Logo Jersey, M', Decimal('49.9900'), 'Multi'),\n",
       " ('Long-Sleeve Logo Jersey, L', Decimal('49.9900'), 'Multi'),\n",
       " ('Long-Sleeve Logo Jersey, XL', Decimal('49.9900'), 'Multi'),\n",
       " ('HL Road Frame - Red, 62', Decimal('1431.5000'), 'Red'),\n",
       " ('HL Road Frame - Red, 44', Decimal('1431.5000'), 'Red'),\n",
       " ('HL Road Frame - Red, 48', Decimal('1431.5000'), 'Red'),\n",
       " ('HL Road Frame - Red, 52', Decimal('1431.5000'), 'Red'),\n",
       " ('HL Road Frame - Red, 56', Decimal('1431.5000'), 'Red'),\n",
       " ('LL Road Frame - Black, 58', Decimal('337.2200'), 'Black'),\n",
       " ('LL Road Frame - Black, 60', Decimal('337.2200'), 'Black'),\n",
       " ('LL Road Frame - Black, 62', Decimal('337.2200'), 'Black'),\n",
       " ('LL Road Frame - Red, 44', Decimal('337.2200'), 'Red'),\n",
       " ('LL Road Frame - Red, 48', Decimal('337.2200'), 'Red'),\n",
       " ('LL Road Frame - Red, 52', Decimal('337.2200'), 'Red'),\n",
       " ('LL Road Frame - Red, 58', Decimal('337.2200'), 'Red'),\n",
       " ('LL Road Frame - Red, 60', Decimal('337.2200'), 'Red'),\n",
       " ('LL Road Frame - Red, 62', Decimal('337.2200'), 'Red'),\n",
       " ('ML Road Frame - Red, 44', Decimal('594.8300'), 'Red'),\n",
       " ('ML Road Frame - Red, 48', Decimal('594.8300'), 'Red'),\n",
       " ('ML Road Frame - Red, 52', Decimal('594.8300'), 'Red'),\n",
       " ('ML Road Frame - Red, 58', Decimal('594.8300'), 'Red'),\n",
       " ('ML Road Frame - Red, 60', Decimal('594.8300'), 'Red'),\n",
       " ('LL Road Frame - Black, 44', Decimal('337.2200'), 'Black'),\n",
       " ('LL Road Frame - Black, 48', Decimal('337.2200'), 'Black'),\n",
       " ('LL Road Frame - Black, 52', Decimal('337.2200'), 'Black'),\n",
       " ('HL Mountain Frame - Silver, 42', Decimal('1364.5000'), 'Silver'),\n",
       " ('HL Mountain Frame - Silver, 44', Decimal('1364.5000'), 'Silver'),\n",
       " ('HL Mountain Frame - Silver, 48', Decimal('1364.5000'), 'Silver'),\n",
       " ('HL Mountain Frame - Silver, 46', Decimal('1364.5000'), 'Silver'),\n",
       " ('HL Mountain Frame - Black, 42', Decimal('1349.6000'), 'Black'),\n",
       " ('HL Mountain Frame - Black, 44', Decimal('1349.6000'), 'Black'),\n",
       " ('HL Mountain Frame - Black, 48', Decimal('1349.6000'), 'Black'),\n",
       " ('HL Mountain Frame - Black, 46', Decimal('1349.6000'), 'Black'),\n",
       " ('HL Mountain Frame - Black, 38', Decimal('1349.6000'), 'Black'),\n",
       " ('HL Mountain Frame - Silver, 38', Decimal('1364.5000'), 'Silver'),\n",
       " ('Road-150 Red, 62', Decimal('3578.2700'), 'Red'),\n",
       " ('Road-150 Red, 44', Decimal('3578.2700'), 'Red'),\n",
       " ('Road-150 Red, 48', Decimal('3578.2700'), 'Red'),\n",
       " ('Road-150 Red, 52', Decimal('3578.2700'), 'Red'),\n",
       " ('Road-150 Red, 56', Decimal('3578.2700'), 'Red'),\n",
       " ('Road-450 Red, 58', Decimal('1457.9900'), 'Red'),\n",
       " ('Road-450 Red, 60', Decimal('1457.9900'), 'Red'),\n",
       " ('Road-450 Red, 44', Decimal('1457.9900'), 'Red'),\n",
       " ('Road-450 Red, 48', Decimal('1457.9900'), 'Red'),\n",
       " ('Road-450 Red, 52', Decimal('1457.9900'), 'Red'),\n",
       " ('Road-650 Red, 58', Decimal('782.9900'), 'Red'),\n",
       " ('Road-650 Red, 60', Decimal('782.9900'), 'Red'),\n",
       " ('Road-650 Red, 62', Decimal('782.9900'), 'Red'),\n",
       " ('Road-650 Red, 44', Decimal('782.9900'), 'Red'),\n",
       " ('Road-650 Red, 48', Decimal('782.9900'), 'Red'),\n",
       " ('Road-650 Red, 52', Decimal('782.9900'), 'Red'),\n",
       " ('Road-650 Black, 58', Decimal('782.9900'), 'Black'),\n",
       " ('Road-650 Black, 60', Decimal('782.9900'), 'Black'),\n",
       " ('Road-650 Black, 62', Decimal('782.9900'), 'Black'),\n",
       " ('Road-650 Black, 44', Decimal('782.9900'), 'Black'),\n",
       " ('Road-650 Black, 48', Decimal('782.9900'), 'Black'),\n",
       " ('Road-650 Black, 52', Decimal('782.9900'), 'Black'),\n",
       " ('Mountain-100 Silver, 38', Decimal('3399.9900'), 'Silver'),\n",
       " ('Mountain-100 Silver, 42', Decimal('3399.9900'), 'Silver'),\n",
       " ('Mountain-100 Silver, 44', Decimal('3399.9900'), 'Silver'),\n",
       " ('Mountain-100 Silver, 48', Decimal('3399.9900'), 'Silver'),\n",
       " ('Mountain-100 Black, 38', Decimal('3374.9900'), 'Black'),\n",
       " ('Mountain-100 Black, 42', Decimal('3374.9900'), 'Black'),\n",
       " ('Mountain-100 Black, 44', Decimal('3374.9900'), 'Black'),\n",
       " ('Mountain-100 Black, 48', Decimal('3374.9900'), 'Black'),\n",
       " ('Mountain-200 Silver, 38', Decimal('2319.9900'), 'Silver'),\n",
       " ('Mountain-200 Silver, 42', Decimal('2319.9900'), 'Silver'),\n",
       " ('Mountain-200 Silver, 46', Decimal('2319.9900'), 'Silver'),\n",
       " ('Mountain-200 Black, 38', Decimal('2294.9900'), 'Black'),\n",
       " ('Mountain-200 Black, 42', Decimal('2294.9900'), 'Black'),\n",
       " ('Mountain-200 Black, 46', Decimal('2294.9900'), 'Black'),\n",
       " ('Mountain-300 Black, 38', Decimal('1079.9900'), 'Black'),\n",
       " ('Mountain-300 Black, 40', Decimal('1079.9900'), 'Black'),\n",
       " ('Mountain-300 Black, 44', Decimal('1079.9900'), 'Black'),\n",
       " ('Mountain-300 Black, 48', Decimal('1079.9900'), 'Black'),\n",
       " ('Road-250 Red, 44', Decimal('2443.3500'), 'Red'),\n",
       " ('Road-250 Red, 48', Decimal('2443.3500'), 'Red'),\n",
       " ('Road-250 Red, 52', Decimal('2443.3500'), 'Red'),\n",
       " ('Road-250 Red, 58', Decimal('2443.3500'), 'Red'),\n",
       " ('Road-250 Black, 44', Decimal('2443.3500'), 'Black'),\n",
       " ('Road-250 Black, 48', Decimal('2443.3500'), 'Black'),\n",
       " ('Road-250 Black, 52', Decimal('2443.3500'), 'Black'),\n",
       " ('Road-250 Black, 58', Decimal('2443.3500'), 'Black'),\n",
       " ('Road-550-W Yellow, 38', Decimal('1120.4900'), 'Yellow'),\n",
       " ('Road-550-W Yellow, 40', Decimal('1120.4900'), 'Yellow'),\n",
       " ('Road-550-W Yellow, 42', Decimal('1120.4900'), 'Yellow'),\n",
       " ('Road-550-W Yellow, 44', Decimal('1120.4900'), 'Yellow'),\n",
       " ('Road-550-W Yellow, 48', Decimal('1120.4900'), 'Yellow'),\n",
       " ('LL Fork', Decimal('148.2200'), None),\n",
       " ('ML Fork', Decimal('175.4900'), None),\n",
       " ('HL Fork', Decimal('229.4900'), None),\n",
       " ('LL Headset', Decimal('34.2000'), None),\n",
       " ('ML Headset', Decimal('102.2900'), None),\n",
       " ('HL Headset', Decimal('124.7300'), None),\n",
       " ('LL Mountain Handlebars', Decimal('44.5400'), None),\n",
       " ('ML Mountain Handlebars', Decimal('61.9200'), None),\n",
       " ('HL Mountain Handlebars', Decimal('120.2700'), None),\n",
       " ('LL Road Handlebars', Decimal('44.5400'), None),\n",
       " ('ML Road Handlebars', Decimal('61.9200'), None),\n",
       " ('HL Road Handlebars', Decimal('120.2700'), None),\n",
       " ('ML Mountain Frame - Black, 38', Decimal('348.7600'), 'Black'),\n",
       " ('LL Mountain Front Wheel', Decimal('60.7450'), 'Black'),\n",
       " ('ML Mountain Front Wheel', Decimal('209.0250'), 'Black'),\n",
       " ('HL Mountain Front Wheel', Decimal('300.2150'), 'Black'),\n",
       " ('LL Road Front Wheel', Decimal('85.5650'), 'Black'),\n",
       " ('ML Road Front Wheel', Decimal('248.3850'), 'Black'),\n",
       " ('HL Road Front Wheel', Decimal('330.0600'), 'Black'),\n",
       " ('Touring Front Wheel', Decimal('218.0100'), 'Black'),\n",
       " ('ML Road Frame-W - Yellow, 38', Decimal('594.8300'), 'Yellow'),\n",
       " ('LL Mountain Rear Wheel', Decimal('87.7450'), 'Black'),\n",
       " ('ML Mountain Rear Wheel', Decimal('236.0250'), 'Black'),\n",
       " ('HL Mountain Rear Wheel', Decimal('327.2150'), 'Black'),\n",
       " ('LL Road Rear Wheel', Decimal('112.5650'), 'Black'),\n",
       " ('ML Road Rear Wheel', Decimal('275.3850'), 'Black'),\n",
       " ('HL Road Rear Wheel', Decimal('357.0600'), 'Black'),\n",
       " ('Touring Rear Wheel', Decimal('245.0100'), 'Black'),\n",
       " ('ML Mountain Frame - Black, 40', Decimal('348.7600'), 'Black'),\n",
       " ('ML Mountain Frame - Black, 44', Decimal('348.7600'), 'Black'),\n",
       " ('ML Mountain Frame - Black, 48', Decimal('348.7600'), 'Black'),\n",
       " ('ML Road Frame-W - Yellow, 40', Decimal('594.8300'), 'Yellow'),\n",
       " ('ML Road Frame-W - Yellow, 42', Decimal('594.8300'), 'Yellow'),\n",
       " ('ML Road Frame-W - Yellow, 44', Decimal('594.8300'), 'Yellow'),\n",
       " ('ML Road Frame-W - Yellow, 48', Decimal('594.8300'), 'Yellow'),\n",
       " ('HL Road Frame - Black, 62', Decimal('1431.5000'), 'Black'),\n",
       " ('HL Road Frame - Black, 44', Decimal('1431.5000'), 'Black'),\n",
       " ('HL Road Frame - Black, 48', Decimal('1431.5000'), 'Black'),\n",
       " ('HL Road Frame - Black, 52', Decimal('1431.5000'), 'Black'),\n",
       " (\"Men's Sports Shorts, S\", Decimal('59.9900'), 'Black'),\n",
       " ('Touring-Panniers, Large', Decimal('125.0000'), 'Grey'),\n",
       " ('Cable Lock', Decimal('25.0000'), None),\n",
       " ('Minipump', Decimal('19.9900'), None),\n",
       " ('Mountain Pump', Decimal('24.9900'), None),\n",
       " ('Taillights - Battery-Powered', Decimal('13.9900'), None),\n",
       " ('Headlights - Dual-Beam', Decimal('34.9900'), None),\n",
       " ('Headlights - Weatherproof', Decimal('44.9900'), None),\n",
       " (\"Men's Sports Shorts, M\", Decimal('59.9900'), 'Black'),\n",
       " (\"Men's Sports Shorts, L\", Decimal('59.9900'), 'Black'),\n",
       " (\"Men's Sports Shorts, XL\", Decimal('59.9900'), 'Black'),\n",
       " (\"Women's Tights, S\", Decimal('74.9900'), 'Black'),\n",
       " (\"Women's Tights, M\", Decimal('74.9900'), 'Black'),\n",
       " (\"Women's Tights, L\", Decimal('74.9900'), 'Black'),\n",
       " (\"Men's Bib-Shorts, S\", Decimal('89.9900'), 'Multi'),\n",
       " (\"Men's Bib-Shorts, M\", Decimal('89.9900'), 'Multi'),\n",
       " (\"Men's Bib-Shorts, L\", Decimal('89.9900'), 'Multi'),\n",
       " ('Half-Finger Gloves, S', Decimal('24.4900'), 'Black'),\n",
       " ('Half-Finger Gloves, M', Decimal('24.4900'), 'Black'),\n",
       " ('Half-Finger Gloves, L', Decimal('24.4900'), 'Black'),\n",
       " ('Full-Finger Gloves, S', Decimal('37.9900'), 'Black'),\n",
       " ('Full-Finger Gloves, M', Decimal('37.9900'), 'Black'),\n",
       " ('Full-Finger Gloves, L', Decimal('37.9900'), 'Black'),\n",
       " ('Classic Vest, S', Decimal('63.5000'), 'Blue'),\n",
       " ('Classic Vest, M', Decimal('63.5000'), 'Blue'),\n",
       " ('Classic Vest, L', Decimal('63.5000'), 'Blue'),\n",
       " (\"Women's Mountain Shorts, S\", Decimal('69.9900'), 'Black'),\n",
       " (\"Women's Mountain Shorts, M\", Decimal('69.9900'), 'Black'),\n",
       " (\"Women's Mountain Shorts, L\", Decimal('69.9900'), 'Black'),\n",
       " ('Water Bottle - 30 oz.', Decimal('4.9900'), None),\n",
       " ('Mountain Bottle Cage', Decimal('9.9900'), None),\n",
       " ('Road Bottle Cage', Decimal('8.9900'), None),\n",
       " ('Patch Kit/8 Patches', Decimal('2.2900'), None),\n",
       " ('Racing Socks, M', Decimal('8.9900'), 'White'),\n",
       " ('Racing Socks, L', Decimal('8.9900'), 'White'),\n",
       " ('Hitch Rack - 4-Bike', Decimal('120.0000'), None),\n",
       " ('Bike Wash - Dissolver', Decimal('7.9500'), None),\n",
       " ('Fender Set - Mountain', Decimal('21.9800'), None),\n",
       " ('All-Purpose Bike Stand', Decimal('159.0000'), None),\n",
       " ('Hydration Pack - 70 oz.', Decimal('54.9900'), 'Silver'),\n",
       " ('Short-Sleeve Classic Jersey, S', Decimal('53.9900'), 'Yellow'),\n",
       " ('Short-Sleeve Classic Jersey, M', Decimal('53.9900'), 'Yellow'),\n",
       " ('Short-Sleeve Classic Jersey, L', Decimal('53.9900'), 'Yellow'),\n",
       " ('Short-Sleeve Classic Jersey, XL', Decimal('53.9900'), 'Yellow'),\n",
       " ('HL Touring Frame - Yellow, 60', Decimal('1003.9100'), 'Yellow'),\n",
       " ('LL Touring Frame - Yellow, 62', Decimal('333.4200'), 'Yellow'),\n",
       " ('HL Touring Frame - Yellow, 46', Decimal('1003.9100'), 'Yellow'),\n",
       " ('HL Touring Frame - Yellow, 50', Decimal('1003.9100'), 'Yellow'),\n",
       " ('HL Touring Frame - Yellow, 54', Decimal('1003.9100'), 'Yellow'),\n",
       " ('HL Touring Frame - Blue, 46', Decimal('1003.9100'), 'Blue'),\n",
       " ('HL Touring Frame - Blue, 50', Decimal('1003.9100'), 'Blue'),\n",
       " ('HL Touring Frame - Blue, 54', Decimal('1003.9100'), 'Blue'),\n",
       " ('HL Touring Frame - Blue, 60', Decimal('1003.9100'), 'Blue'),\n",
       " ('Rear Derailleur', Decimal('121.4600'), 'Silver'),\n",
       " ('LL Touring Frame - Blue, 50', Decimal('333.4200'), 'Blue'),\n",
       " ('LL Touring Frame - Blue, 54', Decimal('333.4200'), 'Blue'),\n",
       " ('LL Touring Frame - Blue, 58', Decimal('333.4200'), 'Blue'),\n",
       " ('LL Touring Frame - Blue, 62', Decimal('333.4200'), 'Blue'),\n",
       " ('LL Touring Frame - Yellow, 44', Decimal('333.4200'), 'Yellow'),\n",
       " ('LL Touring Frame - Yellow, 50', Decimal('333.4200'), 'Yellow'),\n",
       " ('LL Touring Frame - Yellow, 54', Decimal('333.4200'), 'Yellow'),\n",
       " ('LL Touring Frame - Yellow, 58', Decimal('333.4200'), 'Yellow'),\n",
       " ('LL Touring Frame - Blue, 44', Decimal('333.4200'), 'Blue'),\n",
       " ('ML Mountain Frame-W - Silver, 40', Decimal('364.0900'), 'Silver'),\n",
       " ('ML Mountain Frame-W - Silver, 42', Decimal('364.0900'), 'Silver'),\n",
       " ('ML Mountain Frame-W - Silver, 46', Decimal('364.0900'), 'Silver'),\n",
       " ('Rear Brakes', Decimal('106.5000'), 'Silver'),\n",
       " ('LL Mountain Seat/Saddle', Decimal('27.1200'), None),\n",
       " ('ML Mountain Seat/Saddle', Decimal('39.1400'), None),\n",
       " ('HL Mountain Seat/Saddle', Decimal('52.6400'), None),\n",
       " ('LL Road Seat/Saddle', Decimal('27.1200'), None),\n",
       " ('ML Road Seat/Saddle', Decimal('39.1400'), None),\n",
       " ('HL Road Seat/Saddle', Decimal('52.6400'), None),\n",
       " ('LL Touring Seat/Saddle', Decimal('27.1200'), None),\n",
       " ('ML Touring Seat/Saddle', Decimal('39.1400'), None),\n",
       " ('HL Touring Seat/Saddle', Decimal('52.6400'), None),\n",
       " ('LL Mountain Frame - Silver, 42', Decimal('264.0500'), 'Silver'),\n",
       " ('LL Mountain Frame - Silver, 44', Decimal('264.0500'), 'Silver'),\n",
       " ('LL Mountain Frame - Silver, 48', Decimal('264.0500'), 'Silver'),\n",
       " ('LL Mountain Frame - Silver, 52', Decimal('264.0500'), 'Silver'),\n",
       " ('Mountain Tire Tube', Decimal('4.9900'), None),\n",
       " ('Road Tire Tube', Decimal('3.9900'), None),\n",
       " ('Touring Tire Tube', Decimal('4.9900'), None),\n",
       " ('LL Mountain Frame - Black, 42', Decimal('249.7900'), 'Black'),\n",
       " ('LL Mountain Frame - Black, 44', Decimal('249.7900'), 'Black'),\n",
       " ('LL Mountain Frame - Black, 48', Decimal('249.7900'), 'Black'),\n",
       " ('LL Mountain Frame - Black, 52', Decimal('249.7900'), 'Black'),\n",
       " ('LL Mountain Tire', Decimal('24.9900'), None),\n",
       " ('ML Mountain Tire', Decimal('29.9900'), None),\n",
       " ('HL Mountain Tire', Decimal('35.0000'), None),\n",
       " ('LL Road Tire', Decimal('21.4900'), None),\n",
       " ('ML Road Tire', Decimal('24.9900'), None),\n",
       " ('HL Road Tire', Decimal('32.6000'), None),\n",
       " ('Touring Tire', Decimal('28.9900'), None),\n",
       " ('LL Mountain Pedal', Decimal('40.4900'), 'Silver/Black'),\n",
       " ('ML Mountain Pedal', Decimal('62.0900'), 'Silver/Black'),\n",
       " ('HL Mountain Pedal', Decimal('80.9900'), 'Silver/Black'),\n",
       " ('LL Road Pedal', Decimal('40.4900'), 'Silver/Black'),\n",
       " ('ML Road Pedal', Decimal('62.0900'), 'Silver/Black'),\n",
       " ('HL Road Pedal', Decimal('80.9900'), 'Silver/Black'),\n",
       " ('Touring Pedal', Decimal('80.9900'), 'Silver/Black'),\n",
       " ('ML Mountain Frame-W - Silver, 38', Decimal('364.0900'), 'Silver'),\n",
       " ('LL Mountain Frame - Black, 40', Decimal('249.7900'), 'Black'),\n",
       " ('LL Mountain Frame - Silver, 40', Decimal('264.0500'), 'Silver'),\n",
       " ('Front Derailleur', Decimal('91.4900'), 'Silver'),\n",
       " ('LL Touring Handlebars', Decimal('46.0900'), None),\n",
       " ('HL Touring Handlebars', Decimal('91.5700'), None),\n",
       " ('Front Brakes', Decimal('106.5000'), 'Silver'),\n",
       " ('LL Crankset', Decimal('175.4900'), 'Black'),\n",
       " ('ML Crankset', Decimal('256.4900'), 'Black'),\n",
       " ('HL Crankset', Decimal('404.9900'), 'Black'),\n",
       " ('Chain', Decimal('20.2400'), 'Silver'),\n",
       " ('Touring-2000 Blue, 60', Decimal('1214.8500'), 'Blue'),\n",
       " ('Touring-1000 Yellow, 46', Decimal('2384.0700'), 'Yellow'),\n",
       " ('Touring-1000 Yellow, 50', Decimal('2384.0700'), 'Yellow'),\n",
       " ('Touring-1000 Yellow, 54', Decimal('2384.0700'), 'Yellow'),\n",
       " ('Touring-1000 Yellow, 60', Decimal('2384.0700'), 'Yellow'),\n",
       " ('Touring-3000 Blue, 54', Decimal('742.3500'), 'Blue'),\n",
       " ('Touring-3000 Blue, 58', Decimal('742.3500'), 'Blue'),\n",
       " ('Touring-3000 Blue, 62', Decimal('742.3500'), 'Blue'),\n",
       " ('Touring-3000 Yellow, 44', Decimal('742.3500'), 'Yellow'),\n",
       " ('Touring-3000 Yellow, 50', Decimal('742.3500'), 'Yellow'),\n",
       " ('Touring-3000 Yellow, 54', Decimal('742.3500'), 'Yellow'),\n",
       " ('Touring-3000 Yellow, 58', Decimal('742.3500'), 'Yellow'),\n",
       " ('Touring-3000 Yellow, 62', Decimal('742.3500'), 'Yellow'),\n",
       " ('Touring-1000 Blue, 46', Decimal('2384.0700'), 'Blue'),\n",
       " ('Touring-1000 Blue, 50', Decimal('2384.0700'), 'Blue'),\n",
       " ('Touring-1000 Blue, 54', Decimal('2384.0700'), 'Blue'),\n",
       " ('Touring-1000 Blue, 60', Decimal('2384.0700'), 'Blue'),\n",
       " ('Touring-2000 Blue, 46', Decimal('1214.8500'), 'Blue'),\n",
       " ('Touring-2000 Blue, 50', Decimal('1214.8500'), 'Blue'),\n",
       " ('Touring-2000 Blue, 54', Decimal('1214.8500'), 'Blue'),\n",
       " ('Road-350-W Yellow, 40', Decimal('1700.9900'), 'Yellow'),\n",
       " ('Road-350-W Yellow, 42', Decimal('1700.9900'), 'Yellow'),\n",
       " ('Road-350-W Yellow, 44', Decimal('1700.9900'), 'Yellow'),\n",
       " ('Road-350-W Yellow, 48', Decimal('1700.9900'), 'Yellow'),\n",
       " ('Road-750 Black, 58', Decimal('539.9900'), 'Black'),\n",
       " ('Touring-3000 Blue, 44', Decimal('742.3500'), 'Blue'),\n",
       " ('Touring-3000 Blue, 50', Decimal('742.3500'), 'Blue'),\n",
       " ('Mountain-400-W Silver, 38', Decimal('769.4900'), 'Silver'),\n",
       " ('Mountain-400-W Silver, 40', Decimal('769.4900'), 'Silver'),\n",
       " ('Mountain-400-W Silver, 42', Decimal('769.4900'), 'Silver'),\n",
       " ('Mountain-400-W Silver, 46', Decimal('769.4900'), 'Silver'),\n",
       " ('Mountain-500 Silver, 40', Decimal('564.9900'), 'Silver'),\n",
       " ('Mountain-500 Silver, 42', Decimal('564.9900'), 'Silver'),\n",
       " ('Mountain-500 Silver, 44', Decimal('564.9900'), 'Silver'),\n",
       " ('Mountain-500 Silver, 48', Decimal('564.9900'), 'Silver'),\n",
       " ('Mountain-500 Silver, 52', Decimal('564.9900'), 'Silver'),\n",
       " ('Mountain-500 Black, 40', Decimal('539.9900'), 'Black'),\n",
       " ('Mountain-500 Black, 42', Decimal('539.9900'), 'Black'),\n",
       " ('Mountain-500 Black, 44', Decimal('539.9900'), 'Black'),\n",
       " ('Mountain-500 Black, 48', Decimal('539.9900'), 'Black'),\n",
       " ('Mountain-500 Black, 52', Decimal('539.9900'), 'Black'),\n",
       " ('LL Bottom Bracket', Decimal('53.9900'), None),\n",
       " ('ML Bottom Bracket', Decimal('101.2400'), None),\n",
       " ('HL Bottom Bracket', Decimal('121.4900'), None),\n",
       " ('Road-750 Black, 44', Decimal('539.9900'), 'Black'),\n",
       " ('Road-750 Black, 48', Decimal('539.9900'), 'Black'),\n",
       " ('Road-750 Black, 52', Decimal('539.9900'), 'Black')]"
      ]
     },
     "execution_count": 43,
     "metadata": {},
     "output_type": "execute_result"
    }
   ],
   "source": [
    "imlec.fetchall()"
   ]
  },
  {
   "cell_type": "code",
   "execution_count": 44,
   "id": "e358bcff-ca1c-4b6c-85d0-834e1966a436",
   "metadata": {},
   "outputs": [
    {
     "name": "stderr",
     "output_type": "stream",
     "text": [
      "C:\\Users\\ragip\\AppData\\Local\\Temp\\ipykernel_8824\\1142020500.py:3: UserWarning: pandas only supports SQLAlchemy connectable (engine/connection) or database string URI or sqlite3 DBAPI2 connection. Other DBAPI2 objects are not tested. Please consider using SQLAlchemy.\n",
      "  df = pd.read_sql(\"SELECT NAme,ListPrice,Color FROM Production.Product\", con)\n"
     ]
    },
    {
     "data": {
      "text/html": [
       "<div>\n",
       "<style scoped>\n",
       "    .dataframe tbody tr th:only-of-type {\n",
       "        vertical-align: middle;\n",
       "    }\n",
       "\n",
       "    .dataframe tbody tr th {\n",
       "        vertical-align: top;\n",
       "    }\n",
       "\n",
       "    .dataframe thead th {\n",
       "        text-align: right;\n",
       "    }\n",
       "</style>\n",
       "<table border=\"1\" class=\"dataframe\">\n",
       "  <thead>\n",
       "    <tr style=\"text-align: right;\">\n",
       "      <th></th>\n",
       "      <th>NAme</th>\n",
       "      <th>ListPrice</th>\n",
       "      <th>Color</th>\n",
       "    </tr>\n",
       "  </thead>\n",
       "  <tbody>\n",
       "    <tr>\n",
       "      <th>0</th>\n",
       "      <td>Adjustable Race</td>\n",
       "      <td>0.0</td>\n",
       "      <td>None</td>\n",
       "    </tr>\n",
       "    <tr>\n",
       "      <th>1</th>\n",
       "      <td>Bearing Ball</td>\n",
       "      <td>0.0</td>\n",
       "      <td>None</td>\n",
       "    </tr>\n",
       "    <tr>\n",
       "      <th>2</th>\n",
       "      <td>BB Ball Bearing</td>\n",
       "      <td>0.0</td>\n",
       "      <td>None</td>\n",
       "    </tr>\n",
       "    <tr>\n",
       "      <th>3</th>\n",
       "      <td>Headset Ball Bearings</td>\n",
       "      <td>0.0</td>\n",
       "      <td>None</td>\n",
       "    </tr>\n",
       "    <tr>\n",
       "      <th>4</th>\n",
       "      <td>Blade</td>\n",
       "      <td>0.0</td>\n",
       "      <td>None</td>\n",
       "    </tr>\n",
       "  </tbody>\n",
       "</table>\n",
       "</div>"
      ],
      "text/plain": [
       "                    NAme  ListPrice Color\n",
       "0        Adjustable Race        0.0  None\n",
       "1           Bearing Ball        0.0  None\n",
       "2        BB Ball Bearing        0.0  None\n",
       "3  Headset Ball Bearings        0.0  None\n",
       "4                  Blade        0.0  None"
      ]
     },
     "execution_count": 44,
     "metadata": {},
     "output_type": "execute_result"
    }
   ],
   "source": [
    "import pandas as pd\n",
    "\n",
    "df = pd.read_sql(\"SELECT NAme,ListPrice,Color FROM Production.Product\", con)\n",
    "df.head()"
   ]
  },
  {
   "cell_type": "code",
   "execution_count": 45,
   "id": "ab12cf81-c9b7-411a-8171-28ae24a548b8",
   "metadata": {},
   "outputs": [],
   "source": [
    "from matplotlib import pyplot as plt"
   ]
  },
  {
   "cell_type": "code",
   "execution_count": 47,
   "id": "9ae80f1e-21e6-45e4-beaf-94001a41eff7",
   "metadata": {},
   "outputs": [
    {
     "data": {
      "image/png": "[encoded data removed]",
      "text/plain": [
       "<Figure size 640x480 with 1 Axes>"
      ]
     },
     "metadata": {},
     "output_type": "display_data"
    }
   ],
   "source": [
    "plt.hist(df.ListPrice, bins=4)\n",
    "plt.show()"
   ]
  },
  {
   "cell_type": "code",
   "execution_count": 48,
   "id": "42036114-58d6-45c6-89ca-c5140929eec6",
   "metadata": {},
   "outputs": [],
   "source": [
    "con.close()"
   ]
  },
  {
   "cell_type": "code",
   "execution_count": null,
   "id": "0ea75be7-f385-4ed6-a483-54e42422d1e0",
   "metadata": {},
   "outputs": [],
   "source": []
  }
 ],
 "metadata": {
  "kernelspec": {
   "display_name": "Python 3 (ipykernel)",
   "language": "python",
   "name": "python3"
  },
  "language_info": {
   "codemirror_mode": {
    "name": "ipython",
    "version": 3
   },
   "file_extension": ".py",
   "mimetype": "text/x-python",
   "name": "python",
   "nbconvert_exporter": "python",
   "pygments_lexer": "ipython3",
   "version": "3.9.5"
  }
 },
 "nbformat": 4,
 "nbformat_minor": 5
}
