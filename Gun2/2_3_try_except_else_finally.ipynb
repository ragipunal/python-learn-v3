{
 "cells": [
  {
   "cell_type": "markdown",
   "id": "217b9fc2-bbce-4fc8-a2e5-33baf491d631",
   "metadata": {},
   "source": [
    "## Hata türleri ve Hata Yönetimi\n",
    "1. **Mantık hataları:** mesela hiç çalışmayacak bir if yazmak\n",
    "2. **Syntax hataları:** yazım hatasıdır, kod çalışmadan önce hata mesajını görürüz\n",
    "3. **Run-time hataları:** kod normalde çalışır ancak bazı istisnai durumlarda program hata verir ve sonlanır\n",
    "    * Bu tür hatalarda programın nasıl davranacağını tarif etmek gerekir.\n",
    "    * `try-except-else-finally` ile bu tür hataları yönetebiliriz"
   ]
  },
  {
   "cell_type": "code",
   "execution_count": 1,
   "id": "003cf30f-35cb-4a92-bdb4-bf42a5a298e5",
   "metadata": {},
   "outputs": [],
   "source": [
    "# 1. Mantık hatası\n",
    "\n",
    "if 1>2:\n",
    "    print(\"Bu mesaj hiç görünmeyecektir\")"
   ]
  },
  {
   "cell_type": "code",
   "execution_count": 2,
   "id": "3feafc42-5004-42a7-96f4-649830e8212d",
   "metadata": {},
   "outputs": [
    {
     "ename": "SyntaxError",
     "evalue": "invalid syntax (1132746147.py, line 4)",
     "output_type": "error",
     "traceback": [
      "\u001b[1;36m  Cell \u001b[1;32mIn [2], line 4\u001b[1;36m\u001b[0m\n\u001b[1;33m    if x % 2 = 0: # = atama, == karşılaştırma\u001b[0m\n\u001b[1;37m             ^\u001b[0m\n\u001b[1;31mSyntaxError\u001b[0m\u001b[1;31m:\u001b[0m invalid syntax\n"
     ]
    }
   ],
   "source": [
    "# 2. Syntax Hataları\n",
    "x = 12\n",
    "\n",
    "if x % 2 = 0: # = atama, == karşılaştırma\n",
    "    print(\"Çift sayıdır\")"
   ]
  },
  {
   "cell_type": "code",
   "execution_count": 8,
   "id": "e7544b19-2332-4058-8cc2-c3b0da3485c1",
   "metadata": {},
   "outputs": [
    {
     "name": "stdout",
     "output_type": "stream",
     "text": [
      "Sıfıra bölme hatası ile karşılaşıldı...\n",
      "---> Sistem hata mesajı: division by zero\n",
      "Hata olsa da olmasada finally çalışır.\n"
     ]
    }
   ],
   "source": [
    "# 3. Runtime Hataları\n",
    "# farklı hatalarda farklı tepkiler verebilmek için birden fazla excep kullanılabilir.\n",
    "\n",
    "x = 12\n",
    "y = 0\n",
    "sonuc = None\n",
    "\n",
    "try:\n",
    "    sonuc = x / y\n",
    "    \n",
    "    # raise Exception(\"Kasıtlı hata\")\n",
    "        \n",
    "    print(sonuc) # buraya kadar geldiyse hata yok demektir.\n",
    "except ZeroDivisionError as exz: # hataya takma isim verdim\n",
    "    print(\"Sıfıra bölme hatası ile karşılaşıldı...\")\n",
    "    print(f\"---> Sistem hata mesajı: {exz}\")\n",
    "except Exception as ex:\n",
    "    # hata olduğunda ne yapılacağınu yaz\n",
    "    print(f\"Bir hata ile karşılaşıldı. Developer bilgilendirildi. -> {ex}\")\n",
    "else:\n",
    "    # hata olmadığında çalışacak bloktur.\n",
    "    print(f\"Else hata olmadığında çalışır: {sonuc}\")\n",
    "finally:\n",
    "    # hata olsa da olmasada çalışır. kaynakları serbest bırakmak bağlantıları kapatmak için kullanırız.\n",
    "    print(\"Hata olsa da olmasada finally çalışır.\")\n",
    "    "
   ]
  },
  {
   "cell_type": "code",
   "execution_count": 11,
   "id": "64edde43-1ce4-4b8b-9f2c-fe679e4f6aff",
   "metadata": {},
   "outputs": [
    {
     "name": "stdout",
     "output_type": "stream",
     "text": [
      "['ArithmeticError', 'AssertionError', 'AttributeError', 'BlockingIOError', 'BrokenPipeError', 'BufferError', 'ChildProcessError', 'ConnectionAbortedError', 'ConnectionError', 'ConnectionRefusedError', 'ConnectionResetError', 'EOFError', 'EnvironmentError', 'FileExistsError', 'FileNotFoundError', 'FloatingPointError', 'IOError', 'ImportError', 'IndentationError', 'IndexError', 'InterruptedError', 'IsADirectoryError', 'KeyError', 'LookupError', 'MemoryError', 'ModuleNotFoundError', 'NameError', 'NotADirectoryError', 'NotImplementedError', 'OSError', 'OverflowError', 'PermissionError', 'ProcessLookupError', 'RecursionError', 'ReferenceError', 'RuntimeError', 'SyntaxError', 'SystemError', 'TabError', 'TimeoutError', 'TypeError', 'UnboundLocalError', 'UnicodeDecodeError', 'UnicodeEncodeError', 'UnicodeError', 'UnicodeTranslateError', 'ValueError', 'WindowsError', 'ZeroDivisionError']\n",
      "['ArithmeticError', 'AssertionError', 'AttributeError', 'BlockingIOError', 'BrokenPipeError', 'BufferError', 'ChildProcessError', 'ConnectionAbortedError', 'ConnectionError', 'ConnectionRefusedError', 'ConnectionResetError', 'EOFError', 'EnvironmentError', 'FileExistsError', 'FileNotFoundError', 'FloatingPointError', 'IOError', 'ImportError', 'IndentationError', 'IndexError', 'InterruptedError', 'IsADirectoryError', 'KeyError', 'LookupError', 'MemoryError', 'ModuleNotFoundError', 'NameError', 'NotADirectoryError', 'NotImplementedError', 'OSError', 'OverflowError', 'PermissionError', 'ProcessLookupError', 'RecursionError', 'ReferenceError', 'RuntimeError', 'SyntaxError', 'SystemError', 'TabError', 'TimeoutError', 'TypeError', 'UnboundLocalError', 'UnicodeDecodeError', 'UnicodeEncodeError', 'UnicodeError', 'UnicodeTranslateError', 'ValueError', 'WindowsError', 'ZeroDivisionError']\n"
     ]
    }
   ],
   "source": [
    "## içinde error kelimesi geçen gömülü nesnelerin listesi al\n",
    "# 1. yöntem tek satır.\n",
    "errors = [s for s in dir(__builtins__) if \"Error\" in s]\n",
    "print(errors)\n",
    "\n",
    "## 2. yöntem \n",
    "errors = []\n",
    "for s in dir(__builtins__):\n",
    "    if \"Error\" in s:\n",
    "        errors.append(s)\n",
    "print(errors)"
   ]
  },
  {
   "cell_type": "code",
   "execution_count": null,
   "id": "82713a9a-fd6b-4ba2-9805-ffcd442e50ec",
   "metadata": {},
   "outputs": [],
   "source": []
  }
 ],
 "metadata": {
  "kernelspec": {
   "display_name": "Python 3 (ipykernel)",
   "language": "python",
   "name": "python3"
  },
  "language_info": {
   "codemirror_mode": {
    "name": "ipython",
    "version": 3
   },
   "file_extension": ".py",
   "mimetype": "text/x-python",
   "name": "python",
   "nbconvert_exporter": "python",
   "pygments_lexer": "ipython3",
   "version": "3.9.5"
  }
 },
 "nbformat": 4,
 "nbformat_minor": 5
}
